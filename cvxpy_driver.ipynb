{
 "cells": [
  {
   "cell_type": "markdown",
   "id": "848eae70",
   "metadata": {},
   "source": [
    "External dependencies"
   ]
  },
  {
   "cell_type": "code",
   "execution_count": null,
   "id": "23cdba70",
   "metadata": {},
   "outputs": [],
   "source": [
    "import cvxpy as cp"
   ]
  },
  {
   "cell_type": "markdown",
   "id": "e96edb2e",
   "metadata": {},
   "source": [
    "Problem data"
   ]
  },
  {
   "cell_type": "code",
   "execution_count": null,
   "id": "d34a7f85",
   "metadata": {},
   "outputs": [],
   "source": [
    "from pjm5bus_pandas import buses, generators, lines, offers, reference_bus\n",
    "\n",
    "base_power = 100  # [MVA]"
   ]
  },
  {
   "cell_type": "markdown",
   "id": "06ff03f1",
   "metadata": {},
   "source": [
    "Build index mappings"
   ]
  },
  {
   "cell_type": "code",
   "execution_count": null,
   "id": "1a122935",
   "metadata": {},
   "outputs": [],
   "source": [
    "bus_idx = {bus_id: i for i, bus_id in enumerate(buses[\"id\"])}\n",
    "offers = offers.merge(generators, left_on=\"generator_id\", right_on=\"id\")"
   ]
  },
  {
   "cell_type": "markdown",
   "id": "506afc0c",
   "metadata": {},
   "source": [
    "Decision variables"
   ]
  },
  {
   "cell_type": "code",
   "execution_count": null,
   "id": "c6c5ef31",
   "metadata": {
    "lines_to_next_cell": 2
   },
   "outputs": [],
   "source": [
    "p = cp.Variable(len(offers), name=\"p\")  # generation\n",
    "f = cp.Variable(len(lines), name=\"f\")  # line flows\n",
    "θ = cp.Variable(len(buses), name=\"θ\")  # bus angles"
   ]
  },
  {
   "cell_type": "markdown",
   "id": "d835c968",
   "metadata": {},
   "source": [
    "Power balance constraint at each bus"
   ]
  },
  {
   "cell_type": "code",
   "execution_count": null,
   "id": "edee91ba",
   "metadata": {},
   "outputs": [],
   "source": [
    "balance_constraints = []\n",
    "for i, row in buses.iterrows():\n",
    "    bus_id = row[\"id\"]\n",
    "    offers_in = offers[offers[\"bus_id\"] == bus_id].index\n",
    "    lines_in = lines[lines[\"to_bus_id\"] == bus_id].index\n",
    "    lines_out = lines[lines[\"from_bus_id\"] == bus_id].index\n",
    "    balance_constraints.append(\n",
    "        cp.sum(p[offers_in]) + cp.sum(f[lines_in])\n",
    "        == buses.at[i, \"load\"] + cp.sum(f[lines_out])\n",
    "    )"
   ]
  },
  {
   "cell_type": "markdown",
   "id": "a4d5bfcd",
   "metadata": {},
   "source": [
    "Power flow constraint on each line"
   ]
  },
  {
   "cell_type": "code",
   "execution_count": null,
   "id": "bb7265d5",
   "metadata": {},
   "outputs": [],
   "source": [
    "flow_constraints = []\n",
    "for i, row in lines.iterrows():\n",
    "    bus_from = bus_idx[row[\"from_bus_id\"]]\n",
    "    bus_to = bus_idx[row[\"to_bus_id\"]]\n",
    "    reactance = row[\"reactance\"]\n",
    "    flow_constraints.append(f[i] == (θ[bus_from] - θ[bus_to]) * base_power / reactance)"
   ]
  },
  {
   "cell_type": "markdown",
   "id": "2a7a5148",
   "metadata": {},
   "source": [
    "Objective function"
   ]
  },
  {
   "cell_type": "code",
   "execution_count": null,
   "id": "bfb3bffe",
   "metadata": {},
   "outputs": [],
   "source": [
    "objective = cp.Minimize(\n",
    "    cp.sum([offer[\"price\"] * p[o] for o, offer in offers.iterrows()])\n",
    ")"
   ]
  },
  {
   "cell_type": "markdown",
   "id": "8dbda637",
   "metadata": {},
   "source": [
    "Solve"
   ]
  },
  {
   "cell_type": "code",
   "execution_count": null,
   "id": "cdd92c22",
   "metadata": {},
   "outputs": [],
   "source": [
    "problem = cp.Problem(\n",
    "    objective,\n",
    "    [\n",
    "        *balance_constraints,\n",
    "        *flow_constraints,\n",
    "        f >= -lines[\"capacity\"],\n",
    "        f <= lines[\"capacity\"],\n",
    "        p >= 0,\n",
    "        p <= offers[\"quantity\"],\n",
    "        θ[bus_idx[reference_bus]] == 0,\n",
    "    ],\n",
    ")\n",
    "problem.solve(solver=\"ECOS\")"
   ]
  },
  {
   "cell_type": "markdown",
   "id": "570eef47",
   "metadata": {},
   "source": [
    "Attach results"
   ]
  },
  {
   "cell_type": "code",
   "execution_count": null,
   "id": "71e9791c",
   "metadata": {},
   "outputs": [],
   "source": [
    "offers[\"dispatch\"] = p.value\n",
    "lines[\"flow\"] = f.value\n",
    "buses[\"angle\"] = θ.value\n",
    "buses[\"price\"] = [c.dual_value for c in balance_constraints]\n",
    "\n",
    "print(f\"Optimal dispatch cost: ${problem.value:.2f} / h\")"
   ]
  }
 ],
 "metadata": {
  "jupytext": {
   "cell_metadata_filter": "-all",
   "main_language": "python",
   "notebook_metadata_filter": "-all"
  }
 },
 "nbformat": 4,
 "nbformat_minor": 5
}
