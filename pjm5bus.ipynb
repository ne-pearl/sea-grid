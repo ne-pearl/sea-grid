{
 "cells": [
  {
   "cell_type": "markdown",
   "id": "7d083f61",
   "metadata": {},
   "source": [
    "External dependencies"
   ]
  },
  {
   "cell_type": "code",
   "execution_count": 6,
   "id": "d2f33e49",
   "metadata": {},
   "outputs": [],
   "source": [
    "from polars import DataFrame\n",
    "from sea_schema import *"
   ]
  },
  {
   "cell_type": "markdown",
   "id": "0920dc21",
   "metadata": {},
   "source": [
    "System data"
   ]
  },
  {
   "cell_type": "code",
   "execution_count": 7,
   "id": "f8f813a3",
   "metadata": {},
   "outputs": [],
   "source": [
    "buses = DataFrame(\n",
    "    [\n",
    "        (\"A\", 0.0, 0.0, 0.0),\n",
    "        (\"B\", 300.0, 1.0, 0.0),\n",
    "        (\"C\", 300.0, 2.0, 0.0),\n",
    "        (\"D\", 400.0, 2.0, 1.0),\n",
    "        (\"E\", 0.0, 0.0, 2.0),\n",
    "    ],\n",
    "    schema={\"id\": Id, \"load\": MW, \"x\": Distance, \"y\": Distance},\n",
    "    orient=\"row\",\n",
    ")"
   ]
  },
  {
   "cell_type": "code",
   "execution_count": 8,
   "id": "44f67e73",
   "metadata": {},
   "outputs": [],
   "source": [
    "generators = DataFrame(\n",
    "    [\n",
    "        (\"Alta\", \"A\"),\n",
    "        (\"ParkCity\", \"A\"),\n",
    "        (\"Solitude\", \"C\"),\n",
    "        (\"Sundance\", \"D\"),\n",
    "        (\"Brighton\", \"E\"),\n",
    "    ],\n",
    "    schema={\"id\": Id, \"bus_id\": Id},\n",
    "    orient=\"row\",\n",
    ")"
   ]
  },
  {
   "cell_type": "code",
   "execution_count": 9,
   "id": "f5c6b8e0",
   "metadata": {},
   "outputs": [],
   "source": [
    "lines = DataFrame(\n",
    "    [\n",
    "        (\"A\", \"B\", 400.0, 2.81),\n",
    "        (\"A\", \"D\", 1000.0, 3.04),\n",
    "        (\"A\", \"E\", 1000.0, 0.64),\n",
    "        (\"B\", \"C\", 1000.0, 1.08),\n",
    "        (\"C\", \"D\", 1000.0, 2.97),\n",
    "        (\"D\", \"E\", 240.0, 2.97),\n",
    "    ],\n",
    "    schema={\"from_bus_id\": Id, \"to_bus_id\": Id, \"capacity\": MW, \"reactance\": PU},\n",
    "    orient=\"row\",\n",
    ")"
   ]
  },
  {
   "cell_type": "code",
   "execution_count": 10,
   "id": "71938115",
   "metadata": {},
   "outputs": [],
   "source": [
    "offers = DataFrame(\n",
    "    [\n",
    "        (\"Alta\", 40.0, 14.0),\n",
    "        (\"ParkCity\", 170.0, 15.0),\n",
    "        (\"Solitude\", 520.0, 30.0),\n",
    "        (\"Sundance\", 200.0, 40.0),\n",
    "        (\"Brighton\", 600.0, 10.0),\n",
    "    ],\n",
    "    schema={\"generator_id\": Id, \"max_quantity\": MW, \"price\": USDPerMWh},\n",
    "    orient=\"row\",\n",
    ")"
   ]
  }
 ],
 "metadata": {
  "kernelspec": {
   "display_name": ".venv",
   "language": "python",
   "name": "python3"
  },
  "language_info": {
   "codemirror_mode": {
    "name": "ipython",
    "version": 3
   },
   "file_extension": ".py",
   "mimetype": "text/x-python",
   "name": "python",
   "nbconvert_exporter": "python",
   "pygments_lexer": "ipython3",
   "version": "3.11.9"
  }
 },
 "nbformat": 4,
 "nbformat_minor": 5
}
