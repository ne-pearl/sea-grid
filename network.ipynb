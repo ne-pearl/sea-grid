{
 "cells": [
  {
   "cell_type": "markdown",
   "id": "161fb904",
   "metadata": {},
   "source": [
    "Module imports and configuration"
   ]
  },
  {
   "cell_type": "code",
   "execution_count": 1,
   "id": "72c10e28",
   "metadata": {},
   "outputs": [
    {
     "data": {
      "text/plain": [
       "polars.config.Config"
      ]
     },
     "execution_count": 1,
     "metadata": {},
     "output_type": "execute_result"
    }
   ],
   "source": [
    "import math\n",
    "from typing import TypeAlias\n",
    "import IPython\n",
    "import matplotlib.cm as cm\n",
    "import matplotlib.colors as mc\n",
    "import matplotlib.pyplot as plt\n",
    "import networkx as nx\n",
    "import numpy as np\n",
    "import polars as pl\n",
    "import pyomo.environ as pyo\n",
    "from pyomo.core import Model\n",
    "from pyomo.core.expr.relational_expr import EqualityExpression\n",
    "\n",
    "# Prevent truncation of tall tables\n",
    "IPython.core.interactiveshell.InteractiveShell.ast_node_interactivity = \"all\"\n",
    "pl.Config.set_tbl_rows(-1)  # \"unlimited rows\""
   ]
  },
  {
   "cell_type": "markdown",
   "id": "bf97bfc0",
   "metadata": {},
   "source": [
    "Units of measure"
   ]
  },
  {
   "cell_type": "code",
   "execution_count": 2,
   "id": "88e4b779",
   "metadata": {},
   "outputs": [],
   "source": [
    "Id: TypeAlias = pl.String\n",
    "MW: TypeAlias = pl.Float64\n",
    "MWPerRad: TypeAlias = pl.Float64\n",
    "USDPerMWh: TypeAlias = pl.Float64"
   ]
  },
  {
   "cell_type": "markdown",
   "id": "aca26dca",
   "metadata": {},
   "source": [
    "Bus data"
   ]
  },
  {
   "cell_type": "code",
   "execution_count": 3,
   "id": "f6be045b",
   "metadata": {},
   "outputs": [],
   "source": [
    "buses = pl.DataFrame(\n",
    "    {\n",
    "        \"id\": [\"B1\", \"B2\", \"B3\"],\n",
    "        \"load\": [0.0, 0.0, 150.0],\n",
    "    },\n",
    "    schema={\"id\": Id, \"load\": MW},\n",
    ")"
   ]
  },
  {
   "cell_type": "code",
   "execution_count": 4,
   "id": "1a85bb20",
   "metadata": {},
   "outputs": [
    {
     "data": {
      "text/html": [
       "<div><style>\n",
       ".dataframe > thead > tr,\n",
       ".dataframe > tbody > tr {\n",
       "  text-align: right;\n",
       "  white-space: pre-wrap;\n",
       "}\n",
       "</style>\n",
       "<small>shape: (3, 2)</small><table border=\"1\" class=\"dataframe\"><thead><tr><th>id</th><th>load</th></tr><tr><td>str</td><td>f64</td></tr></thead><tbody><tr><td>&quot;B1&quot;</td><td>0.0</td></tr><tr><td>&quot;B2&quot;</td><td>0.0</td></tr><tr><td>&quot;B3&quot;</td><td>150.0</td></tr></tbody></table></div>"
      ],
      "text/plain": [
       "shape: (3, 2)\n",
       "┌─────┬───────┐\n",
       "│ id  ┆ load  │\n",
       "│ --- ┆ ---   │\n",
       "│ str ┆ f64   │\n",
       "╞═════╪═══════╡\n",
       "│ B1  ┆ 0.0   │\n",
       "│ B2  ┆ 0.0   │\n",
       "│ B3  ┆ 150.0 │\n",
       "└─────┴───────┘"
      ]
     },
     "execution_count": 4,
     "metadata": {},
     "output_type": "execute_result"
    }
   ],
   "source": [
    "buses"
   ]
  },
  {
   "cell_type": "markdown",
   "id": "b78b9e52",
   "metadata": {},
   "source": [
    "Generator data"
   ]
  },
  {
   "cell_type": "code",
   "execution_count": 5,
   "id": "b3f54a11",
   "metadata": {},
   "outputs": [],
   "source": [
    "generators = pl.DataFrame(  # excludes \"capacity\", \"cost\"!\n",
    "    {\n",
    "        \"id\": [\"G1\", \"G2\", \"G3\"],\n",
    "        \"bus_id\": [\"B1\", \"B2\", \"B1\"],\n",
    "    },\n",
    "    schema={\"id\": Id, \"bus_id\": Id},\n",
    ")"
   ]
  },
  {
   "cell_type": "markdown",
   "id": "f469dcf6",
   "metadata": {},
   "source": [
    "Line data"
   ]
  },
  {
   "cell_type": "code",
   "execution_count": 6,
   "id": "c4db4cd5",
   "metadata": {},
   "outputs": [],
   "source": [
    "lines = pl.DataFrame(\n",
    "    {\n",
    "        \"from_bus_id\": [\"B1\", \"B1\", \"B2\"],\n",
    "        \"to_bus_id\": [\"B2\", \"B3\", \"B3\"],\n",
    "        \"susceptance\": [1000, 1000, 1000],\n",
    "        \"capacity\": [30.0, 100.0, 100.0],\n",
    "    },\n",
    "    schema={\n",
    "        \"from_bus_id\": Id,\n",
    "        \"to_bus_id\": Id,\n",
    "        \"susceptance\": MWPerRad,\n",
    "        \"capacity\": MW,\n",
    "    },\n",
    ")"
   ]
  },
  {
   "cell_type": "markdown",
   "id": "65f94c38",
   "metadata": {},
   "source": [
    "Ensure edge pairs are consistely ordered to simplify look-ups"
   ]
  },
  {
   "cell_type": "code",
   "execution_count": 7,
   "id": "2a63ccf3",
   "metadata": {},
   "outputs": [],
   "source": [
    "pairs = list(zip(lines[:, \"from_bus_id\"], lines[:, \"to_bus_id\"]))\n",
    "lines = lines.with_columns(\n",
    "    from_bus_id=pl.Series(min(p) for p in pairs),\n",
    "    to_bus_id=pl.Series(max(p) for p in pairs),\n",
    ")"
   ]
  },
  {
   "cell_type": "markdown",
   "id": "7344b8f4",
   "metadata": {},
   "source": [
    "Offer data"
   ]
  },
  {
   "cell_type": "code",
   "execution_count": 8,
   "id": "ffa05cf2",
   "metadata": {},
   "outputs": [],
   "source": [
    "offers = pl.DataFrame(\n",
    "    {\n",
    "        \"generator_id\": [\"G1\", \"G2\", \"G3\", \"G1\", \"G2\", \"G3\", \"G1\", \"G2\", \"G3\"],\n",
    "        \"max_quantity\": [200.0, 200.0, 200.0, 100.0, 100.0, 100.0, 200.0, 200.0, 200.0],\n",
    "        \"price\": [10.00, 12.00, 14.00, 20.00, 22.00, 24.00, 15.00, 16.00, 17.00],\n",
    "    },\n",
    "    schema={\"generator_id\": Id, \"max_quantity\": MW, \"price\": USDPerMWh},\n",
    ").sort(by=[\"generator_id\", \"price\"])"
   ]
  },
  {
   "cell_type": "markdown",
   "id": "506096d2",
   "metadata": {},
   "source": [
    "Generate a unique identifier for each offer"
   ]
  },
  {
   "cell_type": "code",
   "execution_count": 9,
   "id": "57bdcf22",
   "metadata": {},
   "outputs": [],
   "source": [
    "for column in [\n",
    "    pl.arange(0, pl.len()).over(\"generator_id\").alias(\"tranche\"),\n",
    "    pl.format(\"{}/{}\", pl.col(\"generator_id\"), pl.col(\"tranche\") + 1).alias(\"id\"),\n",
    "]:\n",
    "    offers = offers.with_columns(column)"
   ]
  },
  {
   "cell_type": "code",
   "execution_count": 10,
   "id": "34187c08",
   "metadata": {},
   "outputs": [
    {
     "data": {
      "text/html": [
       "<div><style>\n",
       ".dataframe > thead > tr,\n",
       ".dataframe > tbody > tr {\n",
       "  text-align: right;\n",
       "  white-space: pre-wrap;\n",
       "}\n",
       "</style>\n",
       "<small>shape: (9, 5)</small><table border=\"1\" class=\"dataframe\"><thead><tr><th>generator_id</th><th>max_quantity</th><th>price</th><th>tranche</th><th>id</th></tr><tr><td>str</td><td>f64</td><td>f64</td><td>i64</td><td>str</td></tr></thead><tbody><tr><td>&quot;G1&quot;</td><td>200.0</td><td>10.0</td><td>0</td><td>&quot;G1/1&quot;</td></tr><tr><td>&quot;G1&quot;</td><td>200.0</td><td>15.0</td><td>1</td><td>&quot;G1/2&quot;</td></tr><tr><td>&quot;G1&quot;</td><td>100.0</td><td>20.0</td><td>2</td><td>&quot;G1/3&quot;</td></tr><tr><td>&quot;G2&quot;</td><td>200.0</td><td>12.0</td><td>0</td><td>&quot;G2/1&quot;</td></tr><tr><td>&quot;G2&quot;</td><td>200.0</td><td>16.0</td><td>1</td><td>&quot;G2/2&quot;</td></tr><tr><td>&quot;G2&quot;</td><td>100.0</td><td>22.0</td><td>2</td><td>&quot;G2/3&quot;</td></tr><tr><td>&quot;G3&quot;</td><td>200.0</td><td>14.0</td><td>0</td><td>&quot;G3/1&quot;</td></tr><tr><td>&quot;G3&quot;</td><td>200.0</td><td>17.0</td><td>1</td><td>&quot;G3/2&quot;</td></tr><tr><td>&quot;G3&quot;</td><td>100.0</td><td>24.0</td><td>2</td><td>&quot;G3/3&quot;</td></tr></tbody></table></div>"
      ],
      "text/plain": [
       "shape: (9, 5)\n",
       "┌──────────────┬──────────────┬───────┬─────────┬──────┐\n",
       "│ generator_id ┆ max_quantity ┆ price ┆ tranche ┆ id   │\n",
       "│ ---          ┆ ---          ┆ ---   ┆ ---     ┆ ---  │\n",
       "│ str          ┆ f64          ┆ f64   ┆ i64     ┆ str  │\n",
       "╞══════════════╪══════════════╪═══════╪═════════╪══════╡\n",
       "│ G1           ┆ 200.0        ┆ 10.0  ┆ 0       ┆ G1/1 │\n",
       "│ G1           ┆ 200.0        ┆ 15.0  ┆ 1       ┆ G1/2 │\n",
       "│ G1           ┆ 100.0        ┆ 20.0  ┆ 2       ┆ G1/3 │\n",
       "│ G2           ┆ 200.0        ┆ 12.0  ┆ 0       ┆ G2/1 │\n",
       "│ G2           ┆ 200.0        ┆ 16.0  ┆ 1       ┆ G2/2 │\n",
       "│ G2           ┆ 100.0        ┆ 22.0  ┆ 2       ┆ G2/3 │\n",
       "│ G3           ┆ 200.0        ┆ 14.0  ┆ 0       ┆ G3/1 │\n",
       "│ G3           ┆ 200.0        ┆ 17.0  ┆ 1       ┆ G3/2 │\n",
       "│ G3           ┆ 100.0        ┆ 24.0  ┆ 2       ┆ G3/3 │\n",
       "└──────────────┴──────────────┴───────┴─────────┴──────┘"
      ]
     },
     "execution_count": 10,
     "metadata": {},
     "output_type": "execute_result"
    }
   ],
   "source": [
    "offers"
   ]
  },
  {
   "cell_type": "markdown",
   "id": "dec01374",
   "metadata": {},
   "source": [
    "Index sets"
   ]
  },
  {
   "cell_type": "code",
   "execution_count": 11,
   "id": "69cfec3c",
   "metadata": {},
   "outputs": [],
   "source": [
    "Buses = range(buses.height)\n",
    "Lines = range(lines.height)\n",
    "Offers = range(offers.height)\n",
    "Generators = range(generators.height)"
   ]
  },
  {
   "cell_type": "markdown",
   "id": "5961a440",
   "metadata": {},
   "source": [
    "PyOMO optimization model "
   ]
  },
  {
   "cell_type": "code",
   "execution_count": 12,
   "id": "c129dd57",
   "metadata": {},
   "outputs": [],
   "source": [
    "model = pyo.ConcreteModel()"
   ]
  },
  {
   "cell_type": "markdown",
   "id": "34bf7b49",
   "metadata": {},
   "source": [
    "Associated numeric parameters"
   ]
  },
  {
   "cell_type": "code",
   "execution_count": 13,
   "id": "765a0ece",
   "metadata": {},
   "outputs": [],
   "source": [
    "model.loads = pyo.Param(\n",
    "    Buses, initialize={b: buses[b, \"load\"] for b in Buses}, mutable=True\n",
    ")\n",
    "model.susceptances = pyo.Param(\n",
    "    Lines, initialize={ell: lines[ell, \"susceptance\"] for ell in Lines}\n",
    ")"
   ]
  },
  {
   "cell_type": "markdown",
   "id": "6085edd8",
   "metadata": {},
   "source": [
    "Optimization decision variables and their bounds/limits"
   ]
  },
  {
   "cell_type": "code",
   "execution_count": 14,
   "id": "5fd6982f",
   "metadata": {},
   "outputs": [],
   "source": [
    "def supply_bounds(model: Model, o: int) -> tuple[float, float]:\n",
    "    return (0.0, offers[o, \"max_quantity\"])\n",
    "\n",
    "\n",
    "def flow_bounds(model: Model, ell: int) -> tuple[float, float]:\n",
    "    capacity = lines[ell, \"capacity\"]\n",
    "    return (-capacity, +capacity)\n",
    "\n",
    "\n",
    "model.p = pyo.Var(Offers, bounds=supply_bounds)\n",
    "model.f = pyo.Var(Lines, bounds=flow_bounds)\n",
    "model.theta = pyo.Var(Buses, bounds=(-math.pi, +math.pi))"
   ]
  },
  {
   "cell_type": "markdown",
   "id": "2d8569cf",
   "metadata": {},
   "source": [
    "Associated a dual variable with each constraint"
   ]
  },
  {
   "cell_type": "code",
   "execution_count": 15,
   "id": "ffd0cb05",
   "metadata": {},
   "outputs": [],
   "source": [
    "model.dual = pyo.Suffix(direction=pyo.Suffix.IMPORT)"
   ]
  },
  {
   "cell_type": "markdown",
   "id": "d2c96454",
   "metadata": {},
   "source": [
    "Optimization objective function"
   ]
  },
  {
   "cell_type": "code",
   "execution_count": 16,
   "id": "3f58cb6c",
   "metadata": {},
   "outputs": [],
   "source": [
    "model.total_cost = pyo.Objective(\n",
    "    expr=sum(offers[o, \"price\"] * model.p[o] for o in Offers),\n",
    "    sense=pyo.minimize,\n",
    ")"
   ]
  },
  {
   "cell_type": "markdown",
   "id": "8b6733f0",
   "metadata": {},
   "source": [
    "Incidence functions encoding bus-line and generator-bus-offer connectivity"
   ]
  },
  {
   "cell_type": "code",
   "execution_count": 17,
   "id": "f56ca82d",
   "metadata": {},
   "outputs": [],
   "source": [
    "def network_incidence(b: int, ell: int) -> int:\n",
    "    if buses[b, \"id\"] == lines[ell, \"from_bus_id\"]:\n",
    "        return -1\n",
    "    if buses[b, \"id\"] == lines[ell, \"to_bus_id\"]:\n",
    "        return +1\n",
    "    else:\n",
    "        return 0\n",
    "    \n",
    "def supply_incidence(b: int, g: int, o: int) -> bool:\n",
    "    node_generator: bool = buses[b, \"id\"] == generators[g, \"bus_id\"]\n",
    "    generator_offer: bool = generators[g, \"id\"] == offers[o, \"generator_id\"]\n",
    "    return node_generator and generator_offer"
   ]
  },
  {
   "cell_type": "markdown",
   "id": "d21959fa",
   "metadata": {},
   "source": [
    "Power balance constraint at each bus"
   ]
  },
  {
   "cell_type": "code",
   "execution_count": 18,
   "id": "87c446d8",
   "metadata": {},
   "outputs": [],
   "source": [
    "def balance_rule(model: Model, b: int) -> EqualityExpression:\n",
    "    return (\n",
    "        sum(model.p[o] for g in Generators for o in Offers if supply_incidence(b, g, o))\n",
    "        + sum(\n",
    "            sign * model.f[ell]\n",
    "            for ell in Lines\n",
    "            if (sign := network_incidence(b, ell)) != 0\n",
    "        )\n",
    "        == model.loads[b]\n",
    "    )\n",
    "\n",
    "model.balance = pyo.Constraint(Buses, rule=balance_rule)"
   ]
  },
  {
   "cell_type": "markdown",
   "id": "7f66e47a",
   "metadata": {},
   "source": [
    "Power flow relationship at each line"
   ]
  },
  {
   "cell_type": "code",
   "execution_count": 19,
   "id": "d62a7452",
   "metadata": {},
   "outputs": [],
   "source": [
    "def flow_rule(model: Model, ell: int) -> EqualityExpression:\n",
    "    return (\n",
    "        sum(\n",
    "            sign * model.susceptances[b] * model.theta[b]\n",
    "            for b in Buses\n",
    "            if (sign := network_incidence(b, ell))\n",
    "        )\n",
    "        == model.f[ell]\n",
    "    )\n",
    "\n",
    "model.flow = pyo.Constraint(Lines, rule=flow_rule)"
   ]
  },
  {
   "cell_type": "markdown",
   "id": "f2c878e4",
   "metadata": {},
   "source": [
    "Fix the voltage angle at the reference bus"
   ]
  },
  {
   "cell_type": "code",
   "execution_count": 20,
   "id": "71afd41c",
   "metadata": {},
   "outputs": [],
   "source": [
    "model.reference_angle = pyo.Constraint(expr=model.theta[0] == 0.0)"
   ]
  },
  {
   "cell_type": "markdown",
   "id": "86d52cfa",
   "metadata": {},
   "source": [
    "A function to optimize the model and return the objective value (total cost in $/h)"
   ]
  },
  {
   "cell_type": "code",
   "execution_count": 21,
   "id": "814ada1d",
   "metadata": {},
   "outputs": [],
   "source": [
    "def optimize(model, tee=False) -> float:\n",
    "    \"\"\"Solve the optimization problem encoded in model and return the objective value.\"\"\"\n",
    "    solver = pyo.SolverFactory(\"highs\")\n",
    "    results = solver.solve(model, tee=tee)\n",
    "    assert results.solver.termination_condition is pyo.TerminationCondition.optimal\n",
    "    return pyo.value(model.total_cost)"
   ]
  },
  {
   "cell_type": "markdown",
   "id": "99c4e4ad",
   "metadata": {},
   "source": [
    "Run the optimizer"
   ]
  },
  {
   "cell_type": "code",
   "execution_count": 22,
   "id": "d18577a3",
   "metadata": {},
   "outputs": [
    {
     "name": "stdout",
     "output_type": "stream",
     "text": [
      "Running HiGHS 1.10.0 (git hash: fd86653): Copyright (c) 2025 HiGHS under MIT licence terms\n",
      "LP   has 7 rows; 15 cols; 25 nonzeros\n",
      "Coefficient ranges:\n",
      "  Matrix [1e+00, 1e+03]\n",
      "  Cost   [1e+01, 2e+01]\n",
      "  Bound  [3e+00, 2e+02]\n",
      "  RHS    [2e+02, 2e+02]\n",
      "Presolving model\n",
      "5 rows, 6 cols, 13 nonzeros  0s\n",
      "0 rows, 0 cols, 0 nonzeros  0s\n",
      "Presolve : Reductions: rows 0(-7); columns 0(-15); elements 0(-25) - Reduced to empty\n",
      "Solving the original LP from the solution after postsolve\n",
      "Model status        : Optimal\n",
      "Objective value     :  1.5600000000e+03\n",
      "Relative P-D gap    :  0.0000000000e+00\n",
      "HiGHS run time      :          0.00\n"
     ]
    },
    {
     "data": {
      "text/plain": [
       "1560.0"
      ]
     },
     "execution_count": 22,
     "metadata": {},
     "output_type": "execute_result"
    }
   ],
   "source": [
    "optimize(model, tee=True)  # tee output to console"
   ]
  },
  {
   "cell_type": "markdown",
   "id": "952ab052",
   "metadata": {},
   "source": [
    "Exract optimal value of decision variables"
   ]
  },
  {
   "cell_type": "code",
   "execution_count": 23,
   "id": "630a299f",
   "metadata": {},
   "outputs": [],
   "source": [
    "quantity = [pyo.value(model.p[o]) for o in Offers]\n",
    "flow = [pyo.value(model.f[ell]) for ell in Lines]\n",
    "angles_deg = [pyo.value(model.theta[b]) * 180 / math.pi for b in Buses]"
   ]
  },
  {
   "cell_type": "markdown",
   "id": "fb8f7626",
   "metadata": {},
   "source": [
    "Extract the marginal prices: Derivatives of total system cost with respect to bus loads"
   ]
  },
  {
   "cell_type": "code",
   "execution_count": 24,
   "id": "992e5554",
   "metadata": {},
   "outputs": [],
   "source": [
    "marginal_prices = [model.dual[model.balance[b]] for b in Buses]"
   ]
  },
  {
   "cell_type": "code",
   "execution_count": 25,
   "id": "458e9fd7",
   "metadata": {},
   "outputs": [
    {
     "data": {
      "text/plain": [
       "[10.0, 12.0, 11.0]"
      ]
     },
     "execution_count": 25,
     "metadata": {},
     "output_type": "execute_result"
    }
   ],
   "source": [
    "marginal_prices"
   ]
  },
  {
   "cell_type": "markdown",
   "id": "832afaed",
   "metadata": {},
   "source": [
    "Extend data tables with decision variables"
   ]
  },
  {
   "cell_type": "code",
   "execution_count": 26,
   "id": "187656b3",
   "metadata": {},
   "outputs": [],
   "source": [
    "offers = offers.with_columns(quantity=pl.Series(quantity))\n",
    "lines = lines.with_columns(flow=pl.Series(flow))\n",
    "buses = buses.with_columns(\n",
    "    angle_deg=pl.Series(angles_deg), price=pl.Series(marginal_prices)\n",
    ")"
   ]
  },
  {
   "cell_type": "markdown",
   "id": "08d84483",
   "metadata": {},
   "source": [
    "Extend data tables with post-processed quantities"
   ]
  },
  {
   "cell_type": "code",
   "execution_count": 27,
   "id": "ad9e1f55",
   "metadata": {},
   "outputs": [],
   "source": [
    "lines = lines.with_columns(  # utilization of each line\n",
    "    (pl.col(\"flow\").abs() / pl.col(\"capacity\")).alias(\"utilization\")\n",
    ")\n",
    "offers = offers.join(  # bus_id for each offer\n",
    "    generators[:, (\"id\", \"bus_id\")], left_on=\"generator_id\", right_on=\"id\", how=\"left\"\n",
    ")\n",
    "offers = offers.with_columns(  # utilization of each offer\n",
    "    (pl.col(\"quantity\") / pl.col(\"max_quantity\")).alias(\"utilization\")\n",
    ")"
   ]
  },
  {
   "cell_type": "markdown",
   "id": "236f3079",
   "metadata": {},
   "source": [
    "Verify marginal prices by direct evaluation"
   ]
  },
  {
   "cell_type": "code",
   "execution_count": 28,
   "id": "d2bf1547",
   "metadata": {},
   "outputs": [],
   "source": [
    "def marginal_price_estimate(model, b: int, delta_load: float = 1.0) -> float:\n",
    "    # Restore nominal state before perturbation\n",
    "    # (copy.deepcopy of pyomo models is not officially supported)\n",
    "    f_unperturbed = optimize(model)\n",
    "    load_original = model.loads[b]\n",
    "    model.loads[b] += delta_load  # increment load at bus b\n",
    "    f_perturbed = optimize(model)\n",
    "    model.loads[b] = load_original  # restore model for next time\n",
    "    return (f_perturbed - f_unperturbed) / delta_load\n",
    "\n",
    "\n",
    "marginal_price_estimates = [marginal_price_estimate(model, b) for b in Buses]"
   ]
  },
  {
   "cell_type": "code",
   "execution_count": 29,
   "id": "2d931abc",
   "metadata": {},
   "outputs": [
    {
     "data": {
      "text/plain": [
       "[10.0, 12.0, 11.0]"
      ]
     },
     "execution_count": 29,
     "metadata": {},
     "output_type": "execute_result"
    }
   ],
   "source": [
    "marginal_price_estimates"
   ]
  },
  {
   "cell_type": "code",
   "execution_count": 30,
   "id": "db552a88",
   "metadata": {},
   "outputs": [],
   "source": [
    "for dual, direct in zip(marginal_prices, marginal_price_estimates):\n",
    "    assert abs(dual - direct) < 1e-6"
   ]
  },
  {
   "cell_type": "markdown",
   "id": "26e2c787",
   "metadata": {},
   "source": [
    "Helper functions for plotting: No need to look through these"
   ]
  },
  {
   "cell_type": "code",
   "execution_count": 31,
   "id": "cd4f1b3b",
   "metadata": {},
   "outputs": [],
   "source": [
    "def mapvalues(f, keys, *values) -> dict:\n",
    "    return dict(zip(keys, map(f, *values)))\n",
    "\n",
    "\n",
    "def hybrid_layout(\n",
    "    G: nx.Graph,\n",
    "    hub_scale: float = 1.0,\n",
    "    satellite_scale: float = 1.0,\n",
    "    k: float = 0.4,\n",
    "    seed: int = 0,\n",
    ") -> dict:\n",
    "    \"\"\"Produces a better outcome than either pure layout provided by networkx\"\"\"\n",
    "    hubs = [n for n in G.nodes if G.degree(n) > 1]\n",
    "    pos = nx.kamada_kawai_layout(G.subgraph(hubs), scale=hub_scale)\n",
    "    for hub in hubs:\n",
    "        satellites = {\n",
    "            *G.successors(hub),\n",
    "            *G.predecessors(hub),\n",
    "        }.difference(hubs)\n",
    "        pos.update(\n",
    "            nx.circular_layout(\n",
    "                G.subgraph(satellites),\n",
    "                center=pos[hub],\n",
    "                scale=satellite_scale,\n",
    "            )\n",
    "        )\n",
    "        print(f\"{hub} => {satellites}\")\n",
    "    assert len(pos) == G.number_of_nodes()\n",
    "    return nx.spring_layout(G, pos=pos, fixed=hubs, seed=seed, k=k)\n"
   ]
  },
  {
   "cell_type": "markdown",
   "id": "90c75210",
   "metadata": {},
   "source": [
    "For node/vertex annotations"
   ]
  },
  {
   "cell_type": "code",
   "execution_count": 32,
   "id": "f35d9b1e",
   "metadata": {},
   "outputs": [],
   "source": [
    "bus_price_labels = mapvalues(\n",
    "    \"{:}MW\\n@ ${:.2f}/MWh\".format, buses[\"id\"], buses[\"load\"], buses[\"price\"]\n",
    ")\n",
    "offer_price_labels = mapvalues(\n",
    "    \"{:}MW\\n@ ${:}/MWh\".format, offers[\"id\"], offers[\"max_quantity\"], offers[\"price\"]\n",
    ")\n",
    "\n",
    "load_norm = mc.Normalize(vmin=min(buses[\"load\"]), vmax=max(buses[\"load\"]))\n",
    "load_cmap = cm.coolwarm  # Or plasma, inferno, magma, coolwarm, etc.\n",
    "bus_colors = [load_cmap(load_norm(load)) for load in buses[\"load\"]]\n",
    "bus_colors = [\"lightblue\" for load in buses[\"load\"]]\n",
    "\n",
    "generator_cmap = plt.get_cmap(name=\"tab10\", lut=generators.height)\n",
    "generator_colors = {\n",
    "    gid: mc.to_hex(generator_cmap(i)) for i, gid in enumerate(generators[\"id\"])\n",
    "}\n",
    "offer_colors = [generator_colors[gid] for gid in offers[\"generator_id\"]]"
   ]
  },
  {
   "cell_type": "markdown",
   "id": "00bbd4c8",
   "metadata": {},
   "source": [
    "For edge/arc annotations"
   ]
  },
  {
   "cell_type": "code",
   "execution_count": 33,
   "id": "8d85f538",
   "metadata": {},
   "outputs": [],
   "source": [
    "flow_labels = mapvalues(\n",
    "    \"{:.0f}MW/\\n{:.0f}MW\".format,\n",
    "    zip(lines[\"from_bus_id\"], lines[\"to_bus_id\"]),\n",
    "    lines[\"flow\"],\n",
    "    lines[\"capacity\"],\n",
    ")\n",
    "supply_labels = mapvalues(\n",
    "    \"{:.0f}MW/\\n{:.0f}MW\".format,\n",
    "    zip(offers[\"id\"], offers[\"bus_id\"]),\n",
    "    offers[\"quantity\"],\n",
    "    offers[\"max_quantity\"],\n",
    ")"
   ]
  },
  {
   "cell_type": "markdown",
   "id": "1c9686d8",
   "metadata": {},
   "source": [
    "Network definition for plotting"
   ]
  },
  {
   "cell_type": "code",
   "execution_count": 34,
   "id": "5929bc91",
   "metadata": {},
   "outputs": [],
   "source": [
    "network = nx.DiGraph()\n",
    "\n",
    "network.add_nodes_from(buses[\"id\"])\n",
    "network.add_nodes_from(offers[\"id\"])\n",
    "node_labels = bus_price_labels | offer_price_labels\n",
    "\n",
    "network.add_edges_from(zip(lines[\"from_bus_id\"], lines[\"to_bus_id\"]))\n",
    "network.add_edges_from(zip(offers[\"id\"], offers[\"bus_id\"]))\n",
    "edge_utilization = [*lines[\"utilization\"], *offers[\"utilization\"]]\n",
    "edge_labels = flow_labels | supply_labels"
   ]
  },
  {
   "cell_type": "markdown",
   "id": "00498cad",
   "metadata": {},
   "source": [
    "Automatic network layout"
   ]
  },
  {
   "cell_type": "code",
   "execution_count": 35,
   "id": "e78a32f8",
   "metadata": {},
   "outputs": [
    {
     "name": "stdout",
     "output_type": "stream",
     "text": [
      "B1 => {'G3/1', 'G1/3', 'G1/1', 'G1/2', 'G3/3', 'G3/2'}\n",
      "B2 => {'G2/1', 'G2/2', 'G2/3'}\n",
      "B3 => set()\n"
     ]
    }
   ],
   "source": [
    "scale = 50.0\n",
    "pos: dict = hybrid_layout(\n",
    "    network, hub_scale=scale, satellite_scale=scale, k=scale * 1.0\n",
    ")"
   ]
  },
  {
   "cell_type": "markdown",
   "id": "e7b9ee6b",
   "metadata": {},
   "source": [
    "Network annotations"
   ]
  },
  {
   "cell_type": "code",
   "execution_count": 36,
   "id": "34036c1e",
   "metadata": {},
   "outputs": [
    {
     "data": {
      "text/plain": [
       "<matplotlib.collections.PathCollection at 0x278ec49ed90>"
      ]
     },
     "execution_count": 36,
     "metadata": {},
     "output_type": "execute_result"
    },
    {
     "data": {
      "text/plain": [
       "<matplotlib.collections.PathCollection at 0x278ffec7750>"
      ]
     },
     "execution_count": 36,
     "metadata": {},
     "output_type": "execute_result"
    },
    {
     "data": {
      "text/plain": [
       "{'B1': Text(50.0, 2.3853402088278256e-06, 'B1'),\n",
       " 'B2': Text(-24.999997480155983, -43.301271563064816, 'B2'),\n",
       " 'B3': Text(-25.00000251984401, 43.30126917772461, 'B3')}"
      ]
     },
     "execution_count": 36,
     "metadata": {},
     "output_type": "execute_result"
    },
    {
     "data": {
      "text/plain": [
       "{'G1/1': Text(138.57842314642122, -4.123698185217245, 'G1/1'),\n",
       " 'G1/2': Text(124.20481429098157, 48.647828042932254, 'G1/2'),\n",
       " 'G1/3': Text(80.91053886859967, 82.48744199225763, 'G1/3'),\n",
       " 'G2/1': Text(-98.23331580856171, -90.26997919631229, 'G2/1'),\n",
       " 'G2/2': Text(-43.674526631626975, -126.11509867554366, 'G2/2'),\n",
       " 'G2/3': Text(-108.75903497559842, -25.037422727976136, 'G2/3'),\n",
       " 'G3/1': Text(25.376678960965027, 83.44001754089703, 'G3/1'),\n",
       " 'G3/2': Text(65.75770477033961, -78.82136553077075, 'G3/2'),\n",
       " 'G3/3': Text(117.99535048524878, -55.71653409540847, 'G3/3')}"
      ]
     },
     "execution_count": 36,
     "metadata": {},
     "output_type": "execute_result"
    },
    {
     "data": {
      "text/plain": [
       "{'B1': Text(50.0, -14.999997614659792, '0.0MW\\n@ $10.00/MWh'),\n",
       " 'B2': Text(-24.999997480155983, -58.301271563064816, '0.0MW\\n@ $12.00/MWh'),\n",
       " 'B3': Text(-25.00000251984401, 28.301269177724613, '150.0MW\\n@ $11.00/MWh'),\n",
       " 'G1/1': Text(138.57842314642122, -19.123698185217243, '200.0MW\\n@ $10.0/MWh'),\n",
       " 'G1/2': Text(124.20481429098157, 33.647828042932254, '200.0MW\\n@ $15.0/MWh'),\n",
       " 'G1/3': Text(80.91053886859967, 67.48744199225763, '100.0MW\\n@ $20.0/MWh'),\n",
       " 'G2/1': Text(-98.23331580856171, -105.26997919631229, '200.0MW\\n@ $12.0/MWh'),\n",
       " 'G2/2': Text(-43.674526631626975, -141.11509867554366, '200.0MW\\n@ $16.0/MWh'),\n",
       " 'G2/3': Text(-108.75903497559842, -40.037422727976136, '100.0MW\\n@ $22.0/MWh'),\n",
       " 'G3/1': Text(25.376678960965027, 68.44001754089703, '200.0MW\\n@ $14.0/MWh'),\n",
       " 'G3/2': Text(65.75770477033961, -93.82136553077075, '200.0MW\\n@ $17.0/MWh'),\n",
       " 'G3/3': Text(117.99535048524878, -70.71653409540846, '100.0MW\\n@ $24.0/MWh')}"
      ]
     },
     "execution_count": 36,
     "metadata": {},
     "output_type": "execute_result"
    },
    {
     "data": {
      "text/plain": [
       "[<matplotlib.patches.FancyArrowPatch at 0x278ec4c0a10>,\n",
       " <matplotlib.patches.FancyArrowPatch at 0x278ec89c410>,\n",
       " <matplotlib.patches.FancyArrowPatch at 0x2789c563c50>,\n",
       " <matplotlib.patches.FancyArrowPatch at 0x278ec478090>,\n",
       " <matplotlib.patches.FancyArrowPatch at 0x278ec831810>,\n",
       " <matplotlib.patches.FancyArrowPatch at 0x2789c659350>,\n",
       " <matplotlib.patches.FancyArrowPatch at 0x2789c4eda90>,\n",
       " <matplotlib.patches.FancyArrowPatch at 0x2789c656350>,\n",
       " <matplotlib.patches.FancyArrowPatch at 0x2789c610750>,\n",
       " <matplotlib.patches.FancyArrowPatch at 0x2789c631450>,\n",
       " <matplotlib.patches.FancyArrowPatch at 0x2789c61c350>,\n",
       " <matplotlib.patches.FancyArrowPatch at 0x2789c656c50>]"
      ]
     },
     "execution_count": 36,
     "metadata": {},
     "output_type": "execute_result"
    },
    {
     "data": {
      "text/plain": [
       "{('B1', 'B2'): Text(12.501344564633968, -21.64985903143193, '30MW/\\n30MW'),\n",
       " ('B1', 'B3'): Text(12.501342044880118, 21.649860224230167, '90MW/\\n100MW'),\n",
       " ('B2', 'B3'): Text(-25.00000000012406, 0.0021315245551249973, '60MW/\\n100MW'),\n",
       " ('G1/1', 'B1'): Text(94.29058730249727, -2.0619119459606168, '120MW/\\n200MW'),\n",
       " ('G1/2', 'B1'): Text(87.10254429154463, 24.324005125517004, '0MW/\\n200MW'),\n",
       " ('G1/3', 'B1'): Text(65.45525067912462, 41.24367213899578, '0MW/\\n100MW'),\n",
       " ('G2/1', 'B2'): Text(-61.615585332501624, -66.78493828623776, '30MW/\\n200MW'),\n",
       " ('G2/2', 'B2'): Text(-34.33725110762083, -84.70813656824386, '0MW/\\n200MW'),\n",
       " ('G2/3', 'B2'): Text(-66.88078005314284, -34.16907156554373, '0MW/\\n100MW'),\n",
       " ('G3/1', 'B1'): Text(37.688437733727994, 41.719677016467045, '0MW/\\n200MW'),\n",
       " ('G3/2', 'B1'): Text(57.87859504283125, -39.409394324639266, '0MW/\\n200MW'),\n",
       " ('G3/3', 'B1'): Text(83.99782567259882, -27.85838911989117, '0MW/\\n100MW')}"
      ]
     },
     "execution_count": 36,
     "metadata": {},
     "output_type": "execute_result"
    },
    {
     "data": {
      "text/plain": [
       "(np.float64(-134.7294680784105),\n",
       " np.float64(164.54885624923327),\n",
       " np.float64(-148.11838587826992),\n",
       " np.float64(105.4433047436233))"
      ]
     },
     "execution_count": 36,
     "metadata": {},
     "output_type": "execute_result"
    },
    {
     "data": {
      "image/png": "[encoded data removed]",
      "text/plain": [
       "<Figure size 640x480 with 1 Axes>"
      ]
     },
     "metadata": {},
     "output_type": "display_data"
    }
   ],
   "source": [
    "font_size = 8\n",
    "nx.draw_networkx_nodes(\n",
    "    network, pos, nodelist=buses[\"id\"], node_color=bus_colors, node_shape=\"s\"\n",
    ")\n",
    "nx.draw_networkx_nodes(\n",
    "    network, pos, nodelist=offers[\"id\"], node_color=offer_colors, node_shape=\"o\"\n",
    ")\n",
    "nx.draw_networkx_labels(\n",
    "    network,\n",
    "    pos,\n",
    "    labels={id: id for id in buses[\"id\"]},\n",
    "    font_size=font_size,\n",
    "    font_color=\"red\",\n",
    ")\n",
    "nx.draw_networkx_labels(\n",
    "    network,\n",
    "    pos,\n",
    "    labels={id: id for id in offers[\"id\"]},\n",
    "    font_size=font_size,\n",
    "    font_color=\"black\",\n",
    ")\n",
    "nx.draw_networkx_labels(\n",
    "    network,\n",
    "    {id: xy + [0, -0.3 * scale] for id, xy in pos.items()},\n",
    "    labels=node_labels,\n",
    "    font_size=font_size,\n",
    ")\n",
    "nx.draw_networkx_edges(\n",
    "    network,\n",
    "    pos,\n",
    "    edge_color=edge_utilization,\n",
    "    edge_cmap=cm.coolwarm,\n",
    "    edge_vmin=0.0,\n",
    "    edge_vmax=1.0,\n",
    ")\n",
    "nx.draw_networkx_edge_labels(\n",
    "    network,\n",
    "    pos,\n",
    "    edge_labels=edge_labels,\n",
    "    font_size=font_size,\n",
    "    font_color=\"blue\",\n",
    ")\n",
    "\n",
    "plt.axis(\"off\")\n",
    "plt.savefig(\"network.png\", dpi=300)\n",
    "plt.show(block=False)"
   ]
  },
  {
   "cell_type": "markdown",
   "id": "6906e121",
   "metadata": {},
   "source": [
    "Path analysis"
   ]
  },
  {
   "cell_type": "code",
   "execution_count": 37,
   "id": "8b78d226",
   "metadata": {},
   "outputs": [],
   "source": [
    "path_rows: list[dict] = []\n",
    "path_edge_rows: list[dict] = []\n",
    "undirected_network = network.to_undirected()\n",
    "\n",
    "for source in buses[:, \"id\"]:\n",
    "    for target in buses[:, \"id\"]:\n",
    "        if source == target:\n",
    "            continue\n",
    "        node_sequences = nx.all_simple_paths(\n",
    "            undirected_network, source=source, target=target\n",
    "        )\n",
    "        edge_sequences = list(map(nx.utils.pairwise, node_sequences))\n",
    "        for path_count, sequence in enumerate(edge_sequences, start=1):\n",
    "            path_id = f\"{source}-{target}/{path_count}\"\n",
    "            edge_rows: list[dict] = []\n",
    "            path_resistance = 0.0\n",
    "            for from_node_id, to_node_id in sequence:\n",
    "                orientation = 1 if from_node_id < to_node_id else -1\n",
    "                if orientation == -1:\n",
    "                    from_node_id, to_node_id = to_node_id, from_node_id\n",
    "                susceptance, utilization = (\n",
    "                    lines.filter(\n",
    "                        (pl.col(\"from_bus_id\") == from_node_id)\n",
    "                        & (pl.col(\"to_bus_id\") == to_node_id)\n",
    "                    )\n",
    "                    .select([\"susceptance\", \"utilization\"])\n",
    "                    .row(0)\n",
    "                )\n",
    "                path_resistance += 1 / susceptance\n",
    "                path_edge_rows.append(\n",
    "                    dict(\n",
    "                        from_node_id=from_node_id,\n",
    "                        to_node_id=to_node_id,\n",
    "                        orientation=orientation,\n",
    "                        is_congested=0.99 < utilization,\n",
    "                        path_id=path_id,\n",
    "                        # source=source,\n",
    "                        # target=target,\n",
    "                    )\n",
    "                )\n",
    "            path_rows.append(\n",
    "                dict(\n",
    "                    path_id=path_id,\n",
    "                    source=source,\n",
    "                    target=target,\n",
    "                    susceptance=1 / path_resistance,\n",
    "                )\n",
    "            )\n",
    "\n",
    "paths = pl.DataFrame(path_rows)\n",
    "path_edges = pl.DataFrame(path_edge_rows)\n",
    "\n",
    "group_keys = [\"source\", \"target\"]\n",
    "grouped = paths.group_by(group_keys).agg(\n",
    "    pl.col(\"susceptance\").sum().alias(\"total_susceptance\")\n",
    ")\n",
    "paths = paths.join(grouped, on=group_keys).with_columns(\n",
    "    (pl.col(\"susceptance\") / pl.col(\"total_susceptance\")).alias(\"relative_susceptance\")\n",
    ")\n",
    "\n",
    "path_edges = path_edges.join(\n",
    "    paths[:, (\"path_id\", \"source\", \"target\", \"relative_susceptance\")], on=[\"path_id\"]\n",
    ")\n",
    "\n",
    "congested_path_edges = path_edges.filter(pl.col(\"is_congested\"))\n",
    "\n",
    "input_nodes = set(offers[:, \"bus_id\"])\n",
    "\n",
    "path_summary = paths.group_by([\"target\"]).agg(pl.all()).sort([\"target\"])\n",
    "congestion_summary = (\n",
    "    congested_path_edges.group_by([\"from_node_id\", \"to_node_id\", \"target\"])\n",
    "    .agg(pl.all())\n",
    "    .sort([\"target\"])\n",
    ")"
   ]
  },
  {
   "cell_type": "markdown",
   "id": "10acbe00",
   "metadata": {},
   "source": [
    "Constraints implied by congestion"
   ]
  },
  {
   "cell_type": "code",
   "execution_count": 38,
   "id": "da931685",
   "metadata": {},
   "outputs": [
    {
     "name": "stdout",
     "output_type": "stream",
     "text": [
      "@ B1: 0.67*PTotal[B2] == 0\n",
      "@ B2: 0.67*PTotal[B1] == 0\n",
      "@ B3: 0.33*PTotal[B1] + 0.33*PTotal[B2] == 0\n"
     ]
    }
   ],
   "source": [
    "for target, coeffs, sources in congestion_summary.select(\n",
    "    \"target\", \"relative_susceptance\", \"source\"\n",
    ").iter_rows():\n",
    "    terms = [\n",
    "        f\"{c:.2f}*PTotal[{s}]\" for c, s in zip(coeffs, sources) if s in input_nodes\n",
    "    ]\n",
    "    print(f\"@ {target}: {' + '.join(terms)} == 0\")"
   ]
  },
  {
   "cell_type": "markdown",
   "id": "11314272",
   "metadata": {},
   "source": [
    "Constraints implied unit increment"
   ]
  },
  {
   "cell_type": "code",
   "execution_count": 39,
   "id": "1620b4f2",
   "metadata": {},
   "outputs": [
    {
     "name": "stdout",
     "output_type": "stream",
     "text": [
      "@ B1: PTotal[B2] == 1\n",
      "@ B2: PTotal[B1] == 1\n",
      "@ B3: PTotal[B1] + PTotal[B2] == 1\n"
     ]
    }
   ],
   "source": [
    "for target, sources in path_summary.select(\"target\", \"source\").iter_rows():\n",
    "    terms = [f\"PTotal[{s}]\" for s in set(sources) if s in input_nodes]\n",
    "    print(f\"@ {target}: {' + '.join(terms)} == 1\")"
   ]
  }
 ],
 "metadata": {
  "kernelspec": {
   "display_name": ".venv",
   "language": "python",
   "name": "python3"
  },
  "language_info": {
   "codemirror_mode": {
    "name": "ipython",
    "version": 3
   },
   "file_extension": ".py",
   "mimetype": "text/x-python",
   "name": "python",
   "nbconvert_exporter": "python",
   "pygments_lexer": "ipython3",
   "version": "3.11.9"
  }
 },
 "nbformat": 4,
 "nbformat_minor": 5
}
