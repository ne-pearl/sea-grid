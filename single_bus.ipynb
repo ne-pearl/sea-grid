{
 "cells": [
  {
   "cell_type": "markdown",
   "id": "04e9956b",
   "metadata": {},
   "source": [
    "Module imports"
   ]
  },
  {
   "cell_type": "code",
   "execution_count": 44,
   "id": "4313d6da",
   "metadata": {},
   "outputs": [],
   "source": [
    "from typing import TypeAlias\n",
    "import IPython\n",
    "from IPython.display import display\n",
    "import matplotlib.colors as mc\n",
    "import matplotlib.pyplot as plt\n",
    "import numpy as np\n",
    "import polars as pl\n",
    "import pyomo.environ as pyo\n",
    "from pyomo.core import Model"
   ]
  },
  {
   "cell_type": "markdown",
   "id": "46bcbda7",
   "metadata": {},
   "source": [
    "Units of measure"
   ]
  },
  {
   "cell_type": "code",
   "execution_count": 45,
   "id": "77cd10a7",
   "metadata": {},
   "outputs": [],
   "source": [
    "Id: TypeAlias = pl.String\n",
    "MW: TypeAlias = pl.Float64\n",
    "MWPerRad: TypeAlias = pl.Float64\n",
    "USDPerMWh: TypeAlias = pl.Float64"
   ]
  },
  {
   "cell_type": "markdown",
   "id": "a9502cc9",
   "metadata": {},
   "source": [
    "System configuration: Just one node"
   ]
  },
  {
   "cell_type": "code",
   "execution_count": 46,
   "id": "68a3120a",
   "metadata": {},
   "outputs": [],
   "source": [
    "load = 250.0  # MW\n",
    "offers = pl.DataFrame(\n",
    "    {\n",
    "        \"generator_id\": [\"G1\", \"G2\", \"G1\", \"G2\"],\n",
    "        \"max_quantity\": [100.0, 100.0, 100.0, 100.0],\n",
    "        \"price\": [10.00, 11.00, 12.00, 13.00],\n",
    "    },\n",
    "    schema={\"generator_id\": Id, \"max_quantity\": MW, \"price\": USDPerMWh},\n",
    ").sort(by=[\"generator_id\", \"price\"])"
   ]
  },
  {
   "cell_type": "markdown",
   "id": "d2783f61",
   "metadata": {},
   "source": [
    "Add a unique identifier for each offer"
   ]
  },
  {
   "cell_type": "code",
   "execution_count": 47,
   "id": "e0359280",
   "metadata": {},
   "outputs": [],
   "source": [
    "for column in [\n",
    "    pl.arange(0, pl.len()).over(\"generator_id\").alias(\"tranche\"),\n",
    "    pl.format(\"{}/{}\", pl.col(\"generator_id\"), pl.col(\"tranche\") + 1).alias(\"id\"),\n",
    "]:\n",
    "    offers = offers.with_columns(column)"
   ]
  },
  {
   "cell_type": "markdown",
   "id": "b3f39408-00d3-4a0d-855a-27dc0e17f600",
   "metadata": {},
   "source": [
    "![](./single_bus_plot.png)"
   ]
  },
  {
   "cell_type": "markdown",
   "id": "af40d886",
   "metadata": {},
   "source": [
    "Index set"
   ]
  },
  {
   "cell_type": "code",
   "execution_count": 48,
   "id": "52821ab0",
   "metadata": {},
   "outputs": [],
   "source": [
    "Offers = range(offers.height)"
   ]
  },
  {
   "cell_type": "markdown",
   "id": "b17fa25b",
   "metadata": {},
   "source": [
    "Optimization model in PyOMO"
   ]
  },
  {
   "cell_type": "code",
   "execution_count": 49,
   "id": "02519eb8",
   "metadata": {},
   "outputs": [],
   "source": [
    "model = pyo.ConcreteModel()"
   ]
  },
  {
   "cell_type": "markdown",
   "id": "bab9cbad",
   "metadata": {},
   "source": [
    "Associate load parameter"
   ]
  },
  {
   "cell_type": "code",
   "execution_count": 50,
   "id": "55528c74",
   "metadata": {},
   "outputs": [],
   "source": [
    "model.load_ = pyo.Param(initialize=load, mutable=True, within=pyo.Reals)  # \"model.load\" is reserved"
   ]
  },
  {
   "cell_type": "markdown",
   "id": "b969d56d",
   "metadata": {},
   "source": [
    "Decision variables"
   ]
  },
  {
   "cell_type": "code",
   "execution_count": 51,
   "id": "ae423738",
   "metadata": {},
   "outputs": [],
   "source": [
    "def supply_bounds(model: Model, o: int) -> tuple[float, float]:\n",
    "    return (0.0, offers[o, \"max_quantity\"])\n",
    "\n",
    "\n",
    "model.p = pyo.Var(Offers, bounds=supply_bounds)"
   ]
  },
  {
   "cell_type": "markdown",
   "id": "c5ac58f0",
   "metadata": {},
   "source": [
    "Power balance constraint"
   ]
  },
  {
   "cell_type": "code",
   "execution_count": 52,
   "id": "6b3f3a9f",
   "metadata": {},
   "outputs": [],
   "source": [
    "model.balance = pyo.Constraint(expr=sum(model.p[o] for o in Offers) == model.load_)"
   ]
  },
  {
   "cell_type": "markdown",
   "id": "376d3a27",
   "metadata": {},
   "source": [
    "Dual variable for marginal price"
   ]
  },
  {
   "cell_type": "code",
   "execution_count": 53,
   "id": "190ff417",
   "metadata": {},
   "outputs": [],
   "source": [
    "model.dual = pyo.Suffix(direction=pyo.Suffix.IMPORT)"
   ]
  },
  {
   "cell_type": "markdown",
   "id": "9d10e817",
   "metadata": {},
   "source": [
    "Optimization objective function"
   ]
  },
  {
   "cell_type": "code",
   "execution_count": 54,
   "id": "043113f2",
   "metadata": {},
   "outputs": [],
   "source": [
    "model.total_cost = pyo.Objective(\n",
    "    expr=sum(offers[o, \"price\"] * model.p[o] for o in Offers),\n",
    "    sense=pyo.minimize,\n",
    ")"
   ]
  },
  {
   "cell_type": "markdown",
   "id": "f4e0eebb",
   "metadata": {},
   "source": [
    "Solve the optimization problem"
   ]
  },
  {
   "cell_type": "code",
   "execution_count": 55,
   "id": "9e2d147f",
   "metadata": {},
   "outputs": [
    {
     "name": "stdout",
     "output_type": "stream",
     "text": [
      "Running HiGHS 1.10.0 (git hash: fd86653): Copyright (c) 2025 HiGHS under MIT licence terms\n",
      "LP   has 1 rows; 4 cols; 4 nonzeros\n",
      "Coefficient ranges:\n",
      "  Matrix [1e+00, 1e+00]\n",
      "  Cost   [1e+01, 1e+01]\n",
      "  Bound  [1e+02, 1e+02]\n",
      "  RHS    [2e+02, 2e+02]\n",
      "Presolving model\n",
      "1 rows, 4 cols, 4 nonzeros  0s\n",
      "Dependent equations search running on 1 equations with time limit of 1000.00s\n",
      "Dependent equations search removed 0 rows and 0 nonzeros in 0.00s (limit = 1000.00s)\n",
      "1 rows, 4 cols, 4 nonzeros  0s\n",
      "Presolve : Reductions: rows 1(-0); columns 4(-0); elements 4(-0) - Not reduced\n",
      "Problem not reduced by presolve: solving the LP\n",
      "Using EKK dual simplex solver - serial\n",
      "  Iteration        Objective     Infeasibilities num(sum)\n",
      "          0     0.0000000000e+00 Pr: 1(250) 0s\n",
      "          1     2.7000000000e+03 Pr: 0(0) 0s\n",
      "Model status        : Optimal\n",
      "Simplex   iterations: 1\n",
      "Objective value     :  2.7000000000e+03\n",
      "Relative P-D gap    :  0.0000000000e+00\n",
      "HiGHS run time      :          0.00\n"
     ]
    },
    {
     "data": {
      "text/plain": [
       "2700.0"
      ]
     },
     "execution_count": 55,
     "metadata": {},
     "output_type": "execute_result"
    }
   ],
   "source": [
    "def optimize(model, tee=False) -> float:\n",
    "    \"\"\"Solve the optimization problem encoded in model and return the objective value.\"\"\"\n",
    "    solver = pyo.SolverFactory(\"highs\")\n",
    "    results = solver.solve(model, tee=tee)\n",
    "    assert results.solver.termination_condition is pyo.TerminationCondition.optimal\n",
    "    return pyo.value(model.total_cost)\n",
    "\n",
    "\n",
    "optimize(model, tee=True)  # tee output to console"
   ]
  },
  {
   "cell_type": "markdown",
   "id": "9587dde6",
   "metadata": {},
   "source": [
    "Extract optimal values of decision variables"
   ]
  },
  {
   "cell_type": "code",
   "execution_count": 56,
   "id": "13e0c322",
   "metadata": {},
   "outputs": [],
   "source": [
    "quantity = [pyo.value(model.p[o]) for o in Offers]\n",
    "offers = offers.with_columns(quantity=pl.Series(quantity))\n",
    "offers = offers.with_columns(  # utilization of each offer\n",
    "    (pl.col(\"quantity\") / pl.col(\"max_quantity\")).alias(\"utilization\")\n",
    ")\n",
    "generators = (\n",
    "    offers.group_by(\"generator_id\")\n",
    "    .agg(\n",
    "        [\n",
    "            pl.col(\"max_quantity\").sum(),\n",
    "            pl.col(\"quantity\").sum(),\n",
    "        ]\n",
    "    )\n",
    "    .with_columns([(pl.col(\"quantity\") / pl.col(\"max_quantity\")).alias(\"utilization\")])\n",
    ")"
   ]
  },
  {
   "cell_type": "markdown",
   "id": "c9fd021f",
   "metadata": {},
   "source": [
    "Extract marginal price"
   ]
  },
  {
   "cell_type": "code",
   "execution_count": 57,
   "id": "56555e47",
   "metadata": {},
   "outputs": [],
   "source": [
    "marginal_price = model.dual[model.balance]"
   ]
  },
  {
   "cell_type": "markdown",
   "id": "719609ee",
   "metadata": {},
   "source": [
    "Verify marginal price by direct calculation"
   ]
  },
  {
   "cell_type": "code",
   "execution_count": 58,
   "id": "3544bc6f",
   "metadata": {},
   "outputs": [],
   "source": [
    "cost_unperturbed = optimize(model)\n",
    "model.load_[None] += 1.0\n",
    "cost_perturbed = optimize(model)\n",
    "marginal_price_estimate = (cost_perturbed - cost_unperturbed) / 1.0\n",
    "assert abs(marginal_price_estimate - marginal_price) < 1e-6"
   ]
  },
  {
   "cell_type": "markdown",
   "id": "400c5e25",
   "metadata": {},
   "source": [
    "Helper function for placing bars in the bar chart"
   ]
  },
  {
   "cell_type": "code",
   "execution_count": 59,
   "id": "985ead66",
   "metadata": {},
   "outputs": [],
   "source": [
    "def cumsum_mid(x, start=0):\n",
    "    \"\"\"Interval midpoints from widths.\"\"\"\n",
    "    accumulated = np.concatenate(([start], np.cumsum(x)))\n",
    "    return (accumulated[:-1] + accumulated[1:]) * 0.5"
   ]
  },
  {
   "cell_type": "markdown",
   "id": "c03586cd",
   "metadata": {},
   "source": [
    "Initialize plotting axes"
   ]
  },
  {
   "cell_type": "markdown",
   "id": "919ac5fc",
   "metadata": {},
   "source": [
    "Values required for plot"
   ]
  },
  {
   "cell_type": "code",
   "execution_count": 60,
   "id": "7ab4d368",
   "metadata": {},
   "outputs": [],
   "source": [
    "fig, ax = plt.subplots()\n",
    "ax.set_xlabel(\"Quantity (MW)\")\n",
    "ax.set_ylabel(\"Price ($/MWh)\")\n",
    "ax.set_title(\"Offer stack to marginal stack\")\n",
    "plt.close(fig)"
   ]
  },
  {
   "cell_type": "code",
   "execution_count": 61,
   "id": "a410873f",
   "metadata": {},
   "outputs": [],
   "source": [
    "sorted_offers = offers.sort(\"price\")\n",
    "select = sorted_offers[\"quantity\"] > 0\n",
    "dispatched_offers = sorted_offers.filter(select)\n",
    "_, generator_indices = np.unique(sorted_offers[:, \"generator_id\"], return_inverse=True)\n",
    "colors = plt.get_cmap(\"tab10\")(generator_indices)"
   ]
  },
  {
   "cell_type": "markdown",
   "id": "062481a0",
   "metadata": {},
   "source": [
    "Plot bars and annotations"
   ]
  },
  {
   "cell_type": "code",
   "execution_count": 62,
   "id": "23a673ea",
   "metadata": {},
   "outputs": [
    {
     "data": {
      "text/plain": [
       "[Text(0, 0, '$10.00/MWh'),\n",
       " Text(0, 0, '$11.00/MWh'),\n",
       " Text(0, 0, '$12.00/MWh'),\n",
       " Text(0, 0, '$13.00/MWh')]"
      ]
     },
     "execution_count": 62,
     "metadata": {},
     "output_type": "execute_result"
    }
   ],
   "source": [
    "bars = ax.bar(\n",
    "    x=cumsum_mid(sorted_offers[\"max_quantity\"]),\n",
    "    height=sorted_offers[\"price\"],\n",
    "    width=sorted_offers[\"max_quantity\"],\n",
    "    color=colors,\n",
    "    alpha=0.4,\n",
    ")\n",
    "ax.bar(\n",
    "    x=cumsum_mid(dispatched_offers[\"quantity\"]),\n",
    "    height=dispatched_offers[\"price\"],\n",
    "    width=dispatched_offers[\"quantity\"],\n",
    "    color=colors[select],\n",
    "    alpha=0.8,\n",
    ")\n",
    "\n",
    "ax.bar_label(\n",
    "    bars,\n",
    "    labels=sorted_offers[:, \"id\"],\n",
    "    label_type=\"center\",\n",
    "    padding=5,\n",
    ")\n",
    "ax.bar_label(\n",
    "    bars,\n",
    "    labels=sorted_offers.select([pl.format(\"{}MW\", \"max_quantity\")]).to_series(),\n",
    "    label_type=\"center\",\n",
    "    padding=-5,\n",
    ")\n",
    "ax.bar_label(\n",
    "    bars,\n",
    "    labels=sorted_offers.select(\n",
    "        pl.col(\"price\").map_elements(\"${:.2f}/MWh\".format, return_dtype=str)\n",
    "    ).to_series(),\n",
    "    label_type=\"edge\",\n",
    ")"
   ]
  },
  {
   "cell_type": "markdown",
   "id": "6b3f8101",
   "metadata": {},
   "source": [
    "Add lines and annotations"
   ]
  },
  {
   "cell_type": "code",
   "execution_count": 63,
   "id": "688bbcc3",
   "metadata": {},
   "outputs": [
    {
     "data": {
      "text/plain": [
       "Text(0.0, 12.0, 'marginal price')"
      ]
     },
     "execution_count": 63,
     "metadata": {},
     "output_type": "execute_result"
    }
   ],
   "source": [
    "ax.axvline(x=load, color=\"black\", label=\"load\")\n",
    "ax.axhline(y=marginal_price, color=\"red\", label=\"marginal price\")\n",
    "ax.text(load, 0.1, \"load\", rotation=90, va=\"bottom\", ha=\"center\", color=\"black\")\n",
    "ax.text(0.0, marginal_price, \"marginal price\", va=\"center\", ha=\"left\", color=\"red\")"
   ]
  },
  {
   "cell_type": "markdown",
   "id": "514efb9c",
   "metadata": {},
   "source": [
    "Display plot"
   ]
  },
  {
   "cell_type": "code",
   "execution_count": 64,
   "id": "62a508bc",
   "metadata": {},
   "outputs": [
    {
     "data": {
      "image/png": "[encoded data removed]",
      "text/plain": [
       "<Figure size 640x480 with 1 Axes>"
      ]
     },
     "metadata": {},
     "output_type": "display_data"
    },
    {
     "data": {
      "text/plain": [
       "<Figure size 640x480 with 0 Axes>"
      ]
     },
     "metadata": {},
     "output_type": "display_data"
    }
   ],
   "source": [
    "plt.savefig(\"single_bus.png\", dpi=300)\n",
    "display(fig)"
   ]
  }
 ],
 "metadata": {
  "kernelspec": {
   "display_name": "Python 3 (ipykernel)",
   "language": "python",
   "name": "python3"
  },
  "language_info": {
   "codemirror_mode": {
    "name": "ipython",
    "version": 3
   },
   "file_extension": ".py",
   "mimetype": "text/x-python",
   "name": "python",
   "nbconvert_exporter": "python",
   "pygments_lexer": "ipython3",
   "version": "3.11.9"
  }
 },
 "nbformat": 4,
 "nbformat_minor": 5
}
