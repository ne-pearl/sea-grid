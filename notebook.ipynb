{
 "cells": [
  {
   "cell_type": "markdown",
   "id": "f307ec7d",
   "metadata": {},
   "source": []
  },
  {
   "cell_type": "code",
   "execution_count": 21,
   "id": "2047f936",
   "metadata": {},
   "outputs": [
    {
     "data": {
      "text/plain": [
       "1000"
      ]
     },
     "metadata": {},
     "output_type": "display_data"
    }
   ],
   "source": [
    "import HiGHS\n",
    "using DataFrames: DataFrame\n",
    "using JuMP\n",
    "\n",
    "axis(a) = axes(a, 1)\n",
    "base_power = 1000"
   ]
  },
  {
   "cell_type": "markdown",
   "id": "ed089f50",
   "metadata": {},
   "source": []
  },
  {
   "cell_type": "code",
   "execution_count": 22,
   "id": "7a99ec74",
   "metadata": {},
   "outputs": [
    {
     "data": {
      "text/html": [
       "<div><div style = \"float: left;\"><span>3×4 DataFrame</span></div><div style = \"clear: both;\"></div></div><div class = \"data-frame\" style = \"overflow-x: scroll;\"><table class = \"data-frame\" style = \"margin-bottom: 6px;\"><thead><tr class = \"header\"><th class = \"rowNumber\" style = \"font-weight: bold; text-align: right;\">Row</th><th style = \"text-align: left;\">id</th><th style = \"text-align: left;\">load</th><th style = \"text-align: left;\">x</th><th style = \"text-align: left;\">y</th></tr><tr class = \"subheader headerLastRow\"><th class = \"rowNumber\" style = \"font-weight: bold; text-align: right;\"></th><th title = \"Int64\" style = \"text-align: left;\">Int64</th><th title = \"Int64\" style = \"text-align: left;\">Int64</th><th title = \"Int64\" style = \"text-align: left;\">Int64</th><th title = \"Int64\" style = \"text-align: left;\">Int64</th></tr></thead><tbody><tr><td class = \"rowNumber\" style = \"font-weight: bold; text-align: right;\">1</td><td style = \"text-align: right;\">1</td><td style = \"text-align: right;\">0</td><td style = \"text-align: right;\">-1</td><td style = \"text-align: right;\">1</td></tr><tr><td class = \"rowNumber\" style = \"font-weight: bold; text-align: right;\">2</td><td style = \"text-align: right;\">2</td><td style = \"text-align: right;\">0</td><td style = \"text-align: right;\">1</td><td style = \"text-align: right;\">1</td></tr><tr><td class = \"rowNumber\" style = \"font-weight: bold; text-align: right;\">3</td><td style = \"text-align: right;\">3</td><td style = \"text-align: right;\">150</td><td style = \"text-align: right;\">0</td><td style = \"text-align: right;\">0</td></tr></tbody></table></div>"
      ],
      "text/latex": [
       "\\begin{tabular}{r|cccc}\n",
       "\t& id & load & x & y\\\\\n",
       "\t\\hline\n",
       "\t& Int64 & Int64 & Int64 & Int64\\\\\n",
       "\t\\hline\n",
       "\t1 & 1 & 0 & -1 & 1 \\\\\n",
       "\t2 & 2 & 0 & 1 & 1 \\\\\n",
       "\t3 & 3 & 150 & 0 & 0 \\\\\n",
       "\\end{tabular}\n"
      ],
      "text/plain": [
       "\u001b[1m3×4 DataFrame\u001b[0m\n",
       "\u001b[1m Row \u001b[0m│\u001b[1m id    \u001b[0m\u001b[1m load  \u001b[0m\u001b[1m x     \u001b[0m\u001b[1m y     \u001b[0m\n",
       "     │\u001b[90m Int64 \u001b[0m\u001b[90m Int64 \u001b[0m\u001b[90m Int64 \u001b[0m\u001b[90m Int64 \u001b[0m\n",
       "─────┼────────────────────────────\n",
       "   1 │     1      0     -1      1\n",
       "   2 │     2      0      1      1\n",
       "   3 │     3    150      0      0"
      ]
     },
     "metadata": {},
     "output_type": "display_data"
    }
   ],
   "source": [
    "# Network data\n",
    "nodes = [\n",
    "    (id=1, load=0, x=-1, y=1),\n",
    "    (id=2, load=0, x=1, y=1),\n",
    "    (id=3, load=150, x=0, y=0),\n",
    "] |> DataFrame"
   ]
  },
  {
   "cell_type": "markdown",
   "id": "125fbf6c",
   "metadata": {},
   "source": []
  },
  {
   "cell_type": "code",
   "execution_count": 23,
   "id": "bf08ca47",
   "metadata": {},
   "outputs": [
    {
     "data": {
      "text/html": [
       "<div><div style = \"float: left;\"><span>3×4 DataFrame</span></div><div style = \"clear: both;\"></div></div><div class = \"data-frame\" style = \"overflow-x: scroll;\"><table class = \"data-frame\" style = \"margin-bottom: 6px;\"><thead><tr class = \"header\"><th class = \"rowNumber\" style = \"font-weight: bold; text-align: right;\">Row</th><th style = \"text-align: left;\">id</th><th style = \"text-align: left;\">node_id</th><th style = \"text-align: left;\">capacity</th><th style = \"text-align: left;\">cost</th></tr><tr class = \"subheader headerLastRow\"><th class = \"rowNumber\" style = \"font-weight: bold; text-align: right;\"></th><th title = \"Int64\" style = \"text-align: left;\">Int64</th><th title = \"Int64\" style = \"text-align: left;\">Int64</th><th title = \"Int64\" style = \"text-align: left;\">Int64</th><th title = \"Int64\" style = \"text-align: left;\">Int64</th></tr></thead><tbody><tr><td class = \"rowNumber\" style = \"font-weight: bold; text-align: right;\">1</td><td style = \"text-align: right;\">1</td><td style = \"text-align: right;\">1</td><td style = \"text-align: right;\">200</td><td style = \"text-align: right;\">10</td></tr><tr><td class = \"rowNumber\" style = \"font-weight: bold; text-align: right;\">2</td><td style = \"text-align: right;\">2</td><td style = \"text-align: right;\">2</td><td style = \"text-align: right;\">200</td><td style = \"text-align: right;\">12</td></tr><tr><td class = \"rowNumber\" style = \"font-weight: bold; text-align: right;\">3</td><td style = \"text-align: right;\">3</td><td style = \"text-align: right;\">1</td><td style = \"text-align: right;\">200</td><td style = \"text-align: right;\">14</td></tr></tbody></table></div>"
      ],
      "text/latex": [
       "\\begin{tabular}{r|cccc}\n",
       "\t& id & node\\_id & capacity & cost\\\\\n",
       "\t\\hline\n",
       "\t& Int64 & Int64 & Int64 & Int64\\\\\n",
       "\t\\hline\n",
       "\t1 & 1 & 1 & 200 & 10 \\\\\n",
       "\t2 & 2 & 2 & 200 & 12 \\\\\n",
       "\t3 & 3 & 1 & 200 & 14 \\\\\n",
       "\\end{tabular}\n"
      ],
      "text/plain": [
       "\u001b[1m3×4 DataFrame\u001b[0m\n",
       "\u001b[1m Row \u001b[0m│\u001b[1m id    \u001b[0m\u001b[1m node_id \u001b[0m\u001b[1m capacity \u001b[0m\u001b[1m cost  \u001b[0m\n",
       "     │\u001b[90m Int64 \u001b[0m\u001b[90m Int64   \u001b[0m\u001b[90m Int64    \u001b[0m\u001b[90m Int64 \u001b[0m\n",
       "─────┼─────────────────────────────────\n",
       "   1 │     1        1       200     10\n",
       "   2 │     2        2       200     12\n",
       "   3 │     3        1       200     14"
      ]
     },
     "metadata": {},
     "output_type": "display_data"
    }
   ],
   "source": [
    "generators = [\n",
    "    (id=1, node_id=1, capacity=200, cost=10),\n",
    "    (id=2, node_id=2, capacity=200, cost=12),\n",
    "    (id=3, node_id=1, capacity=200, cost=14),\n",
    "] |> DataFrame"
   ]
  },
  {
   "cell_type": "markdown",
   "id": "c86c504d",
   "metadata": {},
   "source": []
  },
  {
   "cell_type": "code",
   "execution_count": 24,
   "id": "0c8239c4",
   "metadata": {},
   "outputs": [
    {
     "data": {
      "text/html": [
       "<div><div style = \"float: left;\"><span>3×5 DataFrame</span></div><div style = \"clear: both;\"></div></div><div class = \"data-frame\" style = \"overflow-x: scroll;\"><table class = \"data-frame\" style = \"margin-bottom: 6px;\"><thead><tr class = \"header\"><th class = \"rowNumber\" style = \"font-weight: bold; text-align: right;\">Row</th><th style = \"text-align: left;\">id</th><th style = \"text-align: left;\">from_node_id</th><th style = \"text-align: left;\">to_node_id</th><th style = \"text-align: left;\">susceptance</th><th style = \"text-align: left;\">capacity</th></tr><tr class = \"subheader headerLastRow\"><th class = \"rowNumber\" style = \"font-weight: bold; text-align: right;\"></th><th title = \"Int64\" style = \"text-align: left;\">Int64</th><th title = \"Int64\" style = \"text-align: left;\">Int64</th><th title = \"Int64\" style = \"text-align: left;\">Int64</th><th title = \"Float64\" style = \"text-align: left;\">Float64</th><th title = \"Int64\" style = \"text-align: left;\">Int64</th></tr></thead><tbody><tr><td class = \"rowNumber\" style = \"font-weight: bold; text-align: right;\">1</td><td style = \"text-align: right;\">1</td><td style = \"text-align: right;\">1</td><td style = \"text-align: right;\">2</td><td style = \"text-align: right;\">0.25</td><td style = \"text-align: right;\">30</td></tr><tr><td class = \"rowNumber\" style = \"font-weight: bold; text-align: right;\">2</td><td style = \"text-align: right;\">2</td><td style = \"text-align: right;\">1</td><td style = \"text-align: right;\">3</td><td style = \"text-align: right;\">0.25</td><td style = \"text-align: right;\">300</td></tr><tr><td class = \"rowNumber\" style = \"font-weight: bold; text-align: right;\">3</td><td style = \"text-align: right;\">3</td><td style = \"text-align: right;\">2</td><td style = \"text-align: right;\">3</td><td style = \"text-align: right;\">0.25</td><td style = \"text-align: right;\">300</td></tr></tbody></table></div>"
      ],
      "text/latex": [
       "\\begin{tabular}{r|ccccc}\n",
       "\t& id & from\\_node\\_id & to\\_node\\_id & susceptance & capacity\\\\\n",
       "\t\\hline\n",
       "\t& Int64 & Int64 & Int64 & Float64 & Int64\\\\\n",
       "\t\\hline\n",
       "\t1 & 1 & 1 & 2 & 0.25 & 30 \\\\\n",
       "\t2 & 2 & 1 & 3 & 0.25 & 300 \\\\\n",
       "\t3 & 3 & 2 & 3 & 0.25 & 300 \\\\\n",
       "\\end{tabular}\n"
      ],
      "text/plain": [
       "\u001b[1m3×5 DataFrame\u001b[0m\n",
       "\u001b[1m Row \u001b[0m│\u001b[1m id    \u001b[0m\u001b[1m from_node_id \u001b[0m\u001b[1m to_node_id \u001b[0m\u001b[1m susceptance \u001b[0m\u001b[1m capacity \u001b[0m\n",
       "     │\u001b[90m Int64 \u001b[0m\u001b[90m Int64        \u001b[0m\u001b[90m Int64      \u001b[0m\u001b[90m Float64     \u001b[0m\u001b[90m Int64    \u001b[0m\n",
       "─────┼────────────────────────────────────────────────────────\n",
       "   1 │     1             1           2         0.25        30\n",
       "   2 │     2             1           3         0.25       300\n",
       "   3 │     3             2           3         0.25       300"
      ]
     },
     "metadata": {},
     "output_type": "display_data"
    }
   ],
   "source": [
    "lines = [\n",
    "    (id=1, from_node_id=1, to_node_id=2, susceptance=0.25, capacity=30),\n",
    "    (id=2, from_node_id=1, to_node_id=3, susceptance=0.25, capacity=300),\n",
    "    (id=3, from_node_id=2, to_node_id=3, susceptance=0.25, capacity=300),\n",
    "] |> DataFrame"
   ]
  },
  {
   "cell_type": "markdown",
   "id": "14fc761f",
   "metadata": {},
   "source": []
  },
  {
   "cell_type": "code",
   "execution_count": 25,
   "id": "5eb5e7b5",
   "metadata": {},
   "outputs": [
    {
     "data": {
      "text/html": [
       "<div><div style = \"float: left;\"><span>3×4 DataFrame</span></div><div style = \"clear: both;\"></div></div><div class = \"data-frame\" style = \"overflow-x: scroll;\"><table class = \"data-frame\" style = \"margin-bottom: 6px;\"><thead><tr class = \"header\"><th class = \"rowNumber\" style = \"font-weight: bold; text-align: right;\">Row</th><th style = \"text-align: left;\">id</th><th style = \"text-align: left;\">generator_id</th><th style = \"text-align: left;\">max_quantity</th><th style = \"text-align: left;\">price</th></tr><tr class = \"subheader headerLastRow\"><th class = \"rowNumber\" style = \"font-weight: bold; text-align: right;\"></th><th title = \"Int64\" style = \"text-align: left;\">Int64</th><th title = \"Int64\" style = \"text-align: left;\">Int64</th><th title = \"Int64\" style = \"text-align: left;\">Int64</th><th title = \"Int64\" style = \"text-align: left;\">Int64</th></tr></thead><tbody><tr><td class = \"rowNumber\" style = \"font-weight: bold; text-align: right;\">1</td><td style = \"text-align: right;\">1</td><td style = \"text-align: right;\">1</td><td style = \"text-align: right;\">200</td><td style = \"text-align: right;\">10</td></tr><tr><td class = \"rowNumber\" style = \"font-weight: bold; text-align: right;\">2</td><td style = \"text-align: right;\">2</td><td style = \"text-align: right;\">2</td><td style = \"text-align: right;\">200</td><td style = \"text-align: right;\">12</td></tr><tr><td class = \"rowNumber\" style = \"font-weight: bold; text-align: right;\">3</td><td style = \"text-align: right;\">3</td><td style = \"text-align: right;\">3</td><td style = \"text-align: right;\">200</td><td style = \"text-align: right;\">14</td></tr></tbody></table></div>"
      ],
      "text/latex": [
       "\\begin{tabular}{r|cccc}\n",
       "\t& id & generator\\_id & max\\_quantity & price\\\\\n",
       "\t\\hline\n",
       "\t& Int64 & Int64 & Int64 & Int64\\\\\n",
       "\t\\hline\n",
       "\t1 & 1 & 1 & 200 & 10 \\\\\n",
       "\t2 & 2 & 2 & 200 & 12 \\\\\n",
       "\t3 & 3 & 3 & 200 & 14 \\\\\n",
       "\\end{tabular}\n"
      ],
      "text/plain": [
       "\u001b[1m3×4 DataFrame\u001b[0m\n",
       "\u001b[1m Row \u001b[0m│\u001b[1m id    \u001b[0m\u001b[1m generator_id \u001b[0m\u001b[1m max_quantity \u001b[0m\u001b[1m price \u001b[0m\n",
       "     │\u001b[90m Int64 \u001b[0m\u001b[90m Int64        \u001b[0m\u001b[90m Int64        \u001b[0m\u001b[90m Int64 \u001b[0m\n",
       "─────┼──────────────────────────────────────────\n",
       "   1 │     1             1           200     10\n",
       "   2 │     2             2           200     12\n",
       "   3 │     3             3           200     14"
      ]
     },
     "metadata": {},
     "output_type": "display_data"
    }
   ],
   "source": [
    "offers = [\n",
    "    (id=1, generator_id=1, max_quantity=200, price=10),\n",
    "    (id=2, generator_id=2, max_quantity=200, price=12),\n",
    "    (id=3, generator_id=3, max_quantity=200, price=14),\n",
    "] |> DataFrame"
   ]
  },
  {
   "cell_type": "markdown",
   "id": "c19f0cf0",
   "metadata": {},
   "source": []
  },
  {
   "cell_type": "code",
   "execution_count": 26,
   "id": "fb68c2d3",
   "metadata": {},
   "outputs": [
    {
     "data": {
      "text/plain": [
       "3×3 Matrix{Int64}:\n",
       " -1  -1   0\n",
       "  1   0  -1\n",
       "  0   1   1"
      ]
     },
     "metadata": {},
     "output_type": "display_data"
    }
   ],
   "source": [
    "node_line = [\n",
    "    if node.id == line.from_node_id\n",
    "        -1\n",
    "    elseif node.id == line.to_node_id\n",
    "        +1\n",
    "    else\n",
    "        0\n",
    "    end\n",
    "    for node = eachrow(nodes), line = eachrow(lines)\n",
    "]\n"
   ]
  },
  {
   "cell_type": "markdown",
   "id": "f8574cb2",
   "metadata": {},
   "source": []
  },
  {
   "cell_type": "code",
   "execution_count": 27,
   "id": "459b37e2",
   "metadata": {},
   "outputs": [
    {
     "data": {
      "text/plain": [
       "3×3×3 Array{Int64, 3}:\n",
       "[:, :, 1] =\n",
       " 1  0  0\n",
       " 0  0  0\n",
       " 0  0  0\n",
       "\n",
       "[:, :, 2] =\n",
       " 0  0  0\n",
       " 0  1  0\n",
       " 0  0  0\n",
       "\n",
       "[:, :, 3] =\n",
       " 0  0  1\n",
       " 0  0  0\n",
       " 0  0  0"
      ]
     },
     "metadata": {},
     "output_type": "display_data"
    }
   ],
   "source": [
    "node_generator_offer = [\n",
    "    if node.id == generator.node_id && generator.id == offer.generator_id\n",
    "        1\n",
    "    else\n",
    "        0\n",
    "    end\n",
    "    for node = eachrow(nodes), generator = eachrow(generators), offer = eachrow(offers)\n",
    "]\n"
   ]
  },
  {
   "cell_type": "markdown",
   "id": "38c46b7b",
   "metadata": {},
   "source": []
  },
  {
   "cell_type": "code",
   "execution_count": 28,
   "id": "2a741d17",
   "metadata": {},
   "outputs": [
    {
     "data": {
      "text/plain": [
       "3-element Vector{VariableRef}:\n",
       " θ[1]\n",
       " θ[2]\n",
       " θ[3]"
      ]
     },
     "metadata": {},
     "output_type": "display_data"
    }
   ],
   "source": [
    "model = Model(HiGHS.Optimizer)\n",
    "\n",
    "@variable(model, p[o=axis(offers)])\n",
    "@variable(model, f[ℓ=axis(lines)])\n",
    "@variable(model, θ[n=axis(nodes)])"
   ]
  },
  {
   "cell_type": "markdown",
   "id": "d695ec34",
   "metadata": {},
   "source": []
  },
  {
   "cell_type": "code",
   "execution_count": 29,
   "id": "3b3ab81c",
   "metadata": {},
   "outputs": [
    {
     "data": {
      "text/latex": [
       "$ 10 p_{1} + 12 p_{2} + 14 p_{3} $"
      ],
      "text/plain": [
       "10 p[1] + 12 p[2] + 14 p[3]"
      ]
     },
     "metadata": {},
     "output_type": "display_data"
    }
   ],
   "source": [
    "@objective(model, Min, sum(offers[:, :price] .* p))"
   ]
  },
  {
   "cell_type": "markdown",
   "id": "34c63ebe",
   "metadata": {},
   "source": []
  },
  {
   "cell_type": "code",
   "execution_count": 30,
   "id": "e607cc94",
   "metadata": {},
   "outputs": [
    {
     "data": {
      "text/plain": [
       "3-element Vector{ConstraintRef{Model, MathOptInterface.ConstraintIndex{MathOptInterface.ScalarAffineFunction{Float64}, MathOptInterface.EqualTo{Float64}}, ScalarShape}}:\n",
       " balance[1] : p[1] + p[3] - f[1] - f[2] == 0\n",
       " balance[2] : p[2] + f[1] - f[3] == 0\n",
       " balance[3] : f[2] + f[3] == 150"
      ]
     },
     "metadata": {},
     "output_type": "display_data"
    }
   ],
   "source": [
    "@constraint(\n",
    "    model,\n",
    "    balance[n=axis(nodes)],\n",
    "    sum(\n",
    "        node_generator_offer[n, g, o] * p[o]\n",
    "        for g = axis(generators)\n",
    "        for o = axis(offers)\n",
    "    ) +\n",
    "    sum(node_line[n, ℓ] * f[ℓ] for ℓ = axis(lines))\n",
    "    ==\n",
    "    nodes[n, :load]\n",
    ")"
   ]
  },
  {
   "cell_type": "markdown",
   "id": "3e2ddbf5",
   "metadata": {},
   "source": []
  },
  {
   "cell_type": "code",
   "execution_count": 31,
   "id": "cd26e8d1",
   "metadata": {},
   "outputs": [
    {
     "data": {
      "text/plain": [
       "3-element Vector{ConstraintRef{Model, MathOptInterface.ConstraintIndex{MathOptInterface.ScalarAffineFunction{Float64}, MathOptInterface.EqualTo{Float64}}, ScalarShape}}:\n",
       " flow[1] : -f[1] - 250 θ[1] + 250 θ[2] == 0\n",
       " flow[2] : -f[2] - 250 θ[1] + 250 θ[3] == 0\n",
       " flow[3] : -f[3] - 250 θ[2] + 250 θ[3] == 0"
      ]
     },
     "metadata": {},
     "output_type": "display_data"
    }
   ],
   "source": [
    "@constraint(\n",
    "    model,\n",
    "    flow[ℓ=axis(lines)],\n",
    "    sum(base_power * node_line[n, ℓ] * θ[n] * lines[ℓ, :susceptance] for n = axis(nodes)) == f[ℓ]\n",
    ")"
   ]
  },
  {
   "cell_type": "markdown",
   "id": "8273a76b",
   "metadata": {},
   "source": []
  },
  {
   "cell_type": "code",
   "execution_count": 32,
   "id": "9b2ea510",
   "metadata": {},
   "outputs": [
    {
     "data": {
      "text/latex": [
       "$$ θ_{1} = 0 $$"
      ],
      "text/plain": [
       "reference_angle : θ[1] == 0"
      ]
     },
     "metadata": {},
     "output_type": "display_data"
    }
   ],
   "source": [
    "@constraint(model, offer_bounds[o=axis(offers)], 0 .≤ p[o] .≤ offers[o, :max_quantity])\n",
    "@constraint(model, flow_bounds[ℓ=axis(lines)], -lines[ℓ, :capacity] ≤ f[ℓ] ≤ +lines[ℓ, :capacity])\n",
    "@constraint(model, angle_bounds[n=axis(nodes)], -π ≤ θ[n] ≤ +π)\n",
    "@constraint(model, reference_angle, θ[1] == 0)\n"
   ]
  },
  {
   "cell_type": "markdown",
   "id": "dbbae4af",
   "metadata": {},
   "source": []
  },
  {
   "cell_type": "code",
   "execution_count": 33,
   "id": "dbe0244f",
   "metadata": {},
   "outputs": [
    {
     "name": "stdout",
     "output_type": "stream",
     "text": [
      "Running HiGHS 1.10.0 (git hash: fd8665394e): Copyright (c) 2025 HiGHS under MIT licence terms\n",
      "LP   has 16 rows; 9 cols; 28 nonzeros\n",
      "Coefficient ranges:\n",
      "  Matrix [1e+00, 2e+02]\n",
      "  Cost   [1e+01, 1e+01]\n",
      "  Bound  [0e+00, 0e+00]\n",
      "  RHS    [3e+00, 3e+02]\n",
      "Presolving model\n",
      "5 rows, 7 cols, 14 nonzeros  0s\n",
      "0 rows, 0 cols, 0 nonzeros  0s\n",
      "Presolve : Reductions: rows 0(-16); columns 0(-9); elements 0(-28) - Reduced to empty\n",
      "Solving the original LP from the solution after postsolve\n",
      "Model status        : Optimal\n",
      "Objective value     :  1.5600000000e+03\n",
      "Relative P-D gap    :  0.0000000000e+00\n",
      "HiGHS run time      :          0.00\n"
     ]
    }
   ],
   "source": [
    "model\n",
    "\n",
    "optimize!(model)\n"
   ]
  },
  {
   "cell_type": "markdown",
   "id": "21edac97",
   "metadata": {},
   "source": []
  },
  {
   "cell_type": "code",
   "execution_count": 34,
   "id": "93336af1",
   "metadata": {},
   "outputs": [
    {
     "name": "stdout",
     "output_type": "stream",
     "text": [
      "p_star = value.(p) = [120.0, 30.0, -0.0]\n",
      "f_star = value.(f) = [30.0, 90.0, 60.0]\n",
      "θ_star_deg = (value.(θ) .* 180) / π = [-0.0, 6.875493541569878, 20.626480624709636]\n",
      "prices = dual.(balance) = [10.0, 12.0, 11.0]\n"
     ]
    },
    {
     "data": {
      "text/plain": [
       "3-element Vector{Float64}:\n",
       " 10.0\n",
       " 12.0\n",
       " 11.0"
      ]
     },
     "metadata": {},
     "output_type": "display_data"
    }
   ],
   "source": [
    "@show p_star = value.(p)\n",
    "@show f_star = value.(f)\n",
    "@show θ_star_deg = value.(θ) .* 180 / π\n",
    "@show prices = dual.(balance)"
   ]
  }
 ],
 "metadata": {
  "kernelspec": {
   "display_name": "Julia 1.11.4",
   "language": "julia",
   "name": "julia-1.11"
  },
  "language_info": {
   "file_extension": ".jl",
   "mimetype": "application/julia",
   "name": "julia",
   "version": "1.11.4"
  }
 },
 "nbformat": 4,
 "nbformat_minor": 5
}
