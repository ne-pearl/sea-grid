{
 "cells": [
  {
   "cell_type": "markdown",
   "id": "073708fe",
   "metadata": {},
   "source": [
    "Module imports"
   ]
  },
  {
   "cell_type": "code",
   "execution_count": 1,
   "id": "88658420",
   "metadata": {},
   "outputs": [],
   "source": [
    "import math\n",
    "import matplotlib.cm as cm\n",
    "import matplotlib.pyplot as plt\n",
    "import networkx as nx\n",
    "import numpy as np\n",
    "import pyomo.environ as pyo\n",
    "from pyomo.core import Model\n",
    "from pyomo.core.expr.relational_expr import EqualityExpression\n",
    "from polars import DataFrame, Series, col"
   ]
  },
  {
   "cell_type": "markdown",
   "id": "b471ca3a",
   "metadata": {},
   "source": [
    "Data"
   ]
  },
  {
   "cell_type": "code",
   "execution_count": 2,
   "id": "a8b7c152",
   "metadata": {},
   "outputs": [],
   "source": [
    "# Base power\n",
    "base_power = 1000\n",
    "\n",
    "# Network data\n",
    "nodes = DataFrame(\n",
    "    [\n",
    "        {\"id\": \"N1\", \"load\": 0},\n",
    "        {\"id\": \"N2\", \"load\": 0},\n",
    "        {\"id\": \"N3\", \"load\": 150},\n",
    "    ]\n",
    ")\n",
    "generators = DataFrame(\n",
    "    [  # excludes \"capacity\", \"cost\"\n",
    "        {\"id\": \"G1\", \"node_id\": \"N1\"},\n",
    "        {\"id\": \"G2\", \"node_id\": \"N2\"},\n",
    "        {\"id\": \"G3\", \"node_id\": \"N1\"},\n",
    "    ]\n",
    ")\n",
    "lines = DataFrame(\n",
    "    # fmt: off\n",
    "    [\n",
    "        {\"from_node_id\": \"N1\", \"to_node_id\": \"N2\", \"susceptance\": 0.25, \"capacity\": 30.},\n",
    "        {\"from_node_id\": \"N1\", \"to_node_id\": \"N3\", \"susceptance\": 0.25, \"capacity\": 300.},\n",
    "        {\"from_node_id\": \"N2\", \"to_node_id\": \"N3\", \"susceptance\": 0.25, \"capacity\": 300.},\n",
    "    ]\n",
    "    # fmt: on\n",
    ")\n",
    "offers = DataFrame(\n",
    "    [\n",
    "        {\"id\": \"G1a\", \"generator_id\": \"G1\", \"max_quantity\": 200.0, \"price\": 10.00},\n",
    "        {\"id\": \"G2a\", \"generator_id\": \"G2\", \"max_quantity\": 200.0, \"price\": 12.00},\n",
    "        {\"id\": \"G3a\", \"generator_id\": \"G3\", \"max_quantity\": 200.0, \"price\": 14.00},\n",
    "        # {\"id\": \"G1b\", \"generator_id\": \"G1\", \"max_quantity\": 100.0, \"price\": 20.00},\n",
    "        # {\"id\": \"G2b\", \"generator_id\": \"G2\", \"max_quantity\": 100.0, \"price\": 22.00},\n",
    "        # {\"id\": \"G3b\", \"generator_id\": \"G3\", \"max_quantity\": 100.0, \"price\": 24.00},\n",
    "    ]\n",
    ").sort(by=[\"generator_id\", \"price\"])\n"
   ]
  },
  {
   "cell_type": "markdown",
   "id": "e17e310e",
   "metadata": {},
   "source": [
    "Examine the data in tabular format"
   ]
  },
  {
   "cell_type": "code",
   "execution_count": 3,
   "id": "5273e6eb",
   "metadata": {},
   "outputs": [
    {
     "data": {
      "text/html": [
       "<div><style>\n",
       ".dataframe > thead > tr,\n",
       ".dataframe > tbody > tr {\n",
       "  text-align: right;\n",
       "  white-space: pre-wrap;\n",
       "}\n",
       "</style>\n",
       "<small>shape: (3, 4)</small><table border=\"1\" class=\"dataframe\"><thead><tr><th>from_node_id</th><th>to_node_id</th><th>susceptance</th><th>capacity</th></tr><tr><td>str</td><td>str</td><td>f64</td><td>f64</td></tr></thead><tbody><tr><td>&quot;N1&quot;</td><td>&quot;N2&quot;</td><td>0.25</td><td>30.0</td></tr><tr><td>&quot;N1&quot;</td><td>&quot;N3&quot;</td><td>0.25</td><td>300.0</td></tr><tr><td>&quot;N2&quot;</td><td>&quot;N3&quot;</td><td>0.25</td><td>300.0</td></tr></tbody></table></div>"
      ],
      "text/plain": [
       "shape: (3, 4)\n",
       "┌──────────────┬────────────┬─────────────┬──────────┐\n",
       "│ from_node_id ┆ to_node_id ┆ susceptance ┆ capacity │\n",
       "│ ---          ┆ ---        ┆ ---         ┆ ---      │\n",
       "│ str          ┆ str        ┆ f64         ┆ f64      │\n",
       "╞══════════════╪════════════╪═════════════╪══════════╡\n",
       "│ N1           ┆ N2         ┆ 0.25        ┆ 30.0     │\n",
       "│ N1           ┆ N3         ┆ 0.25        ┆ 300.0    │\n",
       "│ N2           ┆ N3         ┆ 0.25        ┆ 300.0    │\n",
       "└──────────────┴────────────┴─────────────┴──────────┘"
      ]
     },
     "execution_count": 3,
     "metadata": {},
     "output_type": "execute_result"
    }
   ],
   "source": [
    "lines"
   ]
  },
  {
   "cell_type": "markdown",
   "id": "0f627643",
   "metadata": {},
   "source": [
    "Index sets"
   ]
  },
  {
   "cell_type": "code",
   "execution_count": 4,
   "id": "71d8ff30",
   "metadata": {},
   "outputs": [],
   "source": [
    "Nodes = range(nodes.height)\n",
    "Lines = range(lines.height)\n",
    "Offers = range(offers.height)\n",
    "Generators = range(generators.height)\n"
   ]
  },
  {
   "cell_type": "code",
   "execution_count": 5,
   "id": "709c1967",
   "metadata": {},
   "outputs": [
    {
     "data": {
      "text/plain": [
       "[0, 1, 2]"
      ]
     },
     "execution_count": 5,
     "metadata": {},
     "output_type": "execute_result"
    }
   ],
   "source": [
    "list(Nodes)"
   ]
  },
  {
   "cell_type": "markdown",
   "id": "7b2c33ee",
   "metadata": {},
   "source": [
    "Define decision variables"
   ]
  },
  {
   "cell_type": "code",
   "execution_count": 6,
   "id": "87d68693",
   "metadata": {},
   "outputs": [],
   "source": [
    "model = pyo.ConcreteModel()\n",
    "\n",
    "\n",
    "def supply_bounds(model: Model, o: int) -> tuple[float, float]:\n",
    "    return (0.0, offers[o, \"max_quantity\"])\n",
    "\n",
    "\n",
    "def flow_bounds(model: Model, ell: int) -> tuple[float, float]:\n",
    "    capacity = lines[ell, \"capacity\"]\n",
    "    return (-capacity, +capacity)\n",
    "\n",
    "\n",
    "model.p = pyo.Var(Offers, bounds=supply_bounds)\n",
    "model.f = pyo.Var(Lines, bounds=flow_bounds)\n",
    "model.theta = pyo.Var(Nodes, bounds=(-math.pi, +math.pi))\n",
    "model.dual = pyo.Suffix(direction=pyo.Suffix.IMPORT)  # nodal prices"
   ]
  },
  {
   "cell_type": "code",
   "execution_count": 7,
   "id": "95dbd470",
   "metadata": {},
   "outputs": [
    {
     "name": "stdout",
     "output_type": "stream",
     "text": [
      "f : Size=3, Index={0, 1, 2}\n",
      "    Key : Lower  : Value : Upper : Fixed : Stale : Domain\n",
      "      0 :  -30.0 :  None :  30.0 : False :  True :  Reals\n",
      "      1 : -300.0 :  None : 300.0 : False :  True :  Reals\n",
      "      2 : -300.0 :  None : 300.0 : False :  True :  Reals\n"
     ]
    }
   ],
   "source": [
    "model.f.pprint()"
   ]
  },
  {
   "cell_type": "markdown",
   "id": "42d281e2",
   "metadata": {},
   "source": [
    "Objective function to be minimized"
   ]
  },
  {
   "cell_type": "code",
   "execution_count": 8,
   "id": "ce20826e",
   "metadata": {},
   "outputs": [],
   "source": [
    "model.total_cost = pyo.Objective(\n",
    "    expr=sum(offers[o, \"price\"] * model.p[o] for o in Offers),\n",
    "    sense=pyo.minimize,\n",
    ")"
   ]
  },
  {
   "cell_type": "markdown",
   "id": "42149946",
   "metadata": {},
   "source": [
    "Incidence relationships"
   ]
  },
  {
   "cell_type": "code",
   "execution_count": 9,
   "id": "229f4967",
   "metadata": {},
   "outputs": [],
   "source": [
    "def network_incidence(n: int, ell: int) -> int:\n",
    "    if nodes[n, \"id\"] == lines[ell, \"from_node_id\"]:\n",
    "        return -1\n",
    "    if nodes[n, \"id\"] == lines[ell, \"to_node_id\"]:\n",
    "        return +1\n",
    "    else:\n",
    "        return 0\n",
    "\n",
    "\n",
    "def supply_incidence(n: int, g: int, o: int) -> bool:\n",
    "    node_generator: bool = nodes[n, \"id\"] == generators[g, \"node_id\"]\n",
    "    generator_offer: bool = generators[g, \"id\"] == offers[o, \"generator_id\"]\n",
    "    return node_generator and generator_offer"
   ]
  },
  {
   "cell_type": "markdown",
   "id": "d7f3b674",
   "metadata": {},
   "source": [
    "Constraints on decision variables"
   ]
  },
  {
   "cell_type": "code",
   "execution_count": 10,
   "id": "2077a1b9",
   "metadata": {},
   "outputs": [],
   "source": [
    "def balance_rule(model: Model, n: int) -> EqualityExpression:\n",
    "    return (\n",
    "        sum(model.p[o] for g in Generators for o in Offers if supply_incidence(n, g, o))\n",
    "        + sum(network_incidence(n, ell) * model.f[ell] for ell in Lines)\n",
    "        == nodes[n, \"load\"]\n",
    "    )\n",
    "\n",
    "\n",
    "def flow_rule(model: Model, ell: int) -> EqualityExpression:\n",
    "    return (\n",
    "        sum(\n",
    "            base_power\n",
    "            * sign\n",
    "            * lines[ell, \"susceptance\"]\n",
    "            * model.theta[n]\n",
    "            for n in Nodes\n",
    "            if (sign := network_incidence(n, ell))\n",
    "        )\n",
    "        == model.f[ell]\n",
    "    )\n",
    "\n",
    "\n",
    "model.balance = pyo.Constraint(Nodes, rule=balance_rule)\n",
    "model.flow = pyo.Constraint(Lines, rule=flow_rule)\n",
    "model.reference_angle = pyo.Constraint(expr=model.theta[0] == 0.0)"
   ]
  },
  {
   "cell_type": "code",
   "execution_count": 11,
   "id": "a07ff5e5",
   "metadata": {},
   "outputs": [
    {
     "name": "stdout",
     "output_type": "stream",
     "text": [
      "balance : Size=3, Index={0, 1, 2}, Active=True\n",
      "    Key : Lower : Body                               : Upper : Active\n",
      "      0 :   0.0 : p[0] + p[2] - f[0] - f[1] + 0*f[2] :   0.0 :   True\n",
      "      1 :   0.0 :        f[0] + 0*f[1] - f[2] + p[1] :   0.0 :   True\n",
      "      2 : 150.0 :               0*f[0] + f[1] + f[2] : 150.0 :   True\n"
     ]
    }
   ],
   "source": [
    "model.balance.pprint()"
   ]
  },
  {
   "cell_type": "code",
   "execution_count": 12,
   "id": "d1886902",
   "metadata": {},
   "outputs": [
    {
     "name": "stdout",
     "output_type": "stream",
     "text": [
      "3 Var Declarations\n",
      "    f : Size=3, Index={0, 1, 2}\n",
      "        Key : Lower  : Value : Upper : Fixed : Stale : Domain\n",
      "          0 :  -30.0 :  None :  30.0 : False :  True :  Reals\n",
      "          1 : -300.0 :  None : 300.0 : False :  True :  Reals\n",
      "          2 : -300.0 :  None : 300.0 : False :  True :  Reals\n",
      "    p : Size=3, Index={0, 1, 2}\n",
      "        Key : Lower : Value : Upper : Fixed : Stale : Domain\n",
      "          0 :   0.0 :  None : 200.0 : False :  True :  Reals\n",
      "          1 :   0.0 :  None : 200.0 : False :  True :  Reals\n",
      "          2 :   0.0 :  None : 200.0 : False :  True :  Reals\n",
      "    theta : Size=3, Index={0, 1, 2}\n",
      "        Key : Lower              : Value : Upper             : Fixed : Stale : Domain\n",
      "          0 : -3.141592653589793 :  None : 3.141592653589793 : False :  True :  Reals\n",
      "          1 : -3.141592653589793 :  None : 3.141592653589793 : False :  True :  Reals\n",
      "          2 : -3.141592653589793 :  None : 3.141592653589793 : False :  True :  Reals\n",
      "\n",
      "1 Objective Declarations\n",
      "    total_cost : Size=1, Index=None, Active=True\n",
      "        Key  : Active : Sense    : Expression\n",
      "        None :   True : minimize : 10.0*p[0] + 12.0*p[1] + 14.0*p[2]\n",
      "\n",
      "3 Constraint Declarations\n",
      "    balance : Size=3, Index={0, 1, 2}, Active=True\n",
      "        Key : Lower : Body                               : Upper : Active\n",
      "          0 :   0.0 : p[0] + p[2] - f[0] - f[1] + 0*f[2] :   0.0 :   True\n",
      "          1 :   0.0 :        f[0] + 0*f[1] - f[2] + p[1] :   0.0 :   True\n",
      "          2 : 150.0 :               0*f[0] + f[1] + f[2] : 150.0 :   True\n",
      "    flow : Size=3, Index={0, 1, 2}, Active=True\n",
      "        Key : Lower : Body                                    : Upper : Active\n",
      "          0 :   0.0 : -250.0*theta[0] + 250.0*theta[1] - f[0] :   0.0 :   True\n",
      "          1 :   0.0 : -250.0*theta[0] + 250.0*theta[2] - f[1] :   0.0 :   True\n",
      "          2 :   0.0 : -250.0*theta[1] + 250.0*theta[2] - f[2] :   0.0 :   True\n",
      "    reference_angle : Size=1, Index=None, Active=True\n",
      "        Key  : Lower : Body     : Upper : Active\n",
      "        None :   0.0 : theta[0] :   0.0 :   True\n",
      "\n",
      "1 Suffix Declarations\n",
      "    dual : Direction=IMPORT, Datatype=FLOAT\n",
      "        Key : Value\n",
      "\n",
      "8 Declarations: p f theta dual total_cost balance flow reference_angle\n"
     ]
    }
   ],
   "source": [
    "model.pprint()"
   ]
  },
  {
   "cell_type": "markdown",
   "id": "935f03b8",
   "metadata": {},
   "source": [
    "Solve the optimization problem with [HiGHS](https://en.wikipedia.org/wiki/HiGHS_optimization_solver):"
   ]
  },
  {
   "cell_type": "code",
   "execution_count": 13,
   "id": "1fcc69a6",
   "metadata": {},
   "outputs": [
    {
     "name": "stdout",
     "output_type": "stream",
     "text": [
      "Running HiGHS 1.10.0 (git hash: fd86653): Copyright (c) 2025 HiGHS under MIT licence terms\n",
      "LP   has 7 rows; 9 cols; 19 nonzeros\n",
      "Coefficient ranges:\n",
      "  Matrix [1e+00, 2e+02]\n",
      "  Cost   [1e+01, 1e+01]\n",
      "  Bound  [3e+00, 3e+02]\n",
      "  RHS    [2e+02, 2e+02]\n",
      "Presolving model\n",
      "5 rows, 7 cols, 14 nonzeros  0s\n",
      "0 rows, 1 cols, 0 nonzeros  0s\n",
      "0 rows, 0 cols, 0 nonzeros  0s\n",
      "Presolve : Reductions: rows 0(-7); columns 0(-9); elements 0(-19) - Reduced to empty\n",
      "Solving the original LP from the solution after postsolve\n",
      "Model status        : Optimal\n",
      "Objective value     :  1.5600000000e+03\n",
      "Relative P-D gap    :  0.0000000000e+00\n",
      "HiGHS run time      :          0.00\n"
     ]
    }
   ],
   "source": [
    "solver = pyo.SolverFactory(\"highs\")\n",
    "results = solver.solve(model, tee=True)  # tee output to console"
   ]
  },
  {
   "cell_type": "markdown",
   "id": "c07a8e3a",
   "metadata": {},
   "source": [
    "Extract optimal decision values:"
   ]
  },
  {
   "cell_type": "code",
   "execution_count": 14,
   "id": "5be6aeec",
   "metadata": {},
   "outputs": [],
   "source": [
    "supply = [pyo.value(model.p[o]) for o in Offers]\n",
    "flow = [pyo.value(model.f[ell]) for ell in Lines]\n",
    "angles_deg = [pyo.value(model.theta[n]) * 180 / math.pi for n in Nodes]\n",
    "prices = [model.dual[model.balance[n]] for n in Nodes]\n",
    "\n",
    "offers = offers.with_columns([Series(\"supply\", supply)])\n",
    "lines = lines.with_columns([Series(\"flow\", flow)])\n",
    "nodes = nodes.with_columns([Series(\"theta_deg\", angles_deg), Series(\"price\", prices)])\n",
    "\n",
    "supply_prices = offers.group_by(\"generator_id\").agg(col(\"price\"))\n",
    "supply_totals = offers.group_by(\"generator_id\").agg(col(\"supply\").sum())\n",
    "generators = generators.join(\n",
    "    supply_totals, left_on=\"id\", right_on=\"generator_id\", how=\"left\"\n",
    ")\n",
    "generators = generators.join(\n",
    "    supply_prices, left_on=\"id\", right_on=\"generator_id\", how=\"left\"\n",
    ")\n",
    "generators = generators.with_columns(\n",
    "    col(\"price\")\n",
    "    .map_elements(lambda x: \", \".join(map(\"{:.2f}\".format, sorted(x))), return_dtype=str)\n",
    "    .alias(\"prices\")\n",
    ")"
   ]
  },
  {
   "cell_type": "code",
   "execution_count": 15,
   "id": "f422a31f",
   "metadata": {},
   "outputs": [
    {
     "data": {
      "text/html": [
       "<div><style>\n",
       ".dataframe > thead > tr,\n",
       ".dataframe > tbody > tr {\n",
       "  text-align: right;\n",
       "  white-space: pre-wrap;\n",
       "}\n",
       "</style>\n",
       "<small>shape: (3, 4)</small><table border=\"1\" class=\"dataframe\"><thead><tr><th>id</th><th>load</th><th>theta_deg</th><th>price</th></tr><tr><td>str</td><td>i64</td><td>f64</td><td>f64</td></tr></thead><tbody><tr><td>&quot;N1&quot;</td><td>0</td><td>-0.0</td><td>10.0</td></tr><tr><td>&quot;N2&quot;</td><td>0</td><td>6.875494</td><td>12.0</td></tr><tr><td>&quot;N3&quot;</td><td>150</td><td>20.626481</td><td>11.0</td></tr></tbody></table></div>"
      ],
      "text/plain": [
       "shape: (3, 4)\n",
       "┌─────┬──────┬───────────┬───────┐\n",
       "│ id  ┆ load ┆ theta_deg ┆ price │\n",
       "│ --- ┆ ---  ┆ ---       ┆ ---   │\n",
       "│ str ┆ i64  ┆ f64       ┆ f64   │\n",
       "╞═════╪══════╪═══════════╪═══════╡\n",
       "│ N1  ┆ 0    ┆ -0.0      ┆ 10.0  │\n",
       "│ N2  ┆ 0    ┆ 6.875494  ┆ 12.0  │\n",
       "│ N3  ┆ 150  ┆ 20.626481 ┆ 11.0  │\n",
       "└─────┴──────┴───────────┴───────┘"
      ]
     },
     "execution_count": 15,
     "metadata": {},
     "output_type": "execute_result"
    }
   ],
   "source": [
    "nodes"
   ]
  },
  {
   "cell_type": "code",
   "execution_count": 16,
   "id": "2e9379ab",
   "metadata": {},
   "outputs": [
    {
     "data": {
      "text/html": [
       "<div><style>\n",
       ".dataframe > thead > tr,\n",
       ".dataframe > tbody > tr {\n",
       "  text-align: right;\n",
       "  white-space: pre-wrap;\n",
       "}\n",
       "</style>\n",
       "<small>shape: (3, 5)</small><table border=\"1\" class=\"dataframe\"><thead><tr><th>id</th><th>node_id</th><th>supply</th><th>price</th><th>prices</th></tr><tr><td>str</td><td>str</td><td>f64</td><td>list[f64]</td><td>str</td></tr></thead><tbody><tr><td>&quot;G1&quot;</td><td>&quot;N1&quot;</td><td>120.0</td><td>[10.0]</td><td>&quot;10.00&quot;</td></tr><tr><td>&quot;G2&quot;</td><td>&quot;N2&quot;</td><td>30.0</td><td>[12.0]</td><td>&quot;12.00&quot;</td></tr><tr><td>&quot;G3&quot;</td><td>&quot;N1&quot;</td><td>0.0</td><td>[14.0]</td><td>&quot;14.00&quot;</td></tr></tbody></table></div>"
      ],
      "text/plain": [
       "shape: (3, 5)\n",
       "┌─────┬─────────┬────────┬───────────┬────────┐\n",
       "│ id  ┆ node_id ┆ supply ┆ price     ┆ prices │\n",
       "│ --- ┆ ---     ┆ ---    ┆ ---       ┆ ---    │\n",
       "│ str ┆ str     ┆ f64    ┆ list[f64] ┆ str    │\n",
       "╞═════╪═════════╪════════╪═══════════╪════════╡\n",
       "│ G1  ┆ N1      ┆ 120.0  ┆ [10.0]    ┆ 10.00  │\n",
       "│ G2  ┆ N2      ┆ 30.0   ┆ [12.0]    ┆ 12.00  │\n",
       "│ G3  ┆ N1      ┆ 0.0    ┆ [14.0]    ┆ 14.00  │\n",
       "└─────┴─────────┴────────┴───────────┴────────┘"
      ]
     },
     "execution_count": 16,
     "metadata": {},
     "output_type": "execute_result"
    }
   ],
   "source": [
    "generators"
   ]
  },
  {
   "cell_type": "code",
   "execution_count": 17,
   "id": "a5ef4acc",
   "metadata": {},
   "outputs": [],
   "source": [
    "network = nx.DiGraph()\n",
    "\n",
    "network.add_nodes_from(nodes[\"id\"])\n",
    "network.add_nodes_from(generators[\"id\"])\n",
    "bus_color = [\"lightblue\" for _ in nodes[\"id\"]]\n",
    "generator_color = [\"lightgreen\" for _ in generators[\"id\"]]\n",
    "node_color = [*bus_color, *generator_color]\n",
    "\n",
    "network.add_edges_from(zip(lines[\"from_node_id\"], lines[\"to_node_id\"]))\n",
    "network.add_edges_from(zip(generators[\"id\"], generators[\"node_id\"]))\n",
    "line_utilization = lines[\"flow\"].abs() / lines[\"capacity\"]\n",
    "connection_utilization = [0.0 for _ in generators[\"id\"]]\n",
    "edge_utilization = [*line_utilization, *connection_utilization]\n"
   ]
  },
  {
   "cell_type": "code",
   "execution_count": 18,
   "id": "2a805d6e",
   "metadata": {},
   "outputs": [],
   "source": [
    "def mapvalues(f, keys, *values) -> dict:\n",
    "    return dict(zip(keys, map(f, *values)))\n",
    "\n",
    "\n",
    "def offset(pos: dict, dx: float, dy: float) -> dict:\n",
    "    dxy = np.array([dx, dy])\n",
    "    return {node: xy + dxy for node, xy in pos.items()}"
   ]
  },
  {
   "cell_type": "code",
   "execution_count": 19,
   "id": "d58990f2",
   "metadata": {},
   "outputs": [],
   "source": [
    "nodal_price_labels = mapvalues(\"${:.2f}/MWh\".format, nodes[\"id\"], nodes[\"price\"])\n",
    "offer_price_labels = mapvalues(\n",
    "    \"${:}/MWh\".format, generators[\"id\"], generators[\"prices\"]\n",
    ")\n",
    "flow_labels = mapvalues(\n",
    "    \"{:.0f}MW/{:.0f}MW\".format,\n",
    "    zip(lines[\"from_node_id\"], lines[\"to_node_id\"]),\n",
    "    lines[\"flow\"],\n",
    "    lines[\"capacity\"],\n",
    ")\n",
    "supply_labels = mapvalues(\n",
    "    \"{:.0f}MW\".format,\n",
    "    zip(generators[\"id\"], generators[\"node_id\"]),\n",
    "    generators[\"supply\"],\n",
    ")"
   ]
  },
  {
   "cell_type": "code",
   "execution_count": 20,
   "id": "65b8e939",
   "metadata": {},
   "outputs": [
    {
     "data": {
      "image/png": "[encoded data removed]",
      "text/plain": [
       "<Figure size 640x480 with 1 Axes>"
      ]
     },
     "metadata": {},
     "output_type": "display_data"
    }
   ],
   "source": [
    "pos = nx.spring_layout(network, k=3 / math.sqrt(network.number_of_nodes()), seed=0)\n",
    "nx.draw_networkx(\n",
    "    network, \n",
    "    pos,\n",
    "    with_labels=True,\n",
    "    node_color=node_color,\n",
    "    edge_color=edge_utilization,\n",
    "    edge_cmap=cm.cool,\n",
    "    edge_vmin=0.0,\n",
    "    edge_vmax=1.0,\n",
    ")\n",
    "nx.draw_networkx_labels(\n",
    "    network,\n",
    "    offset(pos, 0, -0.1),\n",
    "    labels=nodal_price_labels | offer_price_labels,\n",
    "    font_size=9,\n",
    ")\n",
    "nx.draw_networkx_edge_labels(\n",
    "    network, pos, edge_labels=flow_labels | supply_labels, font_size=8\n",
    ")\n",
    "plt.axis(\"off\")\n",
    "plt.tight_layout()\n",
    "plt.show()"
   ]
  }
 ],
 "metadata": {
  "kernelspec": {
   "display_name": ".venv",
   "language": "python",
   "name": "python3"
  },
  "language_info": {
   "codemirror_mode": {
    "name": "ipython",
    "version": 3
   },
   "file_extension": ".py",
   "mimetype": "text/x-python",
   "name": "python",
   "nbconvert_exporter": "python",
   "pygments_lexer": "ipython3",
   "version": "3.11.9"
  }
 },
 "nbformat": 4,
 "nbformat_minor": 5
}
