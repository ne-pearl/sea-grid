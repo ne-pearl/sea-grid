{
 "cells": [
  {
   "cell_type": "markdown",
   "id": "f307ec7d",
   "metadata": {},
   "source": []
  },
  {
   "cell_type": "code",
   "execution_count": 35,
   "id": "2047f936",
   "metadata": {},
   "outputs": [
    {
     "data": {
      "text/plain": [
       "1000"
      ]
     },
     "metadata": {},
     "output_type": "display_data"
    }
   ],
   "source": [
    "import HiGHS\n",
    "using DataFrames: DataFrame\n",
    "using JuMP\n",
    "\n",
    "axis(a) = axes(a, 1)\n",
    "base_power = 1000"
   ]
  },
  {
   "cell_type": "markdown",
   "id": "ed089f50",
   "metadata": {},
   "source": []
  },
  {
   "cell_type": "code",
   "execution_count": 36,
   "id": "7a99ec74",
   "metadata": {},
   "outputs": [
    {
     "data": {
      "text/html": [
       "<div><div style = \"float: left;\"><span>3×4 DataFrame</span></div><div style = \"clear: both;\"></div></div><div class = \"data-frame\" style = \"overflow-x: scroll;\"><table class = \"data-frame\" style = \"margin-bottom: 6px;\"><thead><tr class = \"header\"><th class = \"rowNumber\" style = \"font-weight: bold; text-align: right;\">Row</th><th style = \"text-align: left;\">id</th><th style = \"text-align: left;\">load</th><th style = \"text-align: left;\">x</th><th style = \"text-align: left;\">y</th></tr><tr class = \"subheader headerLastRow\"><th class = \"rowNumber\" style = \"font-weight: bold; text-align: right;\"></th><th title = \"Int64\" style = \"text-align: left;\">Int64</th><th title = \"Int64\" style = \"text-align: left;\">Int64</th><th title = \"Int64\" style = \"text-align: left;\">Int64</th><th title = \"Int64\" style = \"text-align: left;\">Int64</th></tr></thead><tbody><tr><td class = \"rowNumber\" style = \"font-weight: bold; text-align: right;\">1</td><td style = \"text-align: right;\">1</td><td style = \"text-align: right;\">0</td><td style = \"text-align: right;\">-1</td><td style = \"text-align: right;\">1</td></tr><tr><td class = \"rowNumber\" style = \"font-weight: bold; text-align: right;\">2</td><td style = \"text-align: right;\">2</td><td style = \"text-align: right;\">0</td><td style = \"text-align: right;\">1</td><td style = \"text-align: right;\">1</td></tr><tr><td class = \"rowNumber\" style = \"font-weight: bold; text-align: right;\">3</td><td style = \"text-align: right;\">3</td><td style = \"text-align: right;\">150</td><td style = \"text-align: right;\">0</td><td style = \"text-align: right;\">0</td></tr></tbody></table></div>"
      ],
      "text/latex": [
       "\\begin{tabular}{r|cccc}\n",
       "\t& id & load & x & y\\\\\n",
       "\t\\hline\n",
       "\t& Int64 & Int64 & Int64 & Int64\\\\\n",
       "\t\\hline\n",
       "\t1 & 1 & 0 & -1 & 1 \\\\\n",
       "\t2 & 2 & 0 & 1 & 1 \\\\\n",
       "\t3 & 3 & 150 & 0 & 0 \\\\\n",
       "\\end{tabular}\n"
      ],
      "text/plain": [
       "\u001b[1m3×4 DataFrame\u001b[0m\n",
       "\u001b[1m Row \u001b[0m│\u001b[1m id    \u001b[0m\u001b[1m load  \u001b[0m\u001b[1m x     \u001b[0m\u001b[1m y     \u001b[0m\n",
       "     │\u001b[90m Int64 \u001b[0m\u001b[90m Int64 \u001b[0m\u001b[90m Int64 \u001b[0m\u001b[90m Int64 \u001b[0m\n",
       "─────┼────────────────────────────\n",
       "   1 │     1      0     -1      1\n",
       "   2 │     2      0      1      1\n",
       "   3 │     3    150      0      0"
      ]
     },
     "metadata": {},
     "output_type": "display_data"
    }
   ],
   "source": [
    "# Network data\n",
    "nodes = [\n",
    "    (id=1, load=0, x=-1, y=1),\n",
    "    (id=2, load=0, x=1, y=1),\n",
    "    (id=3, load=150, x=0, y=0),\n",
    "] |> DataFrame"
   ]
  },
  {
   "cell_type": "markdown",
   "id": "125fbf6c",
   "metadata": {},
   "source": []
  },
  {
   "cell_type": "code",
   "execution_count": 37,
   "id": "bf08ca47",
   "metadata": {},
   "outputs": [
    {
     "data": {
      "text/html": [
       "<div><div style = \"float: left;\"><span>3×4 DataFrame</span></div><div style = \"clear: both;\"></div></div><div class = \"data-frame\" style = \"overflow-x: scroll;\"><table class = \"data-frame\" style = \"margin-bottom: 6px;\"><thead><tr class = \"header\"><th class = \"rowNumber\" style = \"font-weight: bold; text-align: right;\">Row</th><th style = \"text-align: left;\">id</th><th style = \"text-align: left;\">node_id</th><th style = \"text-align: left;\">capacity</th><th style = \"text-align: left;\">cost</th></tr><tr class = \"subheader headerLastRow\"><th class = \"rowNumber\" style = \"font-weight: bold; text-align: right;\"></th><th title = \"Int64\" style = \"text-align: left;\">Int64</th><th title = \"Int64\" style = \"text-align: left;\">Int64</th><th title = \"Int64\" style = \"text-align: left;\">Int64</th><th title = \"Int64\" style = \"text-align: left;\">Int64</th></tr></thead><tbody><tr><td class = \"rowNumber\" style = \"font-weight: bold; text-align: right;\">1</td><td style = \"text-align: right;\">1</td><td style = \"text-align: right;\">1</td><td style = \"text-align: right;\">200</td><td style = \"text-align: right;\">10</td></tr><tr><td class = \"rowNumber\" style = \"font-weight: bold; text-align: right;\">2</td><td style = \"text-align: right;\">2</td><td style = \"text-align: right;\">2</td><td style = \"text-align: right;\">200</td><td style = \"text-align: right;\">12</td></tr><tr><td class = \"rowNumber\" style = \"font-weight: bold; text-align: right;\">3</td><td style = \"text-align: right;\">3</td><td style = \"text-align: right;\">1</td><td style = \"text-align: right;\">200</td><td style = \"text-align: right;\">14</td></tr></tbody></table></div>"
      ],
      "text/latex": [
       "\\begin{tabular}{r|cccc}\n",
       "\t& id & node\\_id & capacity & cost\\\\\n",
       "\t\\hline\n",
       "\t& Int64 & Int64 & Int64 & Int64\\\\\n",
       "\t\\hline\n",
       "\t1 & 1 & 1 & 200 & 10 \\\\\n",
       "\t2 & 2 & 2 & 200 & 12 \\\\\n",
       "\t3 & 3 & 1 & 200 & 14 \\\\\n",
       "\\end{tabular}\n"
      ],
      "text/plain": [
       "\u001b[1m3×4 DataFrame\u001b[0m\n",
       "\u001b[1m Row \u001b[0m│\u001b[1m id    \u001b[0m\u001b[1m node_id \u001b[0m\u001b[1m capacity \u001b[0m\u001b[1m cost  \u001b[0m\n",
       "     │\u001b[90m Int64 \u001b[0m\u001b[90m Int64   \u001b[0m\u001b[90m Int64    \u001b[0m\u001b[90m Int64 \u001b[0m\n",
       "─────┼─────────────────────────────────\n",
       "   1 │     1        1       200     10\n",
       "   2 │     2        2       200     12\n",
       "   3 │     3        1       200     14"
      ]
     },
     "metadata": {},
     "output_type": "display_data"
    }
   ],
   "source": [
    "generators = [\n",
    "    (id=1, node_id=1, capacity=200, cost=10),\n",
    "    (id=2, node_id=2, capacity=200, cost=12),\n",
    "    (id=3, node_id=1, capacity=200, cost=14),\n",
    "] |> DataFrame"
   ]
  },
  {
   "cell_type": "markdown",
   "id": "c86c504d",
   "metadata": {},
   "source": []
  },
  {
   "cell_type": "code",
   "execution_count": 38,
   "id": "0c8239c4",
   "metadata": {},
   "outputs": [
    {
     "data": {
      "text/html": [
       "<div><div style = \"float: left;\"><span>3×5 DataFrame</span></div><div style = \"clear: both;\"></div></div><div class = \"data-frame\" style = \"overflow-x: scroll;\"><table class = \"data-frame\" style = \"margin-bottom: 6px;\"><thead><tr class = \"header\"><th class = \"rowNumber\" style = \"font-weight: bold; text-align: right;\">Row</th><th style = \"text-align: left;\">id</th><th style = \"text-align: left;\">from_node_id</th><th style = \"text-align: left;\">to_node_id</th><th style = \"text-align: left;\">susceptance</th><th style = \"text-align: left;\">capacity</th></tr><tr class = \"subheader headerLastRow\"><th class = \"rowNumber\" style = \"font-weight: bold; text-align: right;\"></th><th title = \"Int64\" style = \"text-align: left;\">Int64</th><th title = \"Int64\" style = \"text-align: left;\">Int64</th><th title = \"Int64\" style = \"text-align: left;\">Int64</th><th title = \"Float64\" style = \"text-align: left;\">Float64</th><th title = \"Int64\" style = \"text-align: left;\">Int64</th></tr></thead><tbody><tr><td class = \"rowNumber\" style = \"font-weight: bold; text-align: right;\">1</td><td style = \"text-align: right;\">1</td><td style = \"text-align: right;\">1</td><td style = \"text-align: right;\">2</td><td style = \"text-align: right;\">0.25</td><td style = \"text-align: right;\">30</td></tr><tr><td class = \"rowNumber\" style = \"font-weight: bold; text-align: right;\">2</td><td style = \"text-align: right;\">2</td><td style = \"text-align: right;\">1</td><td style = \"text-align: right;\">3</td><td style = \"text-align: right;\">0.25</td><td style = \"text-align: right;\">300</td></tr><tr><td class = \"rowNumber\" style = \"font-weight: bold; text-align: right;\">3</td><td style = \"text-align: right;\">3</td><td style = \"text-align: right;\">2</td><td style = \"text-align: right;\">3</td><td style = \"text-align: right;\">0.25</td><td style = \"text-align: right;\">300</td></tr></tbody></table></div>"
      ],
      "text/latex": [
       "\\begin{tabular}{r|ccccc}\n",
       "\t& id & from\\_node\\_id & to\\_node\\_id & susceptance & capacity\\\\\n",
       "\t\\hline\n",
       "\t& Int64 & Int64 & Int64 & Float64 & Int64\\\\\n",
       "\t\\hline\n",
       "\t1 & 1 & 1 & 2 & 0.25 & 30 \\\\\n",
       "\t2 & 2 & 1 & 3 & 0.25 & 300 \\\\\n",
       "\t3 & 3 & 2 & 3 & 0.25 & 300 \\\\\n",
       "\\end{tabular}\n"
      ],
      "text/plain": [
       "\u001b[1m3×5 DataFrame\u001b[0m\n",
       "\u001b[1m Row \u001b[0m│\u001b[1m id    \u001b[0m\u001b[1m from_node_id \u001b[0m\u001b[1m to_node_id \u001b[0m\u001b[1m susceptance \u001b[0m\u001b[1m capacity \u001b[0m\n",
       "     │\u001b[90m Int64 \u001b[0m\u001b[90m Int64        \u001b[0m\u001b[90m Int64      \u001b[0m\u001b[90m Float64     \u001b[0m\u001b[90m Int64    \u001b[0m\n",
       "─────┼────────────────────────────────────────────────────────\n",
       "   1 │     1             1           2         0.25        30\n",
       "   2 │     2             1           3         0.25       300\n",
       "   3 │     3             2           3         0.25       300"
      ]
     },
     "metadata": {},
     "output_type": "display_data"
    }
   ],
   "source": [
    "lines = [\n",
    "    (id=1, from_node_id=1, to_node_id=2, susceptance=0.25, capacity=30),\n",
    "    (id=2, from_node_id=1, to_node_id=3, susceptance=0.25, capacity=300),\n",
    "    (id=3, from_node_id=2, to_node_id=3, susceptance=0.25, capacity=300),\n",
    "] |> DataFrame"
   ]
  },
  {
   "cell_type": "markdown",
   "id": "14fc761f",
   "metadata": {},
   "source": []
  },
  {
   "cell_type": "code",
   "execution_count": 39,
   "id": "5eb5e7b5",
   "metadata": {},
   "outputs": [
    {
     "data": {
      "text/html": [
       "<div><div style = \"float: left;\"><span>3×4 DataFrame</span></div><div style = \"clear: both;\"></div></div><div class = \"data-frame\" style = \"overflow-x: scroll;\"><table class = \"data-frame\" style = \"margin-bottom: 6px;\"><thead><tr class = \"header\"><th class = \"rowNumber\" style = \"font-weight: bold; text-align: right;\">Row</th><th style = \"text-align: left;\">id</th><th style = \"text-align: left;\">generator_id</th><th style = \"text-align: left;\">max_quantity</th><th style = \"text-align: left;\">price</th></tr><tr class = \"subheader headerLastRow\"><th class = \"rowNumber\" style = \"font-weight: bold; text-align: right;\"></th><th title = \"Int64\" style = \"text-align: left;\">Int64</th><th title = \"Int64\" style = \"text-align: left;\">Int64</th><th title = \"Int64\" style = \"text-align: left;\">Int64</th><th title = \"Int64\" style = \"text-align: left;\">Int64</th></tr></thead><tbody><tr><td class = \"rowNumber\" style = \"font-weight: bold; text-align: right;\">1</td><td style = \"text-align: right;\">1</td><td style = \"text-align: right;\">1</td><td style = \"text-align: right;\">200</td><td style = \"text-align: right;\">10</td></tr><tr><td class = \"rowNumber\" style = \"font-weight: bold; text-align: right;\">2</td><td style = \"text-align: right;\">2</td><td style = \"text-align: right;\">2</td><td style = \"text-align: right;\">200</td><td style = \"text-align: right;\">12</td></tr><tr><td class = \"rowNumber\" style = \"font-weight: bold; text-align: right;\">3</td><td style = \"text-align: right;\">3</td><td style = \"text-align: right;\">3</td><td style = \"text-align: right;\">200</td><td style = \"text-align: right;\">14</td></tr></tbody></table></div>"
      ],
      "text/latex": [
       "\\begin{tabular}{r|cccc}\n",
       "\t& id & generator\\_id & max\\_quantity & price\\\\\n",
       "\t\\hline\n",
       "\t& Int64 & Int64 & Int64 & Int64\\\\\n",
       "\t\\hline\n",
       "\t1 & 1 & 1 & 200 & 10 \\\\\n",
       "\t2 & 2 & 2 & 200 & 12 \\\\\n",
       "\t3 & 3 & 3 & 200 & 14 \\\\\n",
       "\\end{tabular}\n"
      ],
      "text/plain": [
       "\u001b[1m3×4 DataFrame\u001b[0m\n",
       "\u001b[1m Row \u001b[0m│\u001b[1m id    \u001b[0m\u001b[1m generator_id \u001b[0m\u001b[1m max_quantity \u001b[0m\u001b[1m price \u001b[0m\n",
       "     │\u001b[90m Int64 \u001b[0m\u001b[90m Int64        \u001b[0m\u001b[90m Int64        \u001b[0m\u001b[90m Int64 \u001b[0m\n",
       "─────┼──────────────────────────────────────────\n",
       "   1 │     1             1           200     10\n",
       "   2 │     2             2           200     12\n",
       "   3 │     3             3           200     14"
      ]
     },
     "metadata": {},
     "output_type": "display_data"
    }
   ],
   "source": [
    "offers = [\n",
    "    (id=1, generator_id=1, max_quantity=200, price=10),\n",
    "    (id=2, generator_id=2, max_quantity=200, price=12),\n",
    "    (id=3, generator_id=3, max_quantity=200, price=14),\n",
    "] |> DataFrame"
   ]
  },
  {
   "cell_type": "markdown",
   "id": "c19f0cf0",
   "metadata": {},
   "source": []
  },
  {
   "cell_type": "code",
   "execution_count": 40,
   "id": "fb68c2d3",
   "metadata": {},
   "outputs": [
    {
     "data": {
      "text/plain": [
       "3×3 Matrix{Int64}:\n",
       " -1  -1   0\n",
       "  1   0  -1\n",
       "  0   1   1"
      ]
     },
     "metadata": {},
     "output_type": "display_data"
    }
   ],
   "source": [
    "node_line = [\n",
    "    if node.id == line.from_node_id\n",
    "        -1\n",
    "    elseif node.id == line.to_node_id\n",
    "        +1\n",
    "    else\n",
    "        0\n",
    "    end\n",
    "    for node = eachrow(nodes), line = eachrow(lines)\n",
    "]\n"
   ]
  },
  {
   "cell_type": "markdown",
   "id": "f8574cb2",
   "metadata": {},
   "source": []
  },
  {
   "cell_type": "code",
   "execution_count": 41,
   "id": "459b37e2",
   "metadata": {},
   "outputs": [
    {
     "data": {
      "text/plain": [
       "3×3×3 Array{Int64, 3}:\n",
       "[:, :, 1] =\n",
       " 1  0  0\n",
       " 0  0  0\n",
       " 0  0  0\n",
       "\n",
       "[:, :, 2] =\n",
       " 0  0  0\n",
       " 0  1  0\n",
       " 0  0  0\n",
       "\n",
       "[:, :, 3] =\n",
       " 0  0  1\n",
       " 0  0  0\n",
       " 0  0  0"
      ]
     },
     "metadata": {},
     "output_type": "display_data"
    }
   ],
   "source": [
    "node_generator_offer = [\n",
    "    if node.id == generator.node_id && generator.id == offer.generator_id\n",
    "        1\n",
    "    else\n",
    "        0\n",
    "    end\n",
    "    for node = eachrow(nodes), generator = eachrow(generators), offer = eachrow(offers)\n",
    "]\n"
   ]
  },
  {
   "cell_type": "markdown",
   "id": "38c46b7b",
   "metadata": {},
   "source": []
  },
  {
   "cell_type": "code",
   "execution_count": 42,
   "id": "2a741d17",
   "metadata": {},
   "outputs": [
    {
     "data": {
      "text/plain": [
       "3-element Vector{VariableRef}:\n",
       " θ[1]\n",
       " θ[2]\n",
       " θ[3]"
      ]
     },
     "metadata": {},
     "output_type": "display_data"
    }
   ],
   "source": [
    "model = Model(HiGHS.Optimizer)\n",
    "\n",
    "@variable(model, p[o=axis(offers)])\n",
    "@variable(model, f[ℓ=axis(lines)])\n",
    "@variable(model, θ[n=axis(nodes)])"
   ]
  },
  {
   "cell_type": "markdown",
   "id": "d695ec34",
   "metadata": {},
   "source": []
  },
  {
   "cell_type": "code",
   "execution_count": 43,
   "id": "3b3ab81c",
   "metadata": {},
   "outputs": [
    {
     "data": {
      "text/latex": [
       "$ 10 p_{1} + 12 p_{2} + 14 p_{3} $"
      ],
      "text/plain": [
       "10 p[1] + 12 p[2] + 14 p[3]"
      ]
     },
     "metadata": {},
     "output_type": "display_data"
    }
   ],
   "source": [
    "@objective(model, Min, sum(offers[:, :price] .* p))"
   ]
  },
  {
   "cell_type": "markdown",
   "id": "34c63ebe",
   "metadata": {},
   "source": []
  },
  {
   "cell_type": "code",
   "execution_count": 44,
   "id": "e607cc94",
   "metadata": {},
   "outputs": [
    {
     "data": {
      "text/plain": [
       "3-element Vector{ConstraintRef{Model, MathOptInterface.ConstraintIndex{MathOptInterface.ScalarAffineFunction{Float64}, MathOptInterface.EqualTo{Float64}}, ScalarShape}}:\n",
       " balance[1] : p[1] + p[3] - f[1] - f[2] == 0\n",
       " balance[2] : p[2] + f[1] - f[3] == 0\n",
       " balance[3] : f[2] + f[3] == 150"
      ]
     },
     "metadata": {},
     "output_type": "display_data"
    }
   ],
   "source": [
    "@constraint(\n",
    "    model,\n",
    "    balance[n=axis(nodes)],\n",
    "    sum(\n",
    "        node_generator_offer[n, g, o] * p[o]\n",
    "        for g = axis(generators)\n",
    "        for o = axis(offers)\n",
    "    ) +\n",
    "    sum(node_line[n, ℓ] * f[ℓ] for ℓ = axis(lines))\n",
    "    ==\n",
    "    nodes[n, :load]\n",
    ")"
   ]
  },
  {
   "cell_type": "markdown",
   "id": "3e2ddbf5",
   "metadata": {},
   "source": []
  },
  {
   "cell_type": "code",
   "execution_count": 45,
   "id": "cd26e8d1",
   "metadata": {},
   "outputs": [
    {
     "data": {
      "text/plain": [
       "3-element Vector{ConstraintRef{Model, MathOptInterface.ConstraintIndex{MathOptInterface.ScalarAffineFunction{Float64}, MathOptInterface.EqualTo{Float64}}, ScalarShape}}:\n",
       " flow[1] : -f[1] - 250 θ[1] + 250 θ[2] == 0\n",
       " flow[2] : -f[2] - 250 θ[1] + 250 θ[3] == 0\n",
       " flow[3] : -f[3] - 250 θ[2] + 250 θ[3] == 0"
      ]
     },
     "metadata": {},
     "output_type": "display_data"
    }
   ],
   "source": [
    "@constraint(\n",
    "    model,\n",
    "    flow[ℓ=axis(lines)],\n",
    "    sum(base_power * node_line[n, ℓ] * θ[n] * lines[ℓ, :susceptance] for n = axis(nodes)) == f[ℓ]\n",
    ")"
   ]
  },
  {
   "cell_type": "markdown",
   "id": "8273a76b",
   "metadata": {},
   "source": []
  },
  {
   "cell_type": "code",
   "execution_count": 46,
   "id": "9b2ea510",
   "metadata": {},
   "outputs": [
    {
     "data": {
      "text/latex": [
       "$$ θ_{1} = 0 $$"
      ],
      "text/plain": [
       "reference_angle : θ[1] == 0"
      ]
     },
     "metadata": {},
     "output_type": "display_data"
    }
   ],
   "source": [
    "@constraint(model, offer_bounds[o=axis(offers)], 0 .≤ p[o] .≤ offers[o, :max_quantity])\n",
    "@constraint(model, flow_bounds[ℓ=axis(lines)], -lines[ℓ, :capacity] ≤ f[ℓ] ≤ +lines[ℓ, :capacity])\n",
    "@constraint(model, angle_bounds[n=axis(nodes)], -π ≤ θ[n] ≤ +π)\n",
    "@constraint(model, reference_angle, θ[1] == 0)\n"
   ]
  },
  {
   "cell_type": "markdown",
   "id": "dbbae4af",
   "metadata": {},
   "source": []
  },
  {
   "cell_type": "code",
   "execution_count": 47,
   "id": "dbe0244f",
   "metadata": {},
   "outputs": [
    {
     "name": "stdout",
     "output_type": "stream",
     "text": [
      "Running HiGHS 1.10.0 (git hash: fd8665394e): Copyright (c) 2025 HiGHS under MIT licence terms\n",
      "LP   has 16 rows; 9 cols; 28 nonzeros\n",
      "Coefficient ranges:\n",
      "  Matrix [1e+00, 2e+02]\n",
      "  Cost   [1e+01, 1e+01]\n",
      "  Bound  [0e+00, 0e+00]\n",
      "  RHS    [3e+00, 3e+02]\n",
      "Presolving model\n",
      "5 rows, 7 cols, 14 nonzeros  0s\n",
      "0 rows, 0 cols, 0 nonzeros  0s\n",
      "Presolve : Reductions: rows 0(-16); columns 0(-9); elements 0(-28) - Reduced to empty\n",
      "Solving the original LP from the solution after postsolve\n",
      "Model status        : Optimal\n",
      "Objective value     :  1.5600000000e+03\n",
      "Relative P-D gap    :  0.0000000000e+00\n",
      "HiGHS run time      :          0.00\n"
     ]
    }
   ],
   "source": [
    "model\n",
    "\n",
    "optimize!(model)\n"
   ]
  },
  {
   "cell_type": "markdown",
   "id": "21edac97",
   "metadata": {},
   "source": []
  },
  {
   "cell_type": "code",
   "execution_count": 48,
   "id": "93336af1",
   "metadata": {},
   "outputs": [
    {
     "name": "stdout",
     "output_type": "stream",
     "text": [
      "p_star = value.(p) = [120.0, 30.0, -0.0]\n",
      "f_star = value.(f) = [30.0, 90.0, 60.0]\n",
      "θ_star_deg = (value.(θ) .* 180) / π = [-0.0, 6.875493541569878, 20.626480624709636]\n",
      "prices = dual.(balance) = [10.0, 12.0, 11.0]\n"
     ]
    },
    {
     "data": {
      "text/plain": [
       "3-element Vector{Float64}:\n",
       " 10.0\n",
       " 12.0\n",
       " 11.0"
      ]
     },
     "metadata": {},
     "output_type": "display_data"
    }
   ],
   "source": [
    "@show p_star = value.(p)\n",
    "@show f_star = value.(f)\n",
    "@show θ_star_deg = value.(θ) .* 180 / π\n",
    "@show prices = dual.(balance)"
   ]
  },
  {
   "cell_type": "code",
   "execution_count": 49,
   "id": "1952d8c9",
   "metadata": {},
   "outputs": [
    {
     "data": {
      "image/png": "[encoded data removed]",
      "image/svg+xml": [
       "<?xml version=\"1.0\" encoding=\"utf-8\"?>\n",
       "<svg xmlns=\"http://www.w3.org/2000/svg\" xmlns:xlink=\"http://www.w3.org/1999/xlink\" width=\"600\" height=\"400\" viewBox=\"0 0 2400 1600\">\n",
       "<defs>\n",
       "  <clipPath id=\"clip470\">\n",
       "    <rect x=\"0\" y=\"0\" width=\"2400\" height=\"1600\"/>\n",
       "  </clipPath>\n",
       "</defs>\n",
       "<path clip-path=\"url(#clip470)\" d=\"M0 1600 L2400 1600 L2400 0 L0 0  Z\" fill=\"#ffffff\" fill-rule=\"evenodd\" fill-opacity=\"1\"/>\n",
       "<defs>\n",
       "  <clipPath id=\"clip471\">\n",
       "    <rect x=\"480\" y=\"0\" width=\"1681\" height=\"1600\"/>\n",
       "  </clipPath>\n",
       "</defs>\n",
       "<path clip-path=\"url(#clip470)\" d=\"M447.244 1552.76 L1952.76 1552.76 L1952.76 47.2441 L447.244 47.2441  Z\" fill=\"#ffffff\" fill-rule=\"evenodd\" fill-opacity=\"1\"/>\n",
       "<defs>\n",
       "  <clipPath id=\"clip472\">\n",
       "    <rect x=\"447\" y=\"47\" width=\"1507\" height=\"1507\"/>\n",
       "  </clipPath>\n",
       "</defs>\n",
       "<polyline clip-path=\"url(#clip472)\" style=\"stroke:#000000; stroke-linecap:round; stroke-linejoin:round; stroke-width:4; stroke-opacity:1; fill:none\" points=\"893.952,262.317 910.294,270.25 926.639,278.172 942.99,286.074 959.349,293.943 975.72,301.77 992.106,309.545 1008.51,317.256 1024.93,324.892 1041.38,332.445 1057.85,339.902 1074.36,347.253 1090.89,354.489 1107.46,361.597 1124.07,368.568 1140.72,375.391 1157.41,382.055 1174.15,388.55 1190.94,394.866 1207.78,400.991 1224.68,406.915 1241.64,412.628 1258.65,418.119 1275.74,423.377 1292.89,428.392 1310.1,433.154 1327.39,437.662 1344.75,441.928 1362.17,445.961 1379.65,449.771 1397.19,453.371 1414.79,456.769 1432.44,459.977 1450.14,463.006 1467.88,465.865 1485.67,468.566 1503.5,471.119 1521.37,473.534 1539.27,475.823 1557.21,477.995 1575.17,480.061 1593.16,482.033 1611.17,483.919 1629.21,485.732 1647.26,487.482 1665.33,489.178 1683.41,490.832 1701.49,492.455 1719.59,494.056 1737.68,495.647 \"/>\n",
       "<polyline clip-path=\"url(#clip472)\" style=\"stroke:#000000; stroke-linecap:round; stroke-linejoin:round; stroke-width:4; stroke-opacity:1; fill:none\" points=\"893.952,262.317 892.393,280.115 890.824,297.909 889.234,315.698 887.612,333.478 885.947,351.246 884.23,368.999 882.45,386.735 880.596,404.45 878.657,422.141 876.623,439.806 874.483,457.441 872.227,475.044 869.845,492.611 867.325,510.14 864.657,527.627 861.831,545.071 858.836,562.467 855.661,579.812 852.296,597.105 848.73,614.342 844.953,631.519 840.955,648.635 836.723,665.685 832.249,682.668 827.522,699.58 822.542,716.421 817.318,733.194 811.863,749.902 806.185,766.548 800.296,783.136 794.207,799.667 787.927,816.145 781.468,832.572 774.84,848.953 768.053,865.289 761.119,881.584 754.047,897.84 746.848,914.061 739.533,930.25 732.113,946.409 724.597,962.542 716.997,978.65 709.323,994.739 701.585,1010.81 693.795,1026.86 685.963,1042.91 678.098,1058.94 670.213,1074.97 662.317,1091 \"/>\n",
       "<polyline clip-path=\"url(#clip472)\" style=\"stroke:#000000; stroke-linecap:round; stroke-linejoin:round; stroke-width:4; stroke-opacity:1; fill:none\" points=\"1737.68,495.647 1736.29,513.677 1734.89,531.704 1733.47,549.725 1732.01,567.739 1730.52,585.74 1728.97,603.728 1727.36,621.699 1725.67,639.65 1723.9,657.578 1722.03,675.482 1720.05,693.357 1717.96,711.201 1715.75,729.011 1713.39,746.784 1710.89,764.518 1708.23,782.21 1705.39,799.857 1702.38,817.455 1699.18,835.003 1695.77,852.498 1692.16,869.936 1688.32,887.314 1684.25,904.631 1679.93,921.883 1675.36,939.068 1670.53,956.184 1665.47,973.236 1660.17,990.226 1654.64,1007.16 1648.91,1024.03 1642.97,1040.85 1636.84,1057.62 1630.53,1074.34 1624.06,1091.02 1617.42,1107.66 1610.63,1124.25 1603.71,1140.81 1596.66,1157.34 1589.49,1173.83 1582.22,1190.3 1574.85,1206.74 1567.4,1223.15 1559.87,1239.55 1552.28,1255.93 1544.64,1272.3 1536.95,1288.66 1529.23,1305 1521.49,1321.34 1513.75,1337.68 \"/>\n",
       "<polyline clip-path=\"url(#clip472)\" style=\"stroke:#000000; stroke-linecap:round; stroke-linejoin:round; stroke-width:4; stroke-opacity:1; fill:none\" points=\"1513.75,1337.68 1495.45,1335.81 1477.16,1333.92 1458.88,1332.02 1440.61,1330.08 1422.35,1328.1 1404.1,1326.07 1385.87,1323.97 1367.67,1321.8 1349.49,1319.55 1331.33,1317.2 1313.21,1314.75 1295.12,1312.18 1277.06,1309.48 1259.05,1306.65 1241.08,1303.67 1223.15,1300.53 1205.28,1297.22 1187.45,1293.74 1169.68,1290.06 1151.97,1286.19 1134.32,1282.1 1116.73,1277.79 1099.21,1273.25 1081.77,1268.47 1064.39,1263.44 1047.09,1258.15 1029.85,1252.62 1012.69,1246.86 995.587,1240.88 978.546,1234.68 961.564,1228.29 944.636,1221.71 927.761,1214.95 910.934,1208.02 894.153,1200.93 877.415,1193.69 860.716,1186.32 844.054,1178.82 827.426,1171.21 810.828,1163.49 794.258,1155.67 777.712,1147.77 761.187,1139.8 744.681,1131.76 728.19,1123.67 711.711,1115.54 695.241,1107.38 678.778,1099.19 662.317,1091 \"/>\n",
       "<path clip-path=\"url(#clip472)\" d=\"M1262.77 492.746 L1340.2 492.746 L1340.2 368.864 L1262.77 368.864 L1262.77 492.746 L1262.77 492.746  Z\" fill=\"#ffffff\" fill-rule=\"evenodd\" fill-opacity=\"1\"/>\n",
       "<polyline clip-path=\"url(#clip472)\" style=\"stroke:#000000; stroke-linecap:round; stroke-linejoin:round; stroke-width:0; stroke-opacity:0; fill:none\" points=\"1262.77,492.746 1340.2,492.746 1340.2,368.864 1262.77,368.864 1262.77,492.746 \"/>\n",
       "<path clip-path=\"url(#clip472)\" d=\"M1056.55 262.317 L1056.03 249.399 L1054.49 236.562 L1051.94 223.889 L1048.39 211.458 L1043.86 199.349 L1038.38 187.638 L1031.99 176.399 L1024.73 165.703 L1016.64 155.618 L1007.78 146.208 L998.19 137.531 L987.947 129.644 L977.109 122.596 L965.745 116.43 L953.927 111.188 L941.73 106.9 L929.231 103.596 L916.509 101.294 L903.645 100.011 L890.719 99.7541 L877.813 100.525 L865.01 102.318 L852.39 105.124 L840.032 108.923 L828.015 113.692 L816.415 119.4 L805.306 126.012 L794.756 133.486 L784.834 141.774 L775.602 150.825 L767.118 160.58 L759.436 170.979 L752.604 181.955 L746.666 193.439 L741.66 205.358 L737.616 217.638 L734.56 230.2 L732.512 242.965 L731.485 255.853 L731.485 268.781 L732.512 281.669 L734.56 294.434 L737.616 306.996 L741.66 319.276 L746.666 331.196 L752.604 342.68 L759.436 353.656 L767.118 364.054 L775.602 373.81 L784.834 382.86 L794.756 391.149 L805.306 398.622 L816.415 405.234 L828.015 410.943 L840.032 415.712 L852.39 419.511 L865.01 422.316 L877.813 424.11 L890.719 424.88 L903.645 424.623 L916.509 423.34 L929.231 421.039 L941.73 417.734 L953.927 413.447 L965.745 408.204 L977.109 402.039 L987.947 394.99 L998.19 387.103 L1007.78 378.427 L1016.64 369.016 L1024.73 358.931 L1031.99 348.236 L1038.38 336.997 L1043.86 325.286 L1048.39 313.176 L1051.94 300.746 L1054.49 288.072 L1056.03 275.235 L1056.55 262.317 L1056.55 262.317  Z\" fill=\"#6495ed\" fill-rule=\"evenodd\" fill-opacity=\"1\"/>\n",
       "<polyline clip-path=\"url(#clip472)\" style=\"stroke:#000000; stroke-linecap:round; stroke-linejoin:round; stroke-width:4; stroke-opacity:1; fill:none\" points=\"1056.55,262.317 1056.03,249.399 1054.49,236.562 1051.94,223.889 1048.39,211.458 1043.86,199.349 1038.38,187.638 1031.99,176.399 1024.73,165.703 1016.64,155.618 1007.78,146.208 998.19,137.531 987.947,129.644 977.109,122.596 965.745,116.43 953.927,111.188 941.73,106.9 929.231,103.596 916.509,101.294 903.645,100.011 890.719,99.7541 877.813,100.525 865.01,102.318 852.39,105.124 840.032,108.923 828.015,113.692 816.415,119.4 805.306,126.012 794.756,133.486 784.834,141.774 775.602,150.825 767.118,160.58 759.436,170.979 752.604,181.955 746.666,193.439 741.66,205.358 737.616,217.638 734.56,230.2 732.512,242.965 731.485,255.853 731.485,268.781 732.512,281.669 734.56,294.434 737.616,306.996 741.66,319.276 746.666,331.196 752.604,342.68 759.436,353.656 767.118,364.054 775.602,373.81 784.834,382.86 794.756,391.149 805.306,398.622 816.415,405.234 828.015,410.943 840.032,415.712 852.39,419.511 865.01,422.316 877.813,424.11 890.719,424.88 903.645,424.623 916.509,423.34 929.231,421.039 941.73,417.734 953.927,413.447 965.745,408.204 977.109,402.039 987.947,394.99 998.19,387.103 1007.78,378.427 1016.64,369.016 1024.73,358.931 1031.99,348.236 1038.38,336.997 1043.86,325.286 1048.39,313.176 1051.94,300.746 1054.49,288.072 1056.03,275.235 1056.55,262.317 \"/>\n",
       "<path clip-path=\"url(#clip472)\" d=\"M1900.28 495.647 L1899.76 482.728 L1898.23 469.892 L1895.67 457.218 L1892.12 444.787 L1887.59 432.678 L1882.11 420.967 L1875.72 409.728 L1868.46 399.032 L1860.37 388.947 L1851.51 379.537 L1841.92 370.861 L1831.68 362.974 L1820.84 355.925 L1809.48 349.76 L1797.66 344.517 L1785.46 340.23 L1772.96 336.925 L1760.24 334.624 L1747.38 333.341 L1734.45 333.084 L1721.54 333.854 L1708.74 335.648 L1696.12 338.453 L1683.76 342.252 L1671.75 347.021 L1660.15 352.729 L1649.04 359.342 L1638.49 366.815 L1628.57 375.104 L1619.33 384.154 L1610.85 393.909 L1603.17 404.308 L1596.34 415.284 L1590.4 426.768 L1585.39 438.688 L1581.35 450.967 L1578.29 463.53 L1576.24 476.295 L1575.22 489.182 L1575.22 502.111 L1576.24 514.998 L1578.29 527.764 L1581.35 540.326 L1585.39 552.606 L1590.4 564.525 L1596.34 576.009 L1603.17 586.985 L1610.85 597.384 L1619.33 607.139 L1628.57 616.19 L1638.49 624.478 L1649.04 631.952 L1660.15 638.564 L1671.75 644.272 L1683.76 649.041 L1696.12 652.84 L1708.74 655.645 L1721.54 657.439 L1734.45 658.21 L1747.38 657.953 L1760.24 656.67 L1772.96 654.368 L1785.46 651.064 L1797.66 646.776 L1809.48 641.533 L1820.84 635.368 L1831.68 628.32 L1841.92 620.432 L1851.51 611.756 L1860.37 602.346 L1868.46 592.261 L1875.72 581.565 L1882.11 570.326 L1887.59 558.615 L1892.12 546.506 L1895.67 534.075 L1898.23 521.401 L1899.76 508.565 L1900.28 495.647 L1900.28 495.647  Z\" fill=\"#6495ed\" fill-rule=\"evenodd\" fill-opacity=\"1\"/>\n",
       "<polyline clip-path=\"url(#clip472)\" style=\"stroke:#000000; stroke-linecap:round; stroke-linejoin:round; stroke-width:4; stroke-opacity:1; fill:none\" points=\"1900.28,495.647 1899.76,482.728 1898.23,469.892 1895.67,457.218 1892.12,444.787 1887.59,432.678 1882.11,420.967 1875.72,409.728 1868.46,399.032 1860.37,388.947 1851.51,379.537 1841.92,370.861 1831.68,362.974 1820.84,355.925 1809.48,349.76 1797.66,344.517 1785.46,340.23 1772.96,336.925 1760.24,334.624 1747.38,333.341 1734.45,333.084 1721.54,333.854 1708.74,335.648 1696.12,338.453 1683.76,342.252 1671.75,347.021 1660.15,352.729 1649.04,359.342 1638.49,366.815 1628.57,375.104 1619.33,384.154 1610.85,393.909 1603.17,404.308 1596.34,415.284 1590.4,426.768 1585.39,438.688 1581.35,450.967 1578.29,463.53 1576.24,476.295 1575.22,489.182 1575.22,502.111 1576.24,514.998 1578.29,527.764 1581.35,540.326 1585.39,552.606 1590.4,564.525 1596.34,576.009 1603.17,586.985 1610.85,597.384 1619.33,607.139 1628.57,616.19 1638.49,624.478 1649.04,631.952 1660.15,638.564 1671.75,644.272 1683.76,649.041 1696.12,652.84 1708.74,655.645 1721.54,657.439 1734.45,658.21 1747.38,657.953 1760.24,656.67 1772.96,654.368 1785.46,651.064 1797.66,646.776 1809.48,641.533 1820.84,635.368 1831.68,628.32 1841.92,620.432 1851.51,611.756 1860.37,602.346 1868.46,592.261 1875.72,581.565 1882.11,570.326 1887.59,558.615 1892.12,546.506 1895.67,534.075 1898.23,521.401 1899.76,508.565 1900.28,495.647 1900.28,495.647 \"/>\n",
       "<path clip-path=\"url(#clip472)\" d=\"M1676.34 1337.68 L1675.83 1324.76 L1674.29 1311.93 L1671.73 1299.25 L1668.18 1286.82 L1663.65 1274.71 L1658.18 1263 L1651.79 1251.76 L1644.52 1241.07 L1636.43 1230.98 L1627.57 1221.57 L1617.98 1212.9 L1607.74 1205.01 L1596.9 1197.96 L1585.54 1191.8 L1573.72 1186.55 L1561.52 1182.27 L1549.02 1178.96 L1536.3 1176.66 L1523.44 1175.38 L1510.51 1175.12 L1497.61 1175.89 L1484.8 1177.68 L1472.18 1180.49 L1459.83 1184.29 L1447.81 1189.06 L1436.21 1194.77 L1425.1 1201.38 L1414.55 1208.85 L1404.63 1217.14 L1395.4 1226.19 L1386.91 1235.95 L1379.23 1246.34 L1372.4 1257.32 L1366.46 1268.8 L1361.45 1280.72 L1357.41 1293 L1354.35 1305.57 L1352.31 1318.33 L1351.28 1331.22 L1351.28 1344.15 L1352.31 1357.03 L1354.35 1369.8 L1357.41 1382.36 L1361.45 1394.64 L1366.46 1406.56 L1372.4 1418.05 L1379.23 1429.02 L1386.91 1439.42 L1395.4 1449.18 L1404.63 1458.23 L1414.55 1466.51 L1425.1 1473.99 L1436.21 1480.6 L1447.81 1486.31 L1459.83 1491.08 L1472.18 1494.88 L1484.8 1497.68 L1497.61 1499.48 L1510.51 1500.25 L1523.44 1499.99 L1536.3 1498.71 L1549.02 1496.4 L1561.52 1493.1 L1573.72 1488.81 L1585.54 1483.57 L1596.9 1477.4 L1607.74 1470.36 L1617.98 1462.47 L1627.57 1453.79 L1636.43 1444.38 L1644.52 1434.3 L1651.79 1423.6 L1658.18 1412.36 L1663.65 1400.65 L1668.18 1388.54 L1671.73 1376.11 L1674.29 1363.44 L1675.83 1350.6 L1676.34 1337.68 L1676.34 1337.68  Z\" fill=\"#6495ed\" fill-rule=\"evenodd\" fill-opacity=\"1\"/>\n",
       "<polyline clip-path=\"url(#clip472)\" style=\"stroke:#000000; stroke-linecap:round; stroke-linejoin:round; stroke-width:4; stroke-opacity:1; fill:none\" points=\"1676.34,1337.68 1675.83,1324.76 1674.29,1311.93 1671.73,1299.25 1668.18,1286.82 1663.65,1274.71 1658.18,1263 1651.79,1251.76 1644.52,1241.07 1636.43,1230.98 1627.57,1221.57 1617.98,1212.9 1607.74,1205.01 1596.9,1197.96 1585.54,1191.8 1573.72,1186.55 1561.52,1182.27 1549.02,1178.96 1536.3,1176.66 1523.44,1175.38 1510.51,1175.12 1497.61,1175.89 1484.8,1177.68 1472.18,1180.49 1459.83,1184.29 1447.81,1189.06 1436.21,1194.77 1425.1,1201.38 1414.55,1208.85 1404.63,1217.14 1395.4,1226.19 1386.91,1235.95 1379.23,1246.34 1372.4,1257.32 1366.46,1268.8 1361.45,1280.72 1357.41,1293 1354.35,1305.57 1352.31,1318.33 1351.28,1331.22 1351.28,1344.15 1352.31,1357.03 1354.35,1369.8 1357.41,1382.36 1361.45,1394.64 1366.46,1406.56 1372.4,1418.05 1379.23,1429.02 1386.91,1439.42 1395.4,1449.18 1404.63,1458.23 1414.55,1466.51 1425.1,1473.99 1436.21,1480.6 1447.81,1486.31 1459.83,1491.08 1472.18,1494.88 1484.8,1497.68 1497.61,1499.48 1510.51,1500.25 1523.44,1499.99 1536.3,1498.71 1549.02,1496.4 1561.52,1493.1 1573.72,1488.81 1585.54,1483.57 1596.9,1477.4 1607.74,1470.36 1617.98,1462.47 1627.57,1453.79 1636.43,1444.38 1644.52,1434.3 1651.79,1423.6 1658.18,1412.36 1663.65,1400.65 1668.18,1388.54 1671.73,1376.11 1674.29,1363.44 1675.83,1350.6 1676.34,1337.68 \"/>\n",
       "<path clip-path=\"url(#clip472)\" d=\"M824.912 1091 L824.398 1078.08 L822.86 1065.24 L820.306 1052.57 L816.753 1040.14 L812.225 1028.03 L806.748 1016.32 L800.358 1005.08 L793.095 994.385 L785.006 984.3 L776.141 974.889 L766.556 966.213 L756.312 958.326 L745.474 951.277 L734.11 945.112 L722.293 939.869 L710.096 935.582 L697.597 932.277 L684.875 929.976 L672.01 928.693 L659.084 928.436 L646.179 929.206 L633.376 931 L620.755 933.805 L608.397 937.604 L596.381 942.373 L584.781 948.082 L573.671 954.694 L563.122 962.168 L553.2 970.456 L543.968 979.506 L535.484 989.262 L527.801 999.66 L520.97 1010.64 L515.032 1022.12 L510.025 1034.04 L505.981 1046.32 L502.925 1058.88 L500.878 1071.65 L499.85 1084.53 L499.85 1097.46 L500.878 1110.35 L502.925 1123.12 L505.981 1135.68 L510.025 1147.96 L515.032 1159.88 L520.97 1171.36 L527.801 1182.34 L535.484 1192.74 L543.968 1202.49 L553.2 1211.54 L563.122 1219.83 L573.671 1227.3 L584.781 1233.92 L596.381 1239.62 L608.397 1244.39 L620.755 1248.19 L633.376 1251 L646.179 1252.79 L659.084 1253.56 L672.01 1253.3 L684.875 1252.02 L697.597 1249.72 L710.096 1246.42 L722.293 1242.13 L734.11 1236.89 L745.474 1230.72 L756.312 1223.67 L766.556 1215.78 L776.141 1207.11 L785.006 1197.7 L793.095 1187.61 L800.358 1176.92 L806.748 1165.68 L812.225 1153.97 L816.753 1141.86 L820.306 1129.43 L822.86 1116.75 L824.398 1103.92 L824.912 1091 L824.912 1091  Z\" fill=\"#6495ed\" fill-rule=\"evenodd\" fill-opacity=\"1\"/>\n",
       "<polyline clip-path=\"url(#clip472)\" style=\"stroke:#000000; stroke-linecap:round; stroke-linejoin:round; stroke-width:4; stroke-opacity:1; fill:none\" points=\"824.912,1091 824.398,1078.08 822.86,1065.24 820.306,1052.57 816.753,1040.14 812.225,1028.03 806.748,1016.32 800.358,1005.08 793.095,994.385 785.006,984.3 776.141,974.889 766.556,966.213 756.312,958.326 745.474,951.277 734.11,945.112 722.293,939.869 710.096,935.582 697.597,932.277 684.875,929.976 672.01,928.693 659.084,928.436 646.179,929.206 633.376,931 620.755,933.805 608.397,937.604 596.381,942.373 584.781,948.082 573.671,954.694 563.122,962.168 553.2,970.456 543.968,979.506 535.484,989.262 527.801,999.66 520.97,1010.64 515.032,1022.12 510.025,1034.04 505.981,1046.32 502.925,1058.88 500.878,1071.65 499.85,1084.53 499.85,1097.46 500.878,1110.35 502.925,1123.12 505.981,1135.68 510.025,1147.96 515.032,1159.88 520.97,1171.36 527.801,1182.34 535.484,1192.74 543.968,1202.49 553.2,1211.54 563.122,1219.83 573.671,1227.3 584.781,1233.92 596.381,1239.62 608.397,1244.39 620.755,1248.19 633.376,1251 646.179,1252.79 659.084,1253.56 672.01,1253.3 684.875,1252.02 697.597,1249.72 710.096,1246.42 722.293,1242.13 734.11,1236.89 745.474,1230.72 756.312,1223.67 766.556,1215.78 776.141,1207.11 785.006,1197.7 793.095,1187.61 800.358,1176.92 806.748,1165.68 812.225,1153.97 816.753,1141.86 820.306,1129.43 822.86,1116.75 824.398,1103.92 824.912,1091 824.912,1091 \"/>\n",
       "<circle clip-path=\"url(#clip472)\" style=\"fill:#6495ed; stroke:none; fill-opacity:0\" cx=\"893.952\" cy=\"262.317\" r=\"2\"/>\n",
       "<circle clip-path=\"url(#clip472)\" style=\"fill:#6495ed; stroke:none; fill-opacity:0\" cx=\"1737.68\" cy=\"495.647\" r=\"2\"/>\n",
       "<circle clip-path=\"url(#clip472)\" style=\"fill:#6495ed; stroke:none; fill-opacity:0\" cx=\"1513.75\" cy=\"1337.68\" r=\"2\"/>\n",
       "<circle clip-path=\"url(#clip472)\" style=\"fill:#6495ed; stroke:none; fill-opacity:0\" cx=\"662.317\" cy=\"1091\" r=\"2\"/>\n",
       "<path clip-path=\"url(#clip470)\" d=\"M1322.39 408.878 L1322.39 416.274 Q1318.85 412.975 1314.82 411.343 Q1310.83 409.711 1306.31 409.711 Q1297.42 409.711 1292.7 415.163 Q1287.98 420.579 1287.98 430.857 Q1287.98 441.1 1292.7 446.552 Q1297.42 451.968 1306.31 451.968 Q1310.83 451.968 1314.82 450.336 Q1318.85 448.704 1322.39 445.406 L1322.39 452.732 Q1318.71 455.232 1314.58 456.482 Q1310.48 457.732 1305.9 457.732 Q1294.12 457.732 1287.35 450.545 Q1280.58 443.322 1280.58 430.857 Q1280.58 418.357 1287.35 411.17 Q1294.12 403.948 1305.9 403.948 Q1310.55 403.948 1314.65 405.198 Q1318.78 406.413 1322.39 408.878 Z\" fill=\"#000000\" fill-rule=\"nonzero\" fill-opacity=\"1\" /><path clip-path=\"url(#clip470)\" d=\"M879.525 282.334 L890.983 282.334 L890.983 242.786 L878.518 245.286 L878.518 238.897 L890.914 236.397 L897.927 236.397 L897.927 282.334 L909.386 282.334 L909.386 288.237 L879.525 288.237 L879.525 282.334 Z\" fill=\"#000000\" fill-rule=\"nonzero\" fill-opacity=\"1\" /><path clip-path=\"url(#clip470)\" d=\"M1729.66 515.664 L1754.14 515.664 L1754.14 521.567 L1721.22 521.567 L1721.22 515.664 Q1725.22 511.532 1732.09 504.588 Q1739 497.608 1740.77 495.595 Q1744.14 491.81 1745.46 489.206 Q1746.81 486.567 1746.81 484.032 Q1746.81 479.9 1743.9 477.296 Q1741.02 474.692 1736.36 474.692 Q1733.06 474.692 1729.38 475.838 Q1725.74 476.984 1721.57 479.31 L1721.57 472.227 Q1725.81 470.525 1729.49 469.657 Q1733.17 468.789 1736.22 468.789 Q1744.28 468.789 1749.07 472.817 Q1753.86 476.845 1753.86 483.581 Q1753.86 486.775 1752.65 489.657 Q1751.47 492.504 1748.31 496.393 Q1747.44 497.4 1742.79 502.226 Q1738.13 507.018 1729.66 515.664 Z\" fill=\"#000000\" fill-rule=\"nonzero\" fill-opacity=\"1\" /><path clip-path=\"url(#clip470)\" d=\"M1520.12 1335.65 Q1525.15 1336.73 1527.96 1340.13 Q1530.81 1343.53 1530.81 1348.53 Q1530.81 1356.21 1525.53 1360.41 Q1520.26 1364.61 1510.53 1364.61 Q1507.27 1364.61 1503.8 1363.95 Q1500.36 1363.33 1496.68 1362.04 L1496.68 1355.27 Q1499.6 1356.97 1503.07 1357.84 Q1506.54 1358.71 1510.33 1358.71 Q1516.92 1358.71 1520.36 1356.1 Q1523.83 1353.5 1523.83 1348.53 Q1523.83 1343.95 1520.6 1341.38 Q1517.41 1338.78 1511.68 1338.78 L1505.64 1338.78 L1505.64 1333.01 L1511.96 1333.01 Q1517.13 1333.01 1519.87 1330.96 Q1522.62 1328.88 1522.62 1324.99 Q1522.62 1321 1519.77 1318.88 Q1516.96 1316.73 1511.68 1316.73 Q1508.8 1316.73 1505.5 1317.35 Q1502.2 1317.98 1498.24 1319.3 L1498.24 1313.05 Q1502.23 1311.94 1505.71 1311.38 Q1509.21 1310.83 1512.3 1310.83 Q1520.29 1310.83 1524.94 1314.47 Q1529.6 1318.08 1529.6 1324.26 Q1529.6 1328.57 1527.13 1331.55 Q1524.67 1334.51 1520.12 1335.65 Z\" fill=\"#000000\" fill-rule=\"nonzero\" fill-opacity=\"1\" /><path clip-path=\"url(#clip470)\" d=\"M666.831 1071.19 L649.123 1098.86 L666.831 1098.86 L666.831 1071.19 M664.991 1065.08 L673.81 1065.08 L673.81 1098.86 L681.206 1098.86 L681.206 1104.7 L673.81 1104.7 L673.81 1116.92 L666.831 1116.92 L666.831 1104.7 L643.428 1104.7 L643.428 1097.93 L664.991 1065.08 Z\" fill=\"#000000\" fill-rule=\"nonzero\" fill-opacity=\"1\" /></svg>\n"
      ],
      "text/html": [
       "<?xml version=\"1.0\" encoding=\"utf-8\"?>\n",
       "<svg xmlns=\"http://www.w3.org/2000/svg\" xmlns:xlink=\"http://www.w3.org/1999/xlink\" width=\"600\" height=\"400\" viewBox=\"0 0 2400 1600\">\n",
       "<defs>\n",
       "  <clipPath id=\"clip500\">\n",
       "    <rect x=\"0\" y=\"0\" width=\"2400\" height=\"1600\"/>\n",
       "  </clipPath>\n",
       "</defs>\n",
       "<path clip-path=\"url(#clip500)\" d=\"M0 1600 L2400 1600 L2400 0 L0 0  Z\" fill=\"#ffffff\" fill-rule=\"evenodd\" fill-opacity=\"1\"/>\n",
       "<defs>\n",
       "  <clipPath id=\"clip501\">\n",
       "    <rect x=\"480\" y=\"0\" width=\"1681\" height=\"1600\"/>\n",
       "  </clipPath>\n",
       "</defs>\n",
       "<path clip-path=\"url(#clip500)\" d=\"M447.244 1552.76 L1952.76 1552.76 L1952.76 47.2441 L447.244 47.2441  Z\" fill=\"#ffffff\" fill-rule=\"evenodd\" fill-opacity=\"1\"/>\n",
       "<defs>\n",
       "  <clipPath id=\"clip502\">\n",
       "    <rect x=\"447\" y=\"47\" width=\"1507\" height=\"1507\"/>\n",
       "  </clipPath>\n",
       "</defs>\n",
       "<polyline clip-path=\"url(#clip502)\" style=\"stroke:#000000; stroke-linecap:round; stroke-linejoin:round; stroke-width:4; stroke-opacity:1; fill:none\" points=\"893.952,262.317 910.294,270.25 926.639,278.172 942.99,286.074 959.349,293.943 975.72,301.77 992.106,309.545 1008.51,317.256 1024.93,324.892 1041.38,332.445 1057.85,339.902 1074.36,347.253 1090.89,354.489 1107.46,361.597 1124.07,368.568 1140.72,375.391 1157.41,382.055 1174.15,388.55 1190.94,394.866 1207.78,400.991 1224.68,406.915 1241.64,412.628 1258.65,418.119 1275.74,423.377 1292.89,428.392 1310.1,433.154 1327.39,437.662 1344.75,441.928 1362.17,445.961 1379.65,449.771 1397.19,453.371 1414.79,456.769 1432.44,459.977 1450.14,463.006 1467.88,465.865 1485.67,468.566 1503.5,471.119 1521.37,473.534 1539.27,475.823 1557.21,477.995 1575.17,480.061 1593.16,482.033 1611.17,483.919 1629.21,485.732 1647.26,487.482 1665.33,489.178 1683.41,490.832 1701.49,492.455 1719.59,494.056 1737.68,495.647 \"/>\n",
       "<polyline clip-path=\"url(#clip502)\" style=\"stroke:#000000; stroke-linecap:round; stroke-linejoin:round; stroke-width:4; stroke-opacity:1; fill:none\" points=\"893.952,262.317 892.393,280.115 890.824,297.909 889.234,315.698 887.612,333.478 885.947,351.246 884.23,368.999 882.45,386.735 880.596,404.45 878.657,422.141 876.623,439.806 874.483,457.441 872.227,475.044 869.845,492.611 867.325,510.14 864.657,527.627 861.831,545.071 858.836,562.467 855.661,579.812 852.296,597.105 848.73,614.342 844.953,631.519 840.955,648.635 836.723,665.685 832.249,682.668 827.522,699.58 822.542,716.421 817.318,733.194 811.863,749.902 806.185,766.548 800.296,783.136 794.207,799.667 787.927,816.145 781.468,832.572 774.84,848.953 768.053,865.289 761.119,881.584 754.047,897.84 746.848,914.061 739.533,930.25 732.113,946.409 724.597,962.542 716.997,978.65 709.323,994.739 701.585,1010.81 693.795,1026.86 685.963,1042.91 678.098,1058.94 670.213,1074.97 662.317,1091 \"/>\n",
       "<polyline clip-path=\"url(#clip502)\" style=\"stroke:#000000; stroke-linecap:round; stroke-linejoin:round; stroke-width:4; stroke-opacity:1; fill:none\" points=\"1737.68,495.647 1736.29,513.677 1734.89,531.704 1733.47,549.725 1732.01,567.739 1730.52,585.74 1728.97,603.728 1727.36,621.699 1725.67,639.65 1723.9,657.578 1722.03,675.482 1720.05,693.357 1717.96,711.201 1715.75,729.011 1713.39,746.784 1710.89,764.518 1708.23,782.21 1705.39,799.857 1702.38,817.455 1699.18,835.003 1695.77,852.498 1692.16,869.936 1688.32,887.314 1684.25,904.631 1679.93,921.883 1675.36,939.068 1670.53,956.184 1665.47,973.236 1660.17,990.226 1654.64,1007.16 1648.91,1024.03 1642.97,1040.85 1636.84,1057.62 1630.53,1074.34 1624.06,1091.02 1617.42,1107.66 1610.63,1124.25 1603.71,1140.81 1596.66,1157.34 1589.49,1173.83 1582.22,1190.3 1574.85,1206.74 1567.4,1223.15 1559.87,1239.55 1552.28,1255.93 1544.64,1272.3 1536.95,1288.66 1529.23,1305 1521.49,1321.34 1513.75,1337.68 \"/>\n",
       "<polyline clip-path=\"url(#clip502)\" style=\"stroke:#000000; stroke-linecap:round; stroke-linejoin:round; stroke-width:4; stroke-opacity:1; fill:none\" points=\"1513.75,1337.68 1495.45,1335.81 1477.16,1333.92 1458.88,1332.02 1440.61,1330.08 1422.35,1328.1 1404.1,1326.07 1385.87,1323.97 1367.67,1321.8 1349.49,1319.55 1331.33,1317.2 1313.21,1314.75 1295.12,1312.18 1277.06,1309.48 1259.05,1306.65 1241.08,1303.67 1223.15,1300.53 1205.28,1297.22 1187.45,1293.74 1169.68,1290.06 1151.97,1286.19 1134.32,1282.1 1116.73,1277.79 1099.21,1273.25 1081.77,1268.47 1064.39,1263.44 1047.09,1258.15 1029.85,1252.62 1012.69,1246.86 995.587,1240.88 978.546,1234.68 961.564,1228.29 944.636,1221.71 927.761,1214.95 910.934,1208.02 894.153,1200.93 877.415,1193.69 860.716,1186.32 844.054,1178.82 827.426,1171.21 810.828,1163.49 794.258,1155.67 777.712,1147.77 761.187,1139.8 744.681,1131.76 728.19,1123.67 711.711,1115.54 695.241,1107.38 678.778,1099.19 662.317,1091 \"/>\n",
       "<path clip-path=\"url(#clip502)\" d=\"M1262.77 492.746 L1340.2 492.746 L1340.2 368.864 L1262.77 368.864 L1262.77 492.746 L1262.77 492.746  Z\" fill=\"#ffffff\" fill-rule=\"evenodd\" fill-opacity=\"1\"/>\n",
       "<polyline clip-path=\"url(#clip502)\" style=\"stroke:#000000; stroke-linecap:round; stroke-linejoin:round; stroke-width:0; stroke-opacity:0; fill:none\" points=\"1262.77,492.746 1340.2,492.746 1340.2,368.864 1262.77,368.864 1262.77,492.746 \"/>\n",
       "<path clip-path=\"url(#clip502)\" d=\"M1056.55 262.317 L1056.03 249.399 L1054.49 236.562 L1051.94 223.889 L1048.39 211.458 L1043.86 199.349 L1038.38 187.638 L1031.99 176.399 L1024.73 165.703 L1016.64 155.618 L1007.78 146.208 L998.19 137.531 L987.947 129.644 L977.109 122.596 L965.745 116.43 L953.927 111.188 L941.73 106.9 L929.231 103.596 L916.509 101.294 L903.645 100.011 L890.719 99.7541 L877.813 100.525 L865.01 102.318 L852.39 105.124 L840.032 108.923 L828.015 113.692 L816.415 119.4 L805.306 126.012 L794.756 133.486 L784.834 141.774 L775.602 150.825 L767.118 160.58 L759.436 170.979 L752.604 181.955 L746.666 193.439 L741.66 205.358 L737.616 217.638 L734.56 230.2 L732.512 242.965 L731.485 255.853 L731.485 268.781 L732.512 281.669 L734.56 294.434 L737.616 306.996 L741.66 319.276 L746.666 331.196 L752.604 342.68 L759.436 353.656 L767.118 364.054 L775.602 373.81 L784.834 382.86 L794.756 391.149 L805.306 398.622 L816.415 405.234 L828.015 410.943 L840.032 415.712 L852.39 419.511 L865.01 422.316 L877.813 424.11 L890.719 424.88 L903.645 424.623 L916.509 423.34 L929.231 421.039 L941.73 417.734 L953.927 413.447 L965.745 408.204 L977.109 402.039 L987.947 394.99 L998.19 387.103 L1007.78 378.427 L1016.64 369.016 L1024.73 358.931 L1031.99 348.236 L1038.38 336.997 L1043.86 325.286 L1048.39 313.176 L1051.94 300.746 L1054.49 288.072 L1056.03 275.235 L1056.55 262.317 L1056.55 262.317  Z\" fill=\"#6495ed\" fill-rule=\"evenodd\" fill-opacity=\"1\"/>\n",
       "<polyline clip-path=\"url(#clip502)\" style=\"stroke:#000000; stroke-linecap:round; stroke-linejoin:round; stroke-width:4; stroke-opacity:1; fill:none\" points=\"1056.55,262.317 1056.03,249.399 1054.49,236.562 1051.94,223.889 1048.39,211.458 1043.86,199.349 1038.38,187.638 1031.99,176.399 1024.73,165.703 1016.64,155.618 1007.78,146.208 998.19,137.531 987.947,129.644 977.109,122.596 965.745,116.43 953.927,111.188 941.73,106.9 929.231,103.596 916.509,101.294 903.645,100.011 890.719,99.7541 877.813,100.525 865.01,102.318 852.39,105.124 840.032,108.923 828.015,113.692 816.415,119.4 805.306,126.012 794.756,133.486 784.834,141.774 775.602,150.825 767.118,160.58 759.436,170.979 752.604,181.955 746.666,193.439 741.66,205.358 737.616,217.638 734.56,230.2 732.512,242.965 731.485,255.853 731.485,268.781 732.512,281.669 734.56,294.434 737.616,306.996 741.66,319.276 746.666,331.196 752.604,342.68 759.436,353.656 767.118,364.054 775.602,373.81 784.834,382.86 794.756,391.149 805.306,398.622 816.415,405.234 828.015,410.943 840.032,415.712 852.39,419.511 865.01,422.316 877.813,424.11 890.719,424.88 903.645,424.623 916.509,423.34 929.231,421.039 941.73,417.734 953.927,413.447 965.745,408.204 977.109,402.039 987.947,394.99 998.19,387.103 1007.78,378.427 1016.64,369.016 1024.73,358.931 1031.99,348.236 1038.38,336.997 1043.86,325.286 1048.39,313.176 1051.94,300.746 1054.49,288.072 1056.03,275.235 1056.55,262.317 \"/>\n",
       "<path clip-path=\"url(#clip502)\" d=\"M1900.28 495.647 L1899.76 482.728 L1898.23 469.892 L1895.67 457.218 L1892.12 444.787 L1887.59 432.678 L1882.11 420.967 L1875.72 409.728 L1868.46 399.032 L1860.37 388.947 L1851.51 379.537 L1841.92 370.861 L1831.68 362.974 L1820.84 355.925 L1809.48 349.76 L1797.66 344.517 L1785.46 340.23 L1772.96 336.925 L1760.24 334.624 L1747.38 333.341 L1734.45 333.084 L1721.54 333.854 L1708.74 335.648 L1696.12 338.453 L1683.76 342.252 L1671.75 347.021 L1660.15 352.729 L1649.04 359.342 L1638.49 366.815 L1628.57 375.104 L1619.33 384.154 L1610.85 393.909 L1603.17 404.308 L1596.34 415.284 L1590.4 426.768 L1585.39 438.688 L1581.35 450.967 L1578.29 463.53 L1576.24 476.295 L1575.22 489.182 L1575.22 502.111 L1576.24 514.998 L1578.29 527.764 L1581.35 540.326 L1585.39 552.606 L1590.4 564.525 L1596.34 576.009 L1603.17 586.985 L1610.85 597.384 L1619.33 607.139 L1628.57 616.19 L1638.49 624.478 L1649.04 631.952 L1660.15 638.564 L1671.75 644.272 L1683.76 649.041 L1696.12 652.84 L1708.74 655.645 L1721.54 657.439 L1734.45 658.21 L1747.38 657.953 L1760.24 656.67 L1772.96 654.368 L1785.46 651.064 L1797.66 646.776 L1809.48 641.533 L1820.84 635.368 L1831.68 628.32 L1841.92 620.432 L1851.51 611.756 L1860.37 602.346 L1868.46 592.261 L1875.72 581.565 L1882.11 570.326 L1887.59 558.615 L1892.12 546.506 L1895.67 534.075 L1898.23 521.401 L1899.76 508.565 L1900.28 495.647 L1900.28 495.647  Z\" fill=\"#6495ed\" fill-rule=\"evenodd\" fill-opacity=\"1\"/>\n",
       "<polyline clip-path=\"url(#clip502)\" style=\"stroke:#000000; stroke-linecap:round; stroke-linejoin:round; stroke-width:4; stroke-opacity:1; fill:none\" points=\"1900.28,495.647 1899.76,482.728 1898.23,469.892 1895.67,457.218 1892.12,444.787 1887.59,432.678 1882.11,420.967 1875.72,409.728 1868.46,399.032 1860.37,388.947 1851.51,379.537 1841.92,370.861 1831.68,362.974 1820.84,355.925 1809.48,349.76 1797.66,344.517 1785.46,340.23 1772.96,336.925 1760.24,334.624 1747.38,333.341 1734.45,333.084 1721.54,333.854 1708.74,335.648 1696.12,338.453 1683.76,342.252 1671.75,347.021 1660.15,352.729 1649.04,359.342 1638.49,366.815 1628.57,375.104 1619.33,384.154 1610.85,393.909 1603.17,404.308 1596.34,415.284 1590.4,426.768 1585.39,438.688 1581.35,450.967 1578.29,463.53 1576.24,476.295 1575.22,489.182 1575.22,502.111 1576.24,514.998 1578.29,527.764 1581.35,540.326 1585.39,552.606 1590.4,564.525 1596.34,576.009 1603.17,586.985 1610.85,597.384 1619.33,607.139 1628.57,616.19 1638.49,624.478 1649.04,631.952 1660.15,638.564 1671.75,644.272 1683.76,649.041 1696.12,652.84 1708.74,655.645 1721.54,657.439 1734.45,658.21 1747.38,657.953 1760.24,656.67 1772.96,654.368 1785.46,651.064 1797.66,646.776 1809.48,641.533 1820.84,635.368 1831.68,628.32 1841.92,620.432 1851.51,611.756 1860.37,602.346 1868.46,592.261 1875.72,581.565 1882.11,570.326 1887.59,558.615 1892.12,546.506 1895.67,534.075 1898.23,521.401 1899.76,508.565 1900.28,495.647 1900.28,495.647 \"/>\n",
       "<path clip-path=\"url(#clip502)\" d=\"M1676.34 1337.68 L1675.83 1324.76 L1674.29 1311.93 L1671.73 1299.25 L1668.18 1286.82 L1663.65 1274.71 L1658.18 1263 L1651.79 1251.76 L1644.52 1241.07 L1636.43 1230.98 L1627.57 1221.57 L1617.98 1212.9 L1607.74 1205.01 L1596.9 1197.96 L1585.54 1191.8 L1573.72 1186.55 L1561.52 1182.27 L1549.02 1178.96 L1536.3 1176.66 L1523.44 1175.38 L1510.51 1175.12 L1497.61 1175.89 L1484.8 1177.68 L1472.18 1180.49 L1459.83 1184.29 L1447.81 1189.06 L1436.21 1194.77 L1425.1 1201.38 L1414.55 1208.85 L1404.63 1217.14 L1395.4 1226.19 L1386.91 1235.95 L1379.23 1246.34 L1372.4 1257.32 L1366.46 1268.8 L1361.45 1280.72 L1357.41 1293 L1354.35 1305.57 L1352.31 1318.33 L1351.28 1331.22 L1351.28 1344.15 L1352.31 1357.03 L1354.35 1369.8 L1357.41 1382.36 L1361.45 1394.64 L1366.46 1406.56 L1372.4 1418.05 L1379.23 1429.02 L1386.91 1439.42 L1395.4 1449.18 L1404.63 1458.23 L1414.55 1466.51 L1425.1 1473.99 L1436.21 1480.6 L1447.81 1486.31 L1459.83 1491.08 L1472.18 1494.88 L1484.8 1497.68 L1497.61 1499.48 L1510.51 1500.25 L1523.44 1499.99 L1536.3 1498.71 L1549.02 1496.4 L1561.52 1493.1 L1573.72 1488.81 L1585.54 1483.57 L1596.9 1477.4 L1607.74 1470.36 L1617.98 1462.47 L1627.57 1453.79 L1636.43 1444.38 L1644.52 1434.3 L1651.79 1423.6 L1658.18 1412.36 L1663.65 1400.65 L1668.18 1388.54 L1671.73 1376.11 L1674.29 1363.44 L1675.83 1350.6 L1676.34 1337.68 L1676.34 1337.68  Z\" fill=\"#6495ed\" fill-rule=\"evenodd\" fill-opacity=\"1\"/>\n",
       "<polyline clip-path=\"url(#clip502)\" style=\"stroke:#000000; stroke-linecap:round; stroke-linejoin:round; stroke-width:4; stroke-opacity:1; fill:none\" points=\"1676.34,1337.68 1675.83,1324.76 1674.29,1311.93 1671.73,1299.25 1668.18,1286.82 1663.65,1274.71 1658.18,1263 1651.79,1251.76 1644.52,1241.07 1636.43,1230.98 1627.57,1221.57 1617.98,1212.9 1607.74,1205.01 1596.9,1197.96 1585.54,1191.8 1573.72,1186.55 1561.52,1182.27 1549.02,1178.96 1536.3,1176.66 1523.44,1175.38 1510.51,1175.12 1497.61,1175.89 1484.8,1177.68 1472.18,1180.49 1459.83,1184.29 1447.81,1189.06 1436.21,1194.77 1425.1,1201.38 1414.55,1208.85 1404.63,1217.14 1395.4,1226.19 1386.91,1235.95 1379.23,1246.34 1372.4,1257.32 1366.46,1268.8 1361.45,1280.72 1357.41,1293 1354.35,1305.57 1352.31,1318.33 1351.28,1331.22 1351.28,1344.15 1352.31,1357.03 1354.35,1369.8 1357.41,1382.36 1361.45,1394.64 1366.46,1406.56 1372.4,1418.05 1379.23,1429.02 1386.91,1439.42 1395.4,1449.18 1404.63,1458.23 1414.55,1466.51 1425.1,1473.99 1436.21,1480.6 1447.81,1486.31 1459.83,1491.08 1472.18,1494.88 1484.8,1497.68 1497.61,1499.48 1510.51,1500.25 1523.44,1499.99 1536.3,1498.71 1549.02,1496.4 1561.52,1493.1 1573.72,1488.81 1585.54,1483.57 1596.9,1477.4 1607.74,1470.36 1617.98,1462.47 1627.57,1453.79 1636.43,1444.38 1644.52,1434.3 1651.79,1423.6 1658.18,1412.36 1663.65,1400.65 1668.18,1388.54 1671.73,1376.11 1674.29,1363.44 1675.83,1350.6 1676.34,1337.68 \"/>\n",
       "<path clip-path=\"url(#clip502)\" d=\"M824.912 1091 L824.398 1078.08 L822.86 1065.24 L820.306 1052.57 L816.753 1040.14 L812.225 1028.03 L806.748 1016.32 L800.358 1005.08 L793.095 994.385 L785.006 984.3 L776.141 974.889 L766.556 966.213 L756.312 958.326 L745.474 951.277 L734.11 945.112 L722.293 939.869 L710.096 935.582 L697.597 932.277 L684.875 929.976 L672.01 928.693 L659.084 928.436 L646.179 929.206 L633.376 931 L620.755 933.805 L608.397 937.604 L596.381 942.373 L584.781 948.082 L573.671 954.694 L563.122 962.168 L553.2 970.456 L543.968 979.506 L535.484 989.262 L527.801 999.66 L520.97 1010.64 L515.032 1022.12 L510.025 1034.04 L505.981 1046.32 L502.925 1058.88 L500.878 1071.65 L499.85 1084.53 L499.85 1097.46 L500.878 1110.35 L502.925 1123.12 L505.981 1135.68 L510.025 1147.96 L515.032 1159.88 L520.97 1171.36 L527.801 1182.34 L535.484 1192.74 L543.968 1202.49 L553.2 1211.54 L563.122 1219.83 L573.671 1227.3 L584.781 1233.92 L596.381 1239.62 L608.397 1244.39 L620.755 1248.19 L633.376 1251 L646.179 1252.79 L659.084 1253.56 L672.01 1253.3 L684.875 1252.02 L697.597 1249.72 L710.096 1246.42 L722.293 1242.13 L734.11 1236.89 L745.474 1230.72 L756.312 1223.67 L766.556 1215.78 L776.141 1207.11 L785.006 1197.7 L793.095 1187.61 L800.358 1176.92 L806.748 1165.68 L812.225 1153.97 L816.753 1141.86 L820.306 1129.43 L822.86 1116.75 L824.398 1103.92 L824.912 1091 L824.912 1091  Z\" fill=\"#6495ed\" fill-rule=\"evenodd\" fill-opacity=\"1\"/>\n",
       "<polyline clip-path=\"url(#clip502)\" style=\"stroke:#000000; stroke-linecap:round; stroke-linejoin:round; stroke-width:4; stroke-opacity:1; fill:none\" points=\"824.912,1091 824.398,1078.08 822.86,1065.24 820.306,1052.57 816.753,1040.14 812.225,1028.03 806.748,1016.32 800.358,1005.08 793.095,994.385 785.006,984.3 776.141,974.889 766.556,966.213 756.312,958.326 745.474,951.277 734.11,945.112 722.293,939.869 710.096,935.582 697.597,932.277 684.875,929.976 672.01,928.693 659.084,928.436 646.179,929.206 633.376,931 620.755,933.805 608.397,937.604 596.381,942.373 584.781,948.082 573.671,954.694 563.122,962.168 553.2,970.456 543.968,979.506 535.484,989.262 527.801,999.66 520.97,1010.64 515.032,1022.12 510.025,1034.04 505.981,1046.32 502.925,1058.88 500.878,1071.65 499.85,1084.53 499.85,1097.46 500.878,1110.35 502.925,1123.12 505.981,1135.68 510.025,1147.96 515.032,1159.88 520.97,1171.36 527.801,1182.34 535.484,1192.74 543.968,1202.49 553.2,1211.54 563.122,1219.83 573.671,1227.3 584.781,1233.92 596.381,1239.62 608.397,1244.39 620.755,1248.19 633.376,1251 646.179,1252.79 659.084,1253.56 672.01,1253.3 684.875,1252.02 697.597,1249.72 710.096,1246.42 722.293,1242.13 734.11,1236.89 745.474,1230.72 756.312,1223.67 766.556,1215.78 776.141,1207.11 785.006,1197.7 793.095,1187.61 800.358,1176.92 806.748,1165.68 812.225,1153.97 816.753,1141.86 820.306,1129.43 822.86,1116.75 824.398,1103.92 824.912,1091 824.912,1091 \"/>\n",
       "<circle clip-path=\"url(#clip502)\" style=\"fill:#6495ed; stroke:none; fill-opacity:0\" cx=\"893.952\" cy=\"262.317\" r=\"2\"/>\n",
       "<circle clip-path=\"url(#clip502)\" style=\"fill:#6495ed; stroke:none; fill-opacity:0\" cx=\"1737.68\" cy=\"495.647\" r=\"2\"/>\n",
       "<circle clip-path=\"url(#clip502)\" style=\"fill:#6495ed; stroke:none; fill-opacity:0\" cx=\"1513.75\" cy=\"1337.68\" r=\"2\"/>\n",
       "<circle clip-path=\"url(#clip502)\" style=\"fill:#6495ed; stroke:none; fill-opacity:0\" cx=\"662.317\" cy=\"1091\" r=\"2\"/>\n",
       "<path clip-path=\"url(#clip500)\" d=\"M1322.39 408.878 L1322.39 416.274 Q1318.85 412.975 1314.82 411.343 Q1310.83 409.711 1306.31 409.711 Q1297.42 409.711 1292.7 415.163 Q1287.98 420.579 1287.98 430.857 Q1287.98 441.1 1292.7 446.552 Q1297.42 451.968 1306.31 451.968 Q1310.83 451.968 1314.82 450.336 Q1318.85 448.704 1322.39 445.406 L1322.39 452.732 Q1318.71 455.232 1314.58 456.482 Q1310.48 457.732 1305.9 457.732 Q1294.12 457.732 1287.35 450.545 Q1280.58 443.322 1280.58 430.857 Q1280.58 418.357 1287.35 411.17 Q1294.12 403.948 1305.9 403.948 Q1310.55 403.948 1314.65 405.198 Q1318.78 406.413 1322.39 408.878 Z\" fill=\"#000000\" fill-rule=\"nonzero\" fill-opacity=\"1\" /><path clip-path=\"url(#clip500)\" d=\"M879.525 282.334 L890.983 282.334 L890.983 242.786 L878.518 245.286 L878.518 238.897 L890.914 236.397 L897.927 236.397 L897.927 282.334 L909.386 282.334 L909.386 288.237 L879.525 288.237 L879.525 282.334 Z\" fill=\"#000000\" fill-rule=\"nonzero\" fill-opacity=\"1\" /><path clip-path=\"url(#clip500)\" d=\"M1729.66 515.664 L1754.14 515.664 L1754.14 521.567 L1721.22 521.567 L1721.22 515.664 Q1725.22 511.532 1732.09 504.588 Q1739 497.608 1740.77 495.595 Q1744.14 491.81 1745.46 489.206 Q1746.81 486.567 1746.81 484.032 Q1746.81 479.9 1743.9 477.296 Q1741.02 474.692 1736.36 474.692 Q1733.06 474.692 1729.38 475.838 Q1725.74 476.984 1721.57 479.31 L1721.57 472.227 Q1725.81 470.525 1729.49 469.657 Q1733.17 468.789 1736.22 468.789 Q1744.28 468.789 1749.07 472.817 Q1753.86 476.845 1753.86 483.581 Q1753.86 486.775 1752.65 489.657 Q1751.47 492.504 1748.31 496.393 Q1747.44 497.4 1742.79 502.226 Q1738.13 507.018 1729.66 515.664 Z\" fill=\"#000000\" fill-rule=\"nonzero\" fill-opacity=\"1\" /><path clip-path=\"url(#clip500)\" d=\"M1520.12 1335.65 Q1525.15 1336.73 1527.96 1340.13 Q1530.81 1343.53 1530.81 1348.53 Q1530.81 1356.21 1525.53 1360.41 Q1520.26 1364.61 1510.53 1364.61 Q1507.27 1364.61 1503.8 1363.95 Q1500.36 1363.33 1496.68 1362.04 L1496.68 1355.27 Q1499.6 1356.97 1503.07 1357.84 Q1506.54 1358.71 1510.33 1358.71 Q1516.92 1358.71 1520.36 1356.1 Q1523.83 1353.5 1523.83 1348.53 Q1523.83 1343.95 1520.6 1341.38 Q1517.41 1338.78 1511.68 1338.78 L1505.64 1338.78 L1505.64 1333.01 L1511.96 1333.01 Q1517.13 1333.01 1519.87 1330.96 Q1522.62 1328.88 1522.62 1324.99 Q1522.62 1321 1519.77 1318.88 Q1516.96 1316.73 1511.68 1316.73 Q1508.8 1316.73 1505.5 1317.35 Q1502.2 1317.98 1498.24 1319.3 L1498.24 1313.05 Q1502.23 1311.94 1505.71 1311.38 Q1509.21 1310.83 1512.3 1310.83 Q1520.29 1310.83 1524.94 1314.47 Q1529.6 1318.08 1529.6 1324.26 Q1529.6 1328.57 1527.13 1331.55 Q1524.67 1334.51 1520.12 1335.65 Z\" fill=\"#000000\" fill-rule=\"nonzero\" fill-opacity=\"1\" /><path clip-path=\"url(#clip500)\" d=\"M666.831 1071.19 L649.123 1098.86 L666.831 1098.86 L666.831 1071.19 M664.991 1065.08 L673.81 1065.08 L673.81 1098.86 L681.206 1098.86 L681.206 1104.7 L673.81 1104.7 L673.81 1116.92 L666.831 1116.92 L666.831 1104.7 L643.428 1104.7 L643.428 1097.93 L664.991 1065.08 Z\" fill=\"#000000\" fill-rule=\"nonzero\" fill-opacity=\"1\" /></svg>\n"
      ]
     },
     "metadata": {},
     "output_type": "display_data"
    }
   ],
   "source": [
    "# notebook cell 1\n",
    "using Graphs, Plots, GraphRecipes\n",
    "gr()\n",
    "\n",
    "g = Graph(4)\n",
    "add_edge!(g, 1, 2)\n",
    "add_edge!(g, 2, 3)\n",
    "add_edge!(g, 3, 4)\n",
    "add_edge!(g, 1, 4)\n",
    "\n",
    "graphplot(g;\n",
    "    names=1:nv(g),\n",
    "    edgelabel=[\"A\", \"B\", \"C\", \"D\"],\n",
    "    method=:spring,\n",
    "    nodeshape=:circle,\n",
    "    nodesize=0.3,\n",
    "    nodecolor=:cornflowerblue,\n",
    "    fontsize=12)\n"
   ]
  }
 ],
 "metadata": {
  "kernelspec": {
   "display_name": "Julia 1.11.4",
   "language": "julia",
   "name": "julia-1.11"
  },
  "language_info": {
   "file_extension": ".jl",
   "mimetype": "application/julia",
   "name": "julia",
   "version": "1.11.4"
  }
 },
 "nbformat": 4,
 "nbformat_minor": 5
}
